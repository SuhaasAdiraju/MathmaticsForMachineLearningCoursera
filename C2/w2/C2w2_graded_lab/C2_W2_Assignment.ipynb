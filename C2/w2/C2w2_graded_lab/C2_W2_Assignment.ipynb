{
  "cells": [
    {
      "cell_type": "markdown",
      "metadata": {
        "id": "EAt-K2qgcIou"
      },
      "source": [
        "# Optimization Using Gradient Descent: Linear Regression"
      ]
    },
    {
      "cell_type": "markdown",
      "metadata": {
        "id": "FZYK-0rin5x7"
      },
      "source": [
        "In this assignment, you will build a simple linear regression model to predict sales based on TV marketing expenses. You will investigate three different approaches to this problem. You will use `NumPy` and `Scikit-Learn` linear regression models, as well as construct and optimize the sum of squares cost function with gradient descent from scratch."
      ]
    },
    {
      "cell_type": "markdown",
      "metadata": {
        "id": "xp890r-B605n"
      },
      "source": [
        "# Table of Contents\n",
        "\n",
        "- [ 1 - Open the Dataset and State the Problem](#1)\n",
        "  - [ Exercise 1](#ex01)\n",
        "- [ 2 - Linear Regression in Python with `NumPy` and `Scikit-Learn`](#2)\n",
        "  - [ 2.1 - Linear Regression with `NumPy`](#2.1)\n",
        "    - [ Exercise 2](#ex02)\n",
        "  - [ 2.2 - Linear Regression with `Scikit-Learn`](#2.2)\n",
        "    - [ Exercise 3](#ex03)\n",
        "    - [ Exercise 4](#ex04)\n",
        "- [ 3 - Linear Regression using Gradient Descent](#3)\n",
        "  - [ Exercise 5](#ex05)\n",
        "  - [ Exercise 6](#ex06)"
      ]
    },
    {
      "cell_type": "markdown",
      "metadata": {
        "id": "Zt5F-jYS605n"
      },
      "source": [
        "## Packages\n",
        "\n",
        "Load the required packages:"
      ]
    },
    {
      "cell_type": "code",
      "execution_count": 2,
      "metadata": {
        "tags": [
          "graded"
        ],
        "id": "R4h8ZbRt605o"
      },
      "outputs": [],
      "source": [
        "import numpy as np\n",
        "# A library for programmatic plot generation.\n",
        "import matplotlib.pyplot as plt\n",
        "# A library for data manipulation and analysis.\n",
        "import pandas as pd\n",
        "# LinearRegression from sklearn.\n",
        "from sklearn.linear_model import LinearRegression"
      ]
    },
    {
      "cell_type": "markdown",
      "metadata": {
        "id": "bfyfnPEd605p"
      },
      "source": [
        "Import the unit tests defined for this notebook."
      ]
    },
    {
      "cell_type": "code",
      "execution_count": 3,
      "metadata": {
        "id": "SK0HhFLv605p",
        "outputId": "7ecf6c2f-84d9-4268-c1a2-73b4d43e73e9",
        "colab": {
          "base_uri": "https://localhost:8080/"
        }
      },
      "outputs": [
        {
          "output_type": "stream",
          "name": "stdout",
          "text": [
            "/content\n",
            "Cloning into 'Mathematics-for-Machine-Learning-and-Data-Science-Specialization-Coursera'...\n",
            "remote: Enumerating objects: 392, done.\u001b[K\n",
            "remote: Counting objects: 100% (140/140), done.\u001b[K\n",
            "remote: Compressing objects: 100% (124/124), done.\u001b[K\n",
            "remote: Total 392 (delta 14), reused 131 (delta 10), pack-reused 252 (from 1)\u001b[K\n",
            "Receiving objects: 100% (392/392), 84.81 MiB | 14.78 MiB/s, done.\n",
            "Resolving deltas: 100% (49/49), done.\n",
            "/content/Mathematics-for-Machine-Learning-and-Data-Science-Specialization-Coursera/C2/w2/C2w2_graded_lab\n"
          ]
        }
      ],
      "source": [
        "!pwd\n",
        "!git clone https://github.com/greyhatguy007/Mathematics-for-Machine-Learning-and-Data-Science-Specialization-Coursera.git\n",
        "\n",
        "%cd Mathematics-for-Machine-Learning-and-Data-Science-Specialization-Coursera/C2/w2/C2w2_graded_lab/\n",
        "\n",
        "import w2_unittest"
      ]
    },
    {
      "cell_type": "markdown",
      "metadata": {
        "id": "N_6Yjoy_605p"
      },
      "source": [
        "<a name='1'></a>\n",
        "## 1 - Open the Dataset and State the Problem"
      ]
    },
    {
      "cell_type": "markdown",
      "metadata": {
        "id": "S1-BUReM605q"
      },
      "source": [
        "In this lab, you will build a linear regression model for a simple [Kaggle dataset](https://www.kaggle.com/code/devzohaib/simple-linear-regression/notebook), saved in a file `data/tvmarketing.csv`. The dataset has only two fields: TV marketing expenses (`TV`) and sales amount (`Sales`)."
      ]
    },
    {
      "cell_type": "markdown",
      "metadata": {
        "id": "3X-5ZPv7605q"
      },
      "source": [
        "<a name='ex01'></a>\n",
        "### Exercise 1\n",
        "\n",
        "Use `pandas` function `pd.read_csv` to open the .csv file the from the `path`."
      ]
    },
    {
      "cell_type": "code",
      "execution_count": 4,
      "metadata": {
        "tags": [
          "graded"
        ],
        "id": "Nx0ptaKq605r"
      },
      "outputs": [],
      "source": [
        "path = \"data/tvmarketing.csv\"\n",
        "\n",
        "### START CODE HERE ### (~ 1 line of code)\n",
        "adv = pd.read_csv(path)\n",
        "### END CODE HERE ###"
      ]
    },
    {
      "cell_type": "code",
      "execution_count": 5,
      "metadata": {
        "tags": [
          "graded"
        ],
        "id": "MU707mBb605r",
        "outputId": "5a3f2ab5-55b4-4a4a-ef5e-8243f2493b93",
        "colab": {
          "base_uri": "https://localhost:8080/",
          "height": 682
        }
      },
      "outputs": [
        {
          "output_type": "execute_result",
          "data": {
            "text/plain": [
              "      TV  Sales\n",
              "0  230.1   22.1\n",
              "1   44.5   10.4\n",
              "2   17.2    9.3\n",
              "3  151.5   18.5\n",
              "4  180.8   12.9"
            ],
            "text/html": [
              "\n",
              "  <div id=\"df-16ace302-5570-4635-94f9-6816651e0077\" class=\"colab-df-container\">\n",
              "    <div>\n",
              "<style scoped>\n",
              "    .dataframe tbody tr th:only-of-type {\n",
              "        vertical-align: middle;\n",
              "    }\n",
              "\n",
              "    .dataframe tbody tr th {\n",
              "        vertical-align: top;\n",
              "    }\n",
              "\n",
              "    .dataframe thead th {\n",
              "        text-align: right;\n",
              "    }\n",
              "</style>\n",
              "<table border=\"1\" class=\"dataframe\">\n",
              "  <thead>\n",
              "    <tr style=\"text-align: right;\">\n",
              "      <th></th>\n",
              "      <th>TV</th>\n",
              "      <th>Sales</th>\n",
              "    </tr>\n",
              "  </thead>\n",
              "  <tbody>\n",
              "    <tr>\n",
              "      <th>0</th>\n",
              "      <td>230.1</td>\n",
              "      <td>22.1</td>\n",
              "    </tr>\n",
              "    <tr>\n",
              "      <th>1</th>\n",
              "      <td>44.5</td>\n",
              "      <td>10.4</td>\n",
              "    </tr>\n",
              "    <tr>\n",
              "      <th>2</th>\n",
              "      <td>17.2</td>\n",
              "      <td>9.3</td>\n",
              "    </tr>\n",
              "    <tr>\n",
              "      <th>3</th>\n",
              "      <td>151.5</td>\n",
              "      <td>18.5</td>\n",
              "    </tr>\n",
              "    <tr>\n",
              "      <th>4</th>\n",
              "      <td>180.8</td>\n",
              "      <td>12.9</td>\n",
              "    </tr>\n",
              "  </tbody>\n",
              "</table>\n",
              "</div>\n",
              "    <div class=\"colab-df-buttons\">\n",
              "\n",
              "  <div class=\"colab-df-container\">\n",
              "    <button class=\"colab-df-convert\" onclick=\"convertToInteractive('df-16ace302-5570-4635-94f9-6816651e0077')\"\n",
              "            title=\"Convert this dataframe to an interactive table.\"\n",
              "            style=\"display:none;\">\n",
              "\n",
              "  <svg xmlns=\"http://www.w3.org/2000/svg\" height=\"24px\" viewBox=\"0 -960 960 960\">\n",
              "    <path d=\"M120-120v-720h720v720H120Zm60-500h600v-160H180v160Zm220 220h160v-160H400v160Zm0 220h160v-160H400v160ZM180-400h160v-160H180v160Zm440 0h160v-160H620v160ZM180-180h160v-160H180v160Zm440 0h160v-160H620v160Z\"/>\n",
              "  </svg>\n",
              "    </button>\n",
              "\n",
              "  <style>\n",
              "    .colab-df-container {\n",
              "      display:flex;\n",
              "      gap: 12px;\n",
              "    }\n",
              "\n",
              "    .colab-df-convert {\n",
              "      background-color: #E8F0FE;\n",
              "      border: none;\n",
              "      border-radius: 50%;\n",
              "      cursor: pointer;\n",
              "      display: none;\n",
              "      fill: #1967D2;\n",
              "      height: 32px;\n",
              "      padding: 0 0 0 0;\n",
              "      width: 32px;\n",
              "    }\n",
              "\n",
              "    .colab-df-convert:hover {\n",
              "      background-color: #E2EBFA;\n",
              "      box-shadow: 0px 1px 2px rgba(60, 64, 67, 0.3), 0px 1px 3px 1px rgba(60, 64, 67, 0.15);\n",
              "      fill: #174EA6;\n",
              "    }\n",
              "\n",
              "    .colab-df-buttons div {\n",
              "      margin-bottom: 4px;\n",
              "    }\n",
              "\n",
              "    [theme=dark] .colab-df-convert {\n",
              "      background-color: #3B4455;\n",
              "      fill: #D2E3FC;\n",
              "    }\n",
              "\n",
              "    [theme=dark] .colab-df-convert:hover {\n",
              "      background-color: #434B5C;\n",
              "      box-shadow: 0px 1px 3px 1px rgba(0, 0, 0, 0.15);\n",
              "      filter: drop-shadow(0px 1px 2px rgba(0, 0, 0, 0.3));\n",
              "      fill: #FFFFFF;\n",
              "    }\n",
              "  </style>\n",
              "\n",
              "    <script>\n",
              "      const buttonEl =\n",
              "        document.querySelector('#df-16ace302-5570-4635-94f9-6816651e0077 button.colab-df-convert');\n",
              "      buttonEl.style.display =\n",
              "        google.colab.kernel.accessAllowed ? 'block' : 'none';\n",
              "\n",
              "      async function convertToInteractive(key) {\n",
              "        const element = document.querySelector('#df-16ace302-5570-4635-94f9-6816651e0077');\n",
              "        const dataTable =\n",
              "          await google.colab.kernel.invokeFunction('convertToInteractive',\n",
              "                                                    [key], {});\n",
              "        if (!dataTable) return;\n",
              "\n",
              "        const docLinkHtml = 'Like what you see? Visit the ' +\n",
              "          '<a target=\"_blank\" href=https://colab.research.google.com/notebooks/data_table.ipynb>data table notebook</a>'\n",
              "          + ' to learn more about interactive tables.';\n",
              "        element.innerHTML = '';\n",
              "        dataTable['output_type'] = 'display_data';\n",
              "        await google.colab.output.renderOutput(dataTable, element);\n",
              "        const docLink = document.createElement('div');\n",
              "        docLink.innerHTML = docLinkHtml;\n",
              "        element.appendChild(docLink);\n",
              "      }\n",
              "    </script>\n",
              "  </div>\n",
              "\n",
              "\n",
              "<div id=\"df-584e8240-cfce-4cca-9d42-9fe62605e58e\">\n",
              "  <button class=\"colab-df-quickchart\" onclick=\"quickchart('df-584e8240-cfce-4cca-9d42-9fe62605e58e')\"\n",
              "            title=\"Suggest charts\"\n",
              "            style=\"display:none;\">\n",
              "\n",
              "<svg xmlns=\"http://www.w3.org/2000/svg\" height=\"24px\"viewBox=\"0 0 24 24\"\n",
              "     width=\"24px\">\n",
              "    <g>\n",
              "        <path d=\"M19 3H5c-1.1 0-2 .9-2 2v14c0 1.1.9 2 2 2h14c1.1 0 2-.9 2-2V5c0-1.1-.9-2-2-2zM9 17H7v-7h2v7zm4 0h-2V7h2v10zm4 0h-2v-4h2v4z\"/>\n",
              "    </g>\n",
              "</svg>\n",
              "  </button>\n",
              "\n",
              "<style>\n",
              "  .colab-df-quickchart {\n",
              "      --bg-color: #E8F0FE;\n",
              "      --fill-color: #1967D2;\n",
              "      --hover-bg-color: #E2EBFA;\n",
              "      --hover-fill-color: #174EA6;\n",
              "      --disabled-fill-color: #AAA;\n",
              "      --disabled-bg-color: #DDD;\n",
              "  }\n",
              "\n",
              "  [theme=dark] .colab-df-quickchart {\n",
              "      --bg-color: #3B4455;\n",
              "      --fill-color: #D2E3FC;\n",
              "      --hover-bg-color: #434B5C;\n",
              "      --hover-fill-color: #FFFFFF;\n",
              "      --disabled-bg-color: #3B4455;\n",
              "      --disabled-fill-color: #666;\n",
              "  }\n",
              "\n",
              "  .colab-df-quickchart {\n",
              "    background-color: var(--bg-color);\n",
              "    border: none;\n",
              "    border-radius: 50%;\n",
              "    cursor: pointer;\n",
              "    display: none;\n",
              "    fill: var(--fill-color);\n",
              "    height: 32px;\n",
              "    padding: 0;\n",
              "    width: 32px;\n",
              "  }\n",
              "\n",
              "  .colab-df-quickchart:hover {\n",
              "    background-color: var(--hover-bg-color);\n",
              "    box-shadow: 0 1px 2px rgba(60, 64, 67, 0.3), 0 1px 3px 1px rgba(60, 64, 67, 0.15);\n",
              "    fill: var(--button-hover-fill-color);\n",
              "  }\n",
              "\n",
              "  .colab-df-quickchart-complete:disabled,\n",
              "  .colab-df-quickchart-complete:disabled:hover {\n",
              "    background-color: var(--disabled-bg-color);\n",
              "    fill: var(--disabled-fill-color);\n",
              "    box-shadow: none;\n",
              "  }\n",
              "\n",
              "  .colab-df-spinner {\n",
              "    border: 2px solid var(--fill-color);\n",
              "    border-color: transparent;\n",
              "    border-bottom-color: var(--fill-color);\n",
              "    animation:\n",
              "      spin 1s steps(1) infinite;\n",
              "  }\n",
              "\n",
              "  @keyframes spin {\n",
              "    0% {\n",
              "      border-color: transparent;\n",
              "      border-bottom-color: var(--fill-color);\n",
              "      border-left-color: var(--fill-color);\n",
              "    }\n",
              "    20% {\n",
              "      border-color: transparent;\n",
              "      border-left-color: var(--fill-color);\n",
              "      border-top-color: var(--fill-color);\n",
              "    }\n",
              "    30% {\n",
              "      border-color: transparent;\n",
              "      border-left-color: var(--fill-color);\n",
              "      border-top-color: var(--fill-color);\n",
              "      border-right-color: var(--fill-color);\n",
              "    }\n",
              "    40% {\n",
              "      border-color: transparent;\n",
              "      border-right-color: var(--fill-color);\n",
              "      border-top-color: var(--fill-color);\n",
              "    }\n",
              "    60% {\n",
              "      border-color: transparent;\n",
              "      border-right-color: var(--fill-color);\n",
              "    }\n",
              "    80% {\n",
              "      border-color: transparent;\n",
              "      border-right-color: var(--fill-color);\n",
              "      border-bottom-color: var(--fill-color);\n",
              "    }\n",
              "    90% {\n",
              "      border-color: transparent;\n",
              "      border-bottom-color: var(--fill-color);\n",
              "    }\n",
              "  }\n",
              "</style>\n",
              "\n",
              "  <script>\n",
              "    async function quickchart(key) {\n",
              "      const quickchartButtonEl =\n",
              "        document.querySelector('#' + key + ' button');\n",
              "      quickchartButtonEl.disabled = true;  // To prevent multiple clicks.\n",
              "      quickchartButtonEl.classList.add('colab-df-spinner');\n",
              "      try {\n",
              "        const charts = await google.colab.kernel.invokeFunction(\n",
              "            'suggestCharts', [key], {});\n",
              "      } catch (error) {\n",
              "        console.error('Error during call to suggestCharts:', error);\n",
              "      }\n",
              "      quickchartButtonEl.classList.remove('colab-df-spinner');\n",
              "      quickchartButtonEl.classList.add('colab-df-quickchart-complete');\n",
              "    }\n",
              "    (() => {\n",
              "      let quickchartButtonEl =\n",
              "        document.querySelector('#df-584e8240-cfce-4cca-9d42-9fe62605e58e button');\n",
              "      quickchartButtonEl.style.display =\n",
              "        google.colab.kernel.accessAllowed ? 'block' : 'none';\n",
              "    })();\n",
              "  </script>\n",
              "</div>\n",
              "\n",
              "    </div>\n",
              "  </div>\n"
            ],
            "application/vnd.google.colaboratory.intrinsic+json": {
              "type": "dataframe",
              "variable_name": "adv",
              "summary": "{\n  \"name\": \"adv\",\n  \"rows\": 200,\n  \"fields\": [\n    {\n      \"column\": \"TV\",\n      \"properties\": {\n        \"dtype\": \"number\",\n        \"std\": 85.85423631490808,\n        \"min\": 0.7,\n        \"max\": 296.4,\n        \"num_unique_values\": 190,\n        \"samples\": [\n          287.6,\n          286.0,\n          78.2\n        ],\n        \"semantic_type\": \"\",\n        \"description\": \"\"\n      }\n    },\n    {\n      \"column\": \"Sales\",\n      \"properties\": {\n        \"dtype\": \"number\",\n        \"std\": 5.217456565710478,\n        \"min\": 1.6,\n        \"max\": 27.0,\n        \"num_unique_values\": 121,\n        \"samples\": [\n          11.4,\n          21.2,\n          12.9\n        ],\n        \"semantic_type\": \"\",\n        \"description\": \"\"\n      }\n    }\n  ]\n}"
            }
          },
          "metadata": {},
          "execution_count": 5
        },
        {
          "output_type": "display_data",
          "data": {
            "text/plain": [
              "<google.colab._quickchart_helpers.SectionTitle at 0x7b6b4edefac0>"
            ],
            "text/html": [
              "<h4 class=\"colab-quickchart-section-title\">Distributions</h4>\n",
              "<style>\n",
              "  .colab-quickchart-section-title {\n",
              "      clear: both;\n",
              "  }\n",
              "</style>"
            ]
          },
          "metadata": {}
        },
        {
          "output_type": "display_data",
          "data": {
            "text/plain": [
              "from matplotlib import pyplot as plt\n",
              "_df_0['TV'].plot(kind='hist', bins=20, title='TV')\n",
              "plt.gca().spines[['top', 'right',]].set_visible(False)"
            ],
            "text/html": [
              "      <div class=\"colab-quickchart-chart-with-code\" id=\"chart-07a275cc-1236-4a49-8694-e1e4435dbfdb\">\n",
              "        <img style=\"width: 180px;\" src=\"data:image/png;base64,iVBORw0KGgoAAAANSUhEUgAAAioAAAGrCAYAAADuNLxTAAAAOXRFWHRTb2Z0d2FyZQBNYXRwbG90\n",
              "bGliIHZlcnNpb24zLjcuMSwgaHR0cHM6Ly9tYXRwbG90bGliLm9yZy/bCgiHAAAACXBIWXMAAA9h\n",
              "AAAPYQGoP6dpAAAb1klEQVR4nO3df6yW9X3/8dfxHD2tLT9ahMKAI8HDobZVEAszaNaqaYb7tuCk\n",
              "27TBgitwxGauYYmW2qbSrYUly1bWpuUohsWS0W7AViKbXZ3WHy0V0NZa2IRTxXPq+GFs5LipyDnc\n",
              "3z9MTzzFgx56bs7nyOOR3An3dX+4eN9eOeaZ677OfdVUKpVKAAAKdNpADwAA0BuhAgAUS6gAAMUS\n",
              "KgBAsYQKAFAsoQIAFEuoAADFEioAQLGECgBQLKECABRLqAAD5p3vfGf344wzzkhtbW2PbcuXL897\n",
              "3vOevPLKK8f83bvvvjunn356nnnmmQGYHDhZatzrByjB5z//+Tz00EP5wQ9+0L3t+eefz9ixY3PH\n",
              "HXfk6quv7rF+zpw5qaury8aNG0/ypMDJ5IwKUKzhw4fnmmuuyTe/+c0e29vb27Nly5bccMMNAzQZ\n",
              "cLIIFaBoN9xwQx544IHs2rWre9vtt9+exsbGXH755QM4GXAyCBWgaNOmTcvv/u7vZvXq1UmSzs7O\n",
              "rFmzJkuWLBngyYCTQagAxVuyZEm+9a1v5cUXX8x3v/vdHDp0KPPnzx/osYCTQKgAxfuTP/mT1NbW\n",
              "Zv369fnmN7+Za665JsOHDx/osYCToG6gBwB4I29729ty3XXX5ctf/nL27t2bHTt2DPRIwEnijAow\n",
              "KCxZsiR79+7NjBkzMm3atIEeBzhJfI8KAFAsZ1QAgGIJFQCgWEIFACiWUAEAiiVUAIBiCRUAoFhC\n",
              "BQAo1lsiVFatWjXQIwAAVfCWCJWnn356oEcAAKrgLREqAMBbk1ABAIolVACAYgkVAKBYQgUAKJZQ\n",
              "AQCKJVQAgGIJFQCgWEIFACiWUAEAiiVUAIBiCRUAoFhVDZUbb7wxEyZMSE1NTX7605/2uu6OO+7I\n",
              "pEmTcs4552TRokU5cuRINccCAAaJqobKxz/+8Tz00EM5++yze13z1FNP5Qtf+EIefPDBtLa25sCB\n",
              "A7ntttuqORYAMEhUNVR+7/d+L+PGjTvumg0bNmT27NkZPXp0ampqcv3112f9+vW9rj98+HA6Ojp6\n",
              "PLq6uvp7dACgAHUDPUBbW1uPMy4TJkxIW1tbr+tXrFiR5cuX99h20UUXVWW2CZ/dUpX9Jsnelf+v\n",
              "KvsdjDPDW021fg4H68+g/x4nx1v1v/Ogu5h22bJlOXToUI/HjBkzBnosAKAKBvyMSkNDQ37xi190\n",
              "P9+7d28aGhp6XV9fX5/6+voe22pra6s2HwAwcAb8jMrcuXOzefPm7N+/P5VKJatXr87VV1890GMB\n",
              "AAWoaqg0Nzdn3Lhx+eUvf5nf//3fT2NjY5Jk4cKF2bx5c5Jk4sSJWb58eS6++OI0NjZm5MiRaW5u\n",
              "ruZYAMAgUdWPflpaWl53+5o1a3o8X7RoURYtWlTNUQCAQWjAP/oBAOiNUAEAiiVUAIBiCRUAoFhC\n",
              "BQAollABAIolVACAYgkVAKBYQgUAKJZQAQCKJVQAgGIJFQCgWEIFACiWUAEAiiVUAIBiCRUAoFhC\n",
              "BQAollABAIolVACAYgkVAKBYQgUAKJZQAQCKJVQAgGIJFQCgWEIFACiWUAEAiiVUAIBiCRUAoFhC\n",
              "BQAollABAIolVACAYgkVAKBYQgUAKJZQAQCKJVQAgGIJFQCgWEIFACiWUAEAiiVUAIBiCRUAoFhC\n",
              "BQAollABAIolVACAYgkVAKBYQgUAKJZQAQCKJVQAgGIJFQCgWEIFACiWUAEAiiVUAIBiCRUAoFhC\n",
              "BQAollABAIolVACAYgkVAKBYQgUAKJZQAQCKJVQAgGIJFQCgWEIFAChWVUNlz549mTlzZpqamjJ9\n",
              "+vTs3LnzmDVHjx7N0qVL8773vS/nn39+Lr300rS2tlZzLABgkKhqqDQ3N2fx4sXZvXt3br755ixY\n",
              "sOCYNZs3b84Pf/jDPPbYY/nZz36Wyy+/PJ/73OeqORYAMEhULVQOHjyYHTt2ZN68eUmSuXPnpr29\n",
              "/ZizJTU1NTl8+HBefvnlVCqVdHR0ZNy4cdUaCwAYROqqteP29vaMGTMmdXWv/hM1NTVpaGhIW1tb\n",
              "Ghsbu9d97GMfy3333ZfRo0dnyJAhGTt2bO6///5e93v48OEcPny4x7aurq7qvAkAYEAN+MW0O3bs\n",
              "yM9//vM888wz+Z//+Z9cfvnluf7663tdv2LFigwbNqzHY9u2bSdxYgDgZKlaqIwfPz779u1LZ2dn\n",
              "kqRSqaStrS0NDQ091t1555257LLLMnz48Jx22mmZP39+7rvvvl73u2zZshw6dKjHY8aMGdV6GwDA\n",
              "AKpaqIwaNSrTpk3LunXrkiQbN27MuHHjenzskyQTJ07Mvffem1deeSVJctddd+UDH/hAr/utr6/P\n",
              "0KFDezxqa2ur9TYAgAFUtWtUkqSlpSULFizIV77ylQwdOjRr165NkixcuDCzZ8/O7Nmz8+lPfzr/\n",
              "9V//lSlTpuT000/P6NGjs3r16mqOBQAMElUNlcmTJ2fr1q3HbF+zZk33n+vr63P77bdXcwwAYJAa\n",
              "8ItpAQB6I1QAgGIJFQCgWEIFACiWUAEAiiVUAIBiCRUAoFhCBQAollABAIolVACAYgkVAKBYQgUA\n",
              "KJZQAQCKJVQAgGIJFQCgWEIFACiWUAEAiiVUAIBiCRUAoFhCBQAollABAIolVACAYgkVAKBYQgUA\n",
              "KJZQAQCKJVQAgGIJFQCgWEIFACiWUAEAiiVUAIBiCRUAoFhCBQAollABAIolVACAYgkVAKBYQgUA\n",
              "KJZQAQCKJVQAgGIJFQCgWEIFACiWUAEAiiVUAIBiCRUAoFhCBQAollABAIolVACAYgkVAKBYQgUA\n",
              "KJZQAQCKJVQAgGIJFQCgWEIFACiWUAEAiiVUAIBiCRUAoFhCBQAollABAIolVACAYgkVAKBYQgUA\n",
              "KJZQAQCKJVQAgGJVNVT27NmTmTNnpqmpKdOnT8/OnTtfd93jjz+eD3/4wzn33HNz7rnnZtOmTdUc\n",
              "CwAYJOqqufPm5uYsXrw4CxYsyIYNG7JgwYJs3769x5oXX3wxc+bMyZ133plLLrkkXV1d+dWvflXN\n",
              "sQCAQaJqZ1QOHjyYHTt2ZN68eUmSuXPnpr29Pa2trT3W/eM//mMuuuiiXHLJJUmS2trajBw5stf9\n",
              "Hj58OB0dHT0eXV1d1XobAMAAqlqotLe3Z8yYMamre/WkTU1NTRoaGtLW1tZj3a5du1JfX5+PfvSj\n",
              "mTp1aj75yU/m2Wef7XW/K1asyLBhw3o8tm3bVq23AQAMoD6Hyve+971+HaCzszP33HNPWlpa8pOf\n",
              "/CRjx47NkiVLel2/bNmyHDp0qMdjxowZ/ToTAFCGPofKl770pUyePDmrVq1KR0dHr+vGjx+fffv2\n",
              "pbOzM0lSqVTS1taWhoaGHusaGhpy6aWXZuzYsampqcm8efPy4x//uNf91tfXZ+jQoT0etbW1fX0b\n",
              "AMAg0OdQ+eEPf5hvf/vb+fnPf56mpqbccMMN2bVr1zHrRo0alWnTpmXdunVJko0bN2bcuHFpbGzs\n",
              "se6P//iPs3379u7o+bd/+7dMmTLlRN4LAPAWc0LXqFxwwQW5/fbbc/fdd+euu+7K+eefn4985CN5\n",
              "/PHHe6xraWlJS0tLmpqasnLlyqxduzZJsnDhwmzevDnJq2dUPve5z2XmzJk5//zzc++992b16tW/\n",
              "5dsCAN4KTujXk++555587Wtfy+OPP55Pf/rT+dSnPpUf/OAH+cM//MMev9UzefLkbN269Zi/v2bN\n",
              "mh7Pr7322lx77bUnMgoA8BbW51A599xzc9ZZZ+XGG2/MVVdd1X19yMc//vHccccd/T4gAHDq6nOo\n",
              "rFu3LhdeeOHrvvbv//7vv/VAAAC/1udrVB555JEe3xz73HPP5fbbb+/XoQAAkhMIlW984xt597vf\n",
              "3f18xIgR+cY3vtGvQwEAJCcQKpVK5ZhtvsIeAKiGPofKmDFj8k//9E/dz7/zne9kzJgx/ToUAEBy\n",
              "AhfTfvWrX82cOXNy0003JUnOPPPMfPe73+33wQAA+hwq733ve7Nr16488cQTSV79rhRfYQ8AVMMJ\n",
              "feFbTU1Nhg8fns7OzjzzzDNJcsw9fAAAflt9DpV/+Id/yI033pjTTz89p5326iUuNTU1OXjwYL8P\n",
              "BwCc2vocKn/5l3+Z7du3Z/LkydWYBwCgW59/6+ess84SKQDASdHnULnyyivz1a9+NQcPHkxHR0f3\n",
              "AwCgv/X5o59bbrklSbJ06dLU1NSkUqmkpqbGl74BAP2uz6Fy9OjRaswBAHCMPn/0k7x6Y8Jvfetb\n",
              "SZLnn38++/bt69ehAACSE7wp4Z/+6Z/m1ltvTfLq3ZM/8YlP9PdcAAB9D5XbbrstP/7xjzN06NAk\n",
              "yTnnnJNnn3223wcDAOhzqNTX1+ftb397j211dSf0BbcAAMfV51AZOXJkdu/enZqamiSvflOtr88H\n",
              "AKrhhO6efM011+S///u/M378+AwdOjR33XVXNWYDAE5xfQ6VxsbGPPzww3niiSdSqVTcPRkAqJo+\n",
              "h0pbW1uS5B3veEeSuHsyAFA1fQ6VCy+8sPsbaV9++eW8+OKLGTFihLsnAwD9rs+h8pu/irxp06Y8\n",
              "9thj/TYQAMCvndA3077WVVddlS1btvTHLAAAPfT5jMpr75Tc1dWVhx9+2N2TAYCq6HOoDB8+vPsa\n",
              "ldra2kyaNCl///d/X43ZAIBTnLsnAwDF+q2vUQEAqJY+n1E57bTTur8+/7UqlUpqamrS1dXVL4MB\n",
              "APQ5VL70pS/lpZdeypIlS5Ikq1evztvf/vZ85jOf6e/ZAIBTXJ9D5V/+5V/yyCOPdD//q7/6q1x4\n",
              "4YW55ZZb+nUwAIA+X6Pywgsv9PgW2oMHD+aFF17o16EAAJITOKPyF3/xF5kyZUr+4A/+IEly9913\n",
              "59Zbb+3vuQAA+h4qzc3Nufjii3PfffclSZYuXZr3v//9/T4YAECfQyVJRowYkfPOOy8f/vCH09nZ\n",
              "mVdeeSVnnHFGf88GAJzi+nyNyoYNG3LRRRfluuuuS5Ls3LkzV155ZX/PBQDQ91BZsWJFHn300Qwf\n",
              "PjxJMmXKlDz99NP9PRcAQN9Dpba2NiNGjOixzcc+AEA19DlUhgwZkgMHDnR/O+1//ud/5t3vfne/\n",
              "DwYA0OeLaf/6r/86V1xxRZ588slccskleeqpp7Jly5ZqzAYAnOL6FCpHjx5NV1dX7rvvvvzoRz9K\n",
              "pVLJzJkzu69XAQDoT30KldNOOy2LFy/OY489liuuuKJaMwEAJDmBa1QmTZqU1tbWaswCANBDn69R\n",
              "+dWvfpWpU6dm5syZeec739m9fdOmTf06GADAmw6VxYsX57bbbsv8+fMze/bsvOtd76rmXAAAbz5U\n",
              "duzYkSSZP39+pk2blkcffbRqQwEAJCdwjUqSVCqV/p4DAOAYb/qMyksvvZTHH388lUolL7/8cvef\n",
              "f+3888+vyoAAwKmrT6Eye/bs7uev/XNNTU2efPLJ/p0MADjlvelQ2bt3bxXHAAA41gldowIAcDII\n",
              "FQCgWEIFACiWUAEAiiVUAIBiCRUAoFhCBQAollABAIolVACAYlU1VPbs2ZOZM2emqakp06dPz86d\n",
              "O3tdW6lUctlll2X48OHVHAkAGESqGirNzc1ZvHhxdu/enZtvvjkLFizode3f/d3f5ZxzzqnmOADA\n",
              "IFO1UDl48GB27NiRefPmJUnmzp2b9vb2tLa2HrN2586d+dd//dd89rOffcP9Hj58OB0dHT0eXV1d\n",
              "/T4/ADDwqhYq7e3tGTNmTOrqXr3vYU1NTRoaGtLW1tZj3ZEjR7Jo0aK0tLSktrb2Dfe7YsWKDBs2\n",
              "rMdj27ZtVXkPAMDAGvCLaZcvX56rrroq55577ptav2zZshw6dKjHY8aMGVWeEgAYCHXV2vH48eOz\n",
              "b9++dHZ2pq6uLpVKJW1tbWloaOix7v77709bW1u+/vWvp7OzMx0dHZkwYUK2b9+ekSNHHrPf+vr6\n",
              "1NfX99j2Zs7EAACDT9XOqIwaNSrTpk3LunXrkiQbN27MuHHj0tjY2GPdgw8+mKeffjp79+7NQw89\n",
              "lKFDh2bv3r2vGykAwKmlqh/9tLS0pKWlJU1NTVm5cmXWrl2bJFm4cGE2b95czX8aAHgLqNpHP0ky\n",
              "efLkbN269Zjta9ased31EyZMyPPPP1/NkQCAQWTAL6YFAOiNUAEAiiVUAIBiCRUAoFhCBQAollAB\n",
              "AIolVACAYgkVAKBYQgUAKJZQAQCKJVQAgGIJFQCgWEIFACiWUAEAiiVUAIBiCRUAoFhCBQAollAB\n",
              "AIolVACAYgkVAKBYQgUAKJZQAQCKJVQAgGIJFQCgWEIFACiWUAEAiiVUAIBiCRUAoFhCBQAollAB\n",
              "AIolVACAYgkVAKBYQgUAKJZQAQCKJVQAgGIJFQCgWEIFACiWUAEAiiVUAIBiCRUAoFhCBQAollAB\n",
              "AIolVACAYgkVAKBYQgUAKJZQAQCKJVQAgGIJFQCgWEIFACiWUAEAiiVUAIBiCRUAoFhCBQAollAB\n",
              "AIolVACAYgkVAKBYQgUAKJZQAQCKJVQAgGIJFQCgWEIFACiWUAEAilXVUNmzZ09mzpyZpqamTJ8+\n",
              "PTt37jxmzb333psZM2bkfe97X97//vfnpptuytGjR6s5FgAwSFQ1VJqbm7N48eLs3r07N998cxYs\n",
              "WHDMmne961359re/nV27duWRRx7Jj370o9x5553VHAsAGCSqFioHDx7Mjh07Mm/evCTJ3Llz097e\n",
              "ntbW1h7rLrjggkycODFJ8ra3vS1Tp07N3r17e93v4cOH09HR0ePR1dVVrbcBAAygqoVKe3t7xowZ\n",
              "k7q6uiRJTU1NGhoa0tbW1uvf2b9/fzZs2JCPfvSjva5ZsWJFhg0b1uOxbdu2fp8fABh4xVxM29HR\n",
              "kY997GO56aab8sEPfrDXdcuWLcuhQ4d6PGbMmHESJwUATpa6au14/Pjx2bdvXzo7O1NXV5dKpZK2\n",
              "trY0NDQcs/aFF17IrFmzMmfOnCxduvS4+62vr099fX2PbbW1tf06OwBQhqqdURk1alSmTZuWdevW\n",
              "JUk2btyYcePGpbGxsce6//3f/82sWbMya9asfP7zn6/WOADAIFTVj35aWlrS0tKSpqamrFy5MmvX\n",
              "rk2SLFy4MJs3b06SrFq1Ktu2bcumTZsyderUTJ06NV/+8perORYAMEhU7aOfJJk8eXK2bt16zPY1\n",
              "a9Z0//mWW27JLbfcUs0xAIBBqpiLaQEAfpNQAQCKJVQAgGIJFQCgWEIFACiWUAEAiiVUAIBiCRUA\n",
              "oFhCBQAollABAIolVACAYgkVAKBYQgUAKJZQAQCKJVQAgGIJFQCgWEIFACiWUAEAiiVUAIBiCRUA\n",
              "oFhCBQAollABAIolVACAYgkVAKBYQgUAKJZQAQCKJVQAgGIJFQCgWEIFACiWUAEAiiVUAIBiCRUA\n",
              "oFhCBQAollABAIolVACAYgkVAKBYQgUAKJZQAQCKJVQAgGIJFQCgWEIFACiWUAEAiiVUAIBiCRUA\n",
              "oFhCBQAollABAIolVACAYgkVAKBYQgUAKJZQAQCKJVQAgGIJFQCgWEIFACiWUAEAiiVUAIBiCRUA\n",
              "oFhCBQAollABAIolVACAYgkVAKBYQgUAKFZVQ2XPnj2ZOXNmmpqaMn369OzcufN1191xxx2ZNGlS\n",
              "zjnnnCxatChHjhyp5lgAwCBR1VBpbm7O4sWLs3v37tx8881ZsGDBMWueeuqpfOELX8iDDz6Y1tbW\n",
              "HDhwILfddls1xwIABomqhcrBgwezY8eOzJs3L0kyd+7ctLe3p7W1tce6DRs2ZPbs2Rk9enRqampy\n",
              "/fXXZ/369b3u9/Dhw+no6Ojx6OrqqtbbAAAGUE2lUqlUY8ePPPJIPvGJT+SJJ57o3jZjxoysXLky\n",
              "l112Wfe2P/uzP8vv/M7vZNmyZUmSXbt2ZdasWWlra3vd/d56661Zvnx5j23vfe97c8UVV1ThXfCb\n",
              "urq6sm3btsyYMSO1tbUDPQ69cJwGB8dpcHCcqufss8/On//5nx93Td1JmqXfLFu2LEuXLu2xrb6+\n",
              "PvX19QM00amlo6Mjw4YNy/e+970MHTp0oMehF47T4OA4DQ6O08CqWqiMHz8++/btS2dnZ+rq6lKp\n",
              "VNLW1paGhoYe6xoaGvKLX/yi+/nevXuPWfNaogQATh1Vu0Zl1KhRmTZtWtatW5ck2bhxY8aNG5fG\n",
              "xsYe6+bOnZvNmzdn//79qVQqWb16da6++upqjQUADCJV/a2flpaWtLS0pKmpKStXrszatWuTJAsX\n",
              "LszmzZuTJBMnTszy5ctz8cUXp7GxMSNHjkxzc3M1xwIABomqXqMyefLkbN269Zjta9as6fF80aJF\n",
              "WbRoUTVHoZ/U19fni1/8oo/fCuc4DQ6O0+DgOA2sqv3WDwDAb8tX6AMAxRIqAECxhAoAUCyhAgAU\n",
              "S6hwXBMmTMjkyZMzderUTJ06Nd/5zneSvPk7Y9P/brzxxkyYMCE1NTX56U9/2r39eMfE8Tr5ejtO\n",
              "vf1MJY7TQHj55Zdz5ZVXpqmpKVOmTMlHPvKR7nvSHTx4MLNmzcqkSZPygQ98IA888ED33zvea/Sz\n",
              "ChzH2WefXfnJT35yzPZLL720snbt2kqlUqn88z//c+WDH/zgyR3sFHb//fdX2tvbjzk2xzsmjtfJ\n",
              "19tx6u1nqlJxnAbCSy+9VNmyZUvl6NGjlUqlUvna175W+dCHPlSpVCqV6667rvLFL36xUqlUKtu2\n",
              "bauMHTu28sorr7zha/QvocJxvd7/VA8cOFAZMmRI5ciRI5VKpVI5evRo5T3veU9lz549AzDhqeu1\n",
              "x+Z4x8TxGlhvNlQcpzJs3769cvbZZ1cqlUrlHe94R2Xfvn3dr02fPr3y/e9//w1fo3/56Ic39MlP\n",
              "fjLnnXdePvWpT+XZZ59Ne3t7xowZk7q6V78vsKamJg0NDb3e8ZrqO94xcbzK85s/U8nxjyEnz6pV\n",
              "qzJnzpw899xzOXLkSEaPHt392oQJE9LW1nbc1+h/QoXjeuCBB/Kzn/0sjz76aM4666zMnz9/oEeC\n",
              "Qc3PVLm+8pWvpLW1NStWrBjoUXiNqn6FPoPfr+9kffrpp+czn/lMmpqa3vSdsTl5jndMhg4d6ngV\n",
              "5PV+ppI3f8d5quNv/uZvsmnTptxzzz0588wzc+aZZ6auri779+/vPnOyd+/eNDQ0ZMSIEb2+Rv9z\n",
              "RoVe/d///V+ef/757ufr16/PBRdc8KbvjM3Jc7xj4niVo7efqeTN33Ge/ve3f/u3Wb9+fb7//e9n\n",
              "+PDh3dv/6I/+KKtXr06SbN++Pc8880w+9KEPveFr9C/3+qFXTz75ZObOnZuurq5UKpVMnDgxq1at\n",
              "yoQJE/LEE09kwYIFee655zJ06NCsXbs255133kCPfEpobm7Oli1bsn///owYMSJDhgxJa2vrcY+J\n",
              "43Xyvd5x+o//+I9ef6YSx2kg/PKXv8z48eMzceLEDBkyJMmrNyF8+OGHc+DAgVx77bV56qmncsYZ\n",
              "Z+TrX/96Lr300iQ57mv0L6ECABTLRz8AQLGECgBQLKECABRLqAAAxRIqAECxhAoAUCyhAgAUS6gA\n",
              "AMUSKgBAsYQKAFCs/w86rxKWGm3Y8AAAAABJRU5ErkJggg==\n",
              "\">\n",
              "      </div>\n",
              "      <script type=\"text/javascript\">\n",
              "        (() => {\n",
              "          const chartElement = document.getElementById(\"chart-07a275cc-1236-4a49-8694-e1e4435dbfdb\");\n",
              "          async function getCodeForChartHandler(event) {\n",
              "            const chartCodeResponse =  await google.colab.kernel.invokeFunction(\n",
              "                'getCodeForChart', [\"chart-07a275cc-1236-4a49-8694-e1e4435dbfdb\"], {});\n",
              "            const responseJson = chartCodeResponse.data['application/json'];\n",
              "            await google.colab.notebook.addCell(responseJson.code, 'code');\n",
              "          }\n",
              "          chartElement.onclick = getCodeForChartHandler;\n",
              "        })();\n",
              "      </script>\n",
              "      <style>\n",
              "        .colab-quickchart-chart-with-code  {\n",
              "            display: block;\n",
              "            float: left;\n",
              "            border: 1px solid transparent;\n",
              "        }\n",
              "\n",
              "        .colab-quickchart-chart-with-code:hover {\n",
              "            cursor: pointer;\n",
              "            border: 1px solid #aaa;\n",
              "        }\n",
              "      </style>"
            ]
          },
          "metadata": {}
        },
        {
          "output_type": "display_data",
          "data": {
            "text/plain": [
              "from matplotlib import pyplot as plt\n",
              "_df_1['Sales'].plot(kind='hist', bins=20, title='Sales')\n",
              "plt.gca().spines[['top', 'right',]].set_visible(False)"
            ],
            "text/html": [
              "      <div class=\"colab-quickchart-chart-with-code\" id=\"chart-236c7ee6-882a-4263-97c4-591474bff49c\">\n",
              "        <img style=\"width: 180px;\" src=\"data:image/png;base64,iVBORw0KGgoAAAANSUhEUgAAAioAAAGrCAYAAADuNLxTAAAAOXRFWHRTb2Z0d2FyZQBNYXRwbG90\n",
              "bGliIHZlcnNpb24zLjcuMSwgaHR0cHM6Ly9tYXRwbG90bGliLm9yZy/bCgiHAAAACXBIWXMAAA9h\n",
              "AAAPYQGoP6dpAAAgTElEQVR4nO3df1BVdf7H8dcV8vZDkMQfkHhhlR9pJobBuOia5Tprfgtdrd1q\n",
              "aaUS0Gq0sVYza0rXDZvZaXPdLVEbtpbtJ1qx/RxN1qxUoMwfmAkGXtZQzFbQSREu5/uHE+MNrisu\n",
              "h/NBn4+ZO+M9fTy+7wGvz+493OOyLMsSAACAgbo5PQAAAEAghAoAADAWoQIAAIxFqAAAAGMRKgAA\n",
              "wFiECgAAMBahAgAAjEWoAAAAYxEqAADAWIQKAKO5XC6tW7fO6TEAOIRQAWCryspK3X777briiivU\n",
              "o0cPXXHFFZo4caJqamqcHg1AF0CoALDVxIkTFRISop07d+rYsWPaunWrfv3rX8vlcjk9GoAugFAB\n",
              "YJvDhw9r9+7dmjFjhnr16iVJ6tevn6ZNm6aIiAjV1NTopptuUr9+/RQSEqJhw4bp9ddfP+M+t2zZ\n",
              "orFjxyo8PFzR0dF67LHH1NTUJEk6efKk7r33XkVERCgkJEQxMTFatmyZ7Y8TgH0IFQC2CQ8P19VX\n",
              "X63s7Gzl5eVp+/btam5ubvnvPp9Pd999t/bu3avvvvtOs2fP1h133KGysrI29/fVV19p3LhxmjFj\n",
              "hg4ePKiPPvpIhYWFeuqppyRJL7zwgjZt2qSdO3fq6NGj2rx5s0aNGtUpjxWAPQgVALYqKirSjTfe\n",
              "qOeee04pKSnq3bu3HnroITU0NCgqKkpTpkxRjx49dNFFF+mee+7RkCFDtH79+jb39de//lU333yz\n",
              "brvtNgUHBys6Olpz585VXl6eJKl79+46duyYdu3apcbGRkVERCgpKakzHy6ADhbs9AAAzm/h4eFa\n",
              "tGiRFi1apIaGBr333nuaNm2aevToodmzZ2vu3Llat26dDh8+rG7duunYsWOqra1tc1/l5eUqKipS\n",
              "WFhYy7bm5uaWV2nS09N16NAh/e53v9Pu3buVmpqqxYsXa8SIEZ3xUAHYgFdUAHQat9utyZMn6+c/\n",
              "/7k+//xzPfzww9q9e7c2bNiguro6HTlyRFdddZUsy2rz90dEROiOO+7QkSNHWm719fU6duyYJCko\n",
              "KEgPPfSQtmzZov3792vw4MGaNGlSZz5EAB2MUAFgm//85z96+OGHtX37djU0NMjn8+nDDz9UUVGR\n",
              "xowZo7q6Ol166aUKDw9XY2Ojli1bFvD8FEm69957VVBQoNdff10nT56Uz+dTRUWF3n//fUnS+vXr\n",
              "VVpaqpMnT+riiy9Wjx49FBQU1FkPF4ANCBUAtunevbu+/fZb3Xrrrerdu7fCw8M1e/ZszZs3Tw8+\n",
              "+KAWL16s48ePq1+/foqJidHBgwfPePJrcnKy1q5dq5UrV6p///4KDw/XLbfcon379kmSamtrlZGR\n",
              "oV69eqlPnz7asGGDCgoKOuvhArCBywr0GisAAIDDeEUFAAAYi1ABAADGIlQAAICxCBUAAGAsQgUA\n",
              "ABiLUAEAAMYiVAAAgLHOi1BZunSp0yMAAAAbnBeh8sOnUgIAgPPLeREqAADg/ESoAAAAYxEqAADA\n",
              "WIQKAAAwFqECAACMRagAAABjESoAAMBYhAoAADAWoQIAAIxFqAAAAGMRKgAAwFiECgAAMJatoTJr\n",
              "1izFxMTI5XLpiy++CLju+eefV1xcnAYNGqTMzEw1NjbaORYAAOgibA2VW265RR9//LGio6MDrqms\n",
              "rNRjjz2mjRs3qqKiQgcPHtSKFSvsHAsAAHQRtobKmDFjFBUVdcY1BQUFSktLU0REhFwul2bMmKGX\n",
              "X3454PqGhgbV19f73Xw+X0ePDgAADBDs9ABer9fvFZeYmBh5vd6A63NycrRw4UK/bSNHjrRltpiH\n",
              "37Flv3aqWvJ/To9gFDu/hhxrnE/4u9L12fU1dPrr1+VOpp0/f77q6ur8bikpKU6PBQAAbOD4Kyoe\n",
              "j0d79+5tuV9VVSWPxxNwvdvtltvt9tsWFBRk23wAAMA5jr+iMnXqVBUWFurAgQOyLEvLly/Xbbfd\n",
              "5vRYAADAALaGSnZ2tqKiovTvf/9bv/jFLxQbGytJmj59ugoLCyVJAwcO1MKFCzVq1CjFxsaqT58+\n",
              "ys7OtnMsAADQRdj61k9ubm6b21etWuV3PzMzU5mZmXaOAgAAuiDH3/oBAAAIhFABAADGIlQAAICx\n",
              "CBUAAGAsQgUAABiLUAEAAMYiVAAAgLEIFQAAYCxCBQAAGItQAQAAxiJUAACAsQgVAABgLEIFAAAY\n",
              "i1ABAADGIlQAAICxCBUAAGAsQgUAABiLUAEAAMYiVAAAgLEIFQAAYCxCBQAAGItQAQAAxiJUAACA\n",
              "sQgVAABgLEIFAAAYi1ABAADGIlQAAICxCBUAAGAsQgUAABiLUAEAAMYiVAAAgLEIFQAAYCxCBQAA\n",
              "GItQAQAAxiJUAACAsQgVAABgLEIFAAAYi1ABAADGIlQAAICxCBUAAGAsQgUAABiLUAEAAMYiVAAA\n",
              "gLEIFQAAYCxCBQAAGItQAQAAxiJUAACAsQgVAABgLEIFAAAYi1ABAADGIlQAAICxCBUAAGAsQgUA\n",
              "ABiLUAEAAMYiVAAAgLEIFQAAYCxCBQAAGItQAQAAxiJUAACAsQgVAABgLEIFAAAYy9ZQKS8vV2pq\n",
              "quLj45WcnKyysrJWa5qbmzVnzhwNGTJEw4YN0/XXX6+Kigo7xwIAAF2EraGSnZ2trKws7dmzR/Pm\n",
              "zVNGRkarNYWFhfrkk0+0bds2bd++XePGjdMjjzxi51gAAKCLsC1UamtrVVpaqvT0dEnS1KlTVV1d\n",
              "3erVEpfLpYaGBp04cUKWZam+vl5RUVF2jQUAALqQYLt2XF1drcjISAUHn/ojXC6XPB6PvF6vYmNj\n",
              "W9bdfPPNKioqUkREhEJCQtS/f39t2LAh4H4bGhrU0NDgt83n89nzIAAAgKMcP5m2tLRUO3fu1P79\n",
              "+/XNN99o3LhxmjFjRsD1OTk56tmzp9+tuLi4EycGAACdxbZQGTBggGpqatTU1CRJsixLXq9XHo/H\n",
              "b92LL76oG264QWFhYerWrZumTZumoqKigPudP3++6urq/G4pKSl2PQwAAOAg20Klb9++SkpKUn5+\n",
              "viRp9erVioqK8nvbR5IGDhyo9evX6+TJk5Kkt99+W0OHDg24X7fbrdDQUL9bUFCQXQ8DAAA4yLZz\n",
              "VCQpNzdXGRkZevLJJxUaGqq8vDxJ0vTp05WWlqa0tDTdd999+vLLL5WYmKiLLrpIERERWr58uZ1j\n",
              "AQCALsLWUElISNCmTZtabV+1alXLr91ut1auXGnnGAAAoIty/GRaAACAQAgVAABgLEIFAAAYi1AB\n",
              "AADGIlQAAICxCBUAAGAsQgUAABiLUAEAAMYiVAAAgLEIFQAAYCxCBQAAGItQAQAAxiJUAACAsQgV\n",
              "AABgLEIFAAAYi1ABAADGIlQAAICxCBUAAGAsQgUAABiLUAEAAMYiVAAAgLEIFQAAYCxCBQAAGItQ\n",
              "AQAAxiJUAACAsQgVAABgLEIFAAAYi1ABAADGIlQAAICxCBUAAGAsQgUAABiLUAEAAMYiVAAAgLEI\n",
              "FQAAYCxCBQAAGItQAQAAxiJUAACAsQgVAABgLEIFAAAYi1ABAADGIlQAAICxCBUAAGAsQgUAABiL\n",
              "UAEAAMYiVAAAgLEIFQAAYCxCBQAAGItQAQAAxiJUAACAsQgVAABgLEIFAAAYi1ABAADGIlQAAICx\n",
              "CBUAAGAsQgUAABiLUAEAAMYiVAAAgLEIFQAAYCxCBQAAGItQAQAAxiJUAACAsQgVAABgLFtDpby8\n",
              "XKmpqYqPj1dycrLKysraXLdjxw6NHTtWgwcP1uDBg7VmzRo7xwIAAF1EsJ07z87OVlZWljIyMlRQ\n",
              "UKCMjAyVlJT4rfn+++81adIkvfjiixo9erR8Pp++++47O8cCAABdhG2vqNTW1qq0tFTp6emSpKlT\n",
              "p6q6uloVFRV+61566SWNHDlSo0ePliQFBQWpT58+Affb0NCg+vp6v5vP57PrYQAAAAfZFirV1dWK\n",
              "jIxUcPCpF21cLpc8Ho+8Xq/ful27dsntduumm27S8OHD9dvf/laHDh0KuN+cnBz17NnT71ZcXGzX\n",
              "wwAAAA5qd6h88MEHHTpAU1OT1q1bp9zcXG3dulX9+/fXzJkzA66fP3++6urq/G4pKSkdOhMAADBD\n",
              "u0Nl0aJFSkhI0NKlS1VfXx9w3YABA1RTU6OmpiZJkmVZ8nq98ng8fus8Ho+uv/569e/fXy6XS+np\n",
              "6dq8eXPA/brdboWGhvrdgoKC2vswAABAF9DuUPnkk0/0yiuvaOfOnYqPj9e9996rXbt2tVrXt29f\n",
              "JSUlKT8/X5K0evVqRUVFKTY21m/dr371K5WUlLREz7vvvqvExMRzeSwAAOA8c07nqFxzzTVauXKl\n",
              "3n//fb399tsaNmyYxo8frx07dvity83NVW5uruLj47VkyRLl5eVJkqZPn67CwkJJp15ReeSRR5Sa\n",
              "mqphw4Zp/fr1Wr58+f/4sAAAwPngnH48ed26dVq2bJl27Nih++67T/fcc4/+9a9/6Ze//KXfT/Uk\n",
              "JCRo06ZNrX7/qlWr/O7feeeduvPOO89lFAAAcB5rd6gMHjxYvXv31qxZszRlypSW80NuueUWPf/8\n",
              "8x0+IAAAuHC1O1Ty8/M1YsSINv/be++99z8PBAAA8IN2n6Py2Wef+X1y7OHDh7Vy5coOHQoAAEA6\n",
              "h1B59tln1atXr5b74eHhevbZZzt0KAAAAOkcQsWyrFbb+Ah7AABgh3aHSmRkpF577bWW+6+++qoi\n",
              "IyM7dCgAAADpHE6mfeaZZzRp0iTNnTtXknTppZfqrbfe6vDBAAAA2h0qV155pXbt2qWvvvpK0qnP\n",
              "SuEj7AEAgB3O6QPfXC6XwsLC1NTUpP3790tSq2v4AAAA/K/aHSp/+9vfNGvWLF100UXq1u3UKS4u\n",
              "l0u1tbUdPhwAALiwtTtUfv/736ukpEQJCQl2zAMAANCi3T/107t3byIFAAB0inaHyuTJk/XMM8+o\n",
              "trZW9fX1LTcAAICO1u63fhYsWCBJmjNnjlwulyzLksvl4kPfAABAh2t3qDQ3N9sxBwAAQCvtfutH\n",
              "OnVhwr///e+SpCNHjqimpqZDhwIAAJDO8aKEd999t5544glJp66efMcdd3T0XAAAAO0PlRUrVmjz\n",
              "5s0KDQ2VJA0aNEiHDh3q8MEAAADaHSput1uXXHKJ37bg4HP6gFsAAIAzaneo9OnTR3v27JHL5ZJ0\n",
              "6pNq+fh8AABgh3O6evLtt9+u3bt3a8CAAQoNDdXbb79tx2wAAOAC1+5QiY2N1ZYtW/TVV1/Jsiyu\n",
              "ngwAAGzT7lDxer2SpMsuu0ySuHoyAACwTbtDZcSIES2fSHvixAl9//33Cg8P5+rJAACgw7U7VH78\n",
              "o8hr1qzRtm3bOmwgAACAH5zTJ9OebsqUKXrnnXc6YhYAAAA/7X5F5fQrJft8Pm3ZsoWrJwMAAFu0\n",
              "O1TCwsJazlEJCgpSXFyc/vznP9sxGwAAuMBx9WQAAGCs//kcFQAAALu0+xWVbt26tXx8/uksy5LL\n",
              "5ZLP5+uQwQAAANodKosWLdLx48c1c+ZMSdLy5ct1ySWX6IEHHujo2QAAwAWu3aHyxhtv6LPPPmu5\n",
              "v3jxYo0YMUILFizo0MEAAADafY7K0aNH/T6Ftra2VkePHu3QoQAAAKRzeEXlwQcfVGJioiZOnChJ\n",
              "ev/99/XEE0909FwAAADtD5Xs7GyNGjVKRUVFkqQ5c+boqquu6vDBAAAA2h0qkhQeHq6rr75aY8eO\n",
              "VVNTk06ePKnu3bt39GwAAOAC1+5zVAoKCjRy5EjdddddkqSysjJNnjy5o+cCAABof6jk5OTo888/\n",
              "V1hYmCQpMTFR+/bt6+i5AAAA2h8qQUFBCg8P99vG2z4AAMAO7Q6VkJAQHTx4sOXTaT/88EP16tWr\n",
              "wwcDAABo98m0Tz31lG688UZ9/fXXGj16tCorK/XOO+/YMRsAALjAtStUmpub5fP5VFRUpE8//VSW\n",
              "ZSk1NbXlfBUAAICO1K5Q6datm7KysrRt2zbdeOONds0EAAAg6RzOUYmLi1NFRYUdswAAAPhp9zkq\n",
              "3333nYYPH67U1FT16NGjZfuaNWs6dDAAAICzDpWsrCytWLFC06ZNU1pami6//HI75wIAADj7UCkt\n",
              "LZUkTZs2TUlJSfr8889tGwoAAEA6h3NUJMmyrI6eAwAAoJWzfkXl+PHj2rFjhyzL0okTJ1p+/YNh\n",
              "w4bZMiAAALhwtStU0tLSWu6f/muXy6Wvv/66YycDAAAXvLMOlaqqKhvHAAAAaO2czlEBAADoDIQK\n",
              "AAAwFqECAACMRagAAABjESoAAMBYhAoAADAWoQIAAIxFqAAAAGMRKgAAwFi2hkp5eblSU1MVHx+v\n",
              "5ORklZWVBVxrWZZuuOEGhYWF2TkSAADoQmwNlezsbGVlZWnPnj2aN2+eMjIyAq7905/+pEGDBtk5\n",
              "DgAA6GJsC5Xa2lqVlpYqPT1dkjR16lRVV1eroqKi1dqysjK9+eabevjhh//rfhsaGlRfX+938/l8\n",
              "HT4/AABwnm2hUl1drcjISAUHn7ruocvlksfjkdfr9VvX2NiozMxM5ebmKigo6L/uNycnRz179vS7\n",
              "FRcX2/IYAACAsxw/mXbhwoWaMmWKBg8efFbr58+fr7q6Or9bSkqKzVMCAAAnBNu14wEDBqimpkZN\n",
              "TU0KDg6WZVnyer3yeDx+6zZs2CCv16u//OUvampqUn19vWJiYlRSUqI+ffq02q/b7Zbb7fbbdjav\n",
              "xAAAgK7HtldU+vbtq6SkJOXn50uSVq9eraioKMXGxvqt27hxo/bt26eqqip9/PHHCg0NVVVVVZuR\n",
              "AgAALiy2vvWTm5ur3NxcxcfHa8mSJcrLy5MkTZ8+XYWFhXb+0QAA4Dxg21s/kpSQkKBNmza12r5q\n",
              "1ao218fExOjIkSN2jgQAALoQx0+mBQAACIRQAQAAxiJUAACAsQgVAABgLEIFAAAYi1ABAADGIlQA\n",
              "AICxCBUAAGAsQgUAABiLUAEAAMYiVAAAgLEIFQAAYCxCBQAAGItQAQAAxiJUAACAsQgVAABgLEIF\n",
              "AAAYi1ABAADGIlQAAICxCBUAAGAsQgUAABiLUAEAAMYiVAAAgLEIFQAAYCxCBQAAGItQAQAAxiJU\n",
              "AACAsQgVAABgLEIFAAAYi1ABAADGIlQAAICxCBUAAGAsQgUAABiLUAEAAMYiVAAAgLEIFQAAYCxC\n",
              "BQAAGItQAQAAxiJUAACAsQgVAABgLEIFAAAYi1ABAADGIlQAAICxCBUAAGAsQgUAABiLUAEAAMYi\n",
              "VAAAgLEIFQAAYCxCBQAAGItQAQAAxiJUAACAsQgVAABgLEIFAAAYi1ABAADGIlQAAICxCBUAAGAs\n",
              "QgUAABiLUAEAAMYiVAAAgLEIFQAAYCxCBQAAGItQAQAAxrI1VMrLy5Wamqr4+HglJyerrKys1Zr1\n",
              "69crJSVFQ4YM0VVXXaW5c+equbnZzrEAAEAXYWuoZGdnKysrS3v27NG8efOUkZHRas3ll1+uV155\n",
              "Rbt27dJnn32mTz/9VC+++KKdYwEAgC7CtlCpra1VaWmp0tPTJUlTp05VdXW1Kioq/NZdc801Gjhw\n",
              "oCTp4osv1vDhw1VVVRVwvw0NDaqvr/e7+Xw+ux4GAABwkG2hUl1drcjISAUHB0uSXC6XPB6PvF5v\n",
              "wN9z4MABFRQU6Kabbgq4JicnRz179vS7FRcXd/j8AADAecacTFtfX6+bb75Zc+fO1bXXXhtw3fz5\n",
              "81VXV+d3S0lJ6cRJAQBAZwm2a8cDBgxQTU2NmpqaFBwcLMuy5PV65fF4Wq09evSoJkyYoEmTJmnO\n",
              "nDln3K/b7Zbb7fbbFhQU1KGzAwAAM9j2ikrfvn2VlJSk/Px8SdLq1asVFRWl2NhYv3XHjh3ThAkT\n",
              "NGHCBD366KN2jQMAALogW9/6yc3NVW5uruLj47VkyRLl5eVJkqZPn67CwkJJ0tKlS1VcXKw1a9Zo\n",
              "+PDhGj58uP7whz/YORYAAOgibHvrR5ISEhK0adOmVttXrVrV8usFCxZowYIFdo4BAAC6KGNOpgUA\n",
              "APgxQgUAABiLUAEAAMYiVAAAgLEIFQAAYCxCBQAAGItQAQAAxiJUAACAsQgVAABgLEIFAAAYi1AB\n",
              "AADGIlQAAICxCBUAAGAsQgUAABiLUAEAAMYiVAAAgLEIFQAAYCxCBQAAGItQAQAAxiJUAACAsQgV\n",
              "AABgLEIFAAAYi1ABAADGIlQAAICxCBUAAGAsQgUAABiLUAEAAMYiVAAAgLEIFQAAYCxCBQAAGItQ\n",
              "AQAAxiJUAACAsQgVAABgLEIFAAAYi1ABAADGIlQAAICxCBUAAGAsQgUAABiLUAEAAMYiVAAAgLEI\n",
              "FQAAYCxCBQAAGItQAQAAxiJUAACAsQgVAABgLEIFAAAYi1ABAADGIlQAAICxCBUAAGAsQgUAABiL\n",
              "UAEAAMYiVAAAgLEIFQAAYCxCBQAAGItQAQAAxiJUAACAsQgVAABgLEIFAAAYi1ABAADGIlQAAICx\n",
              "CBUAAGAsW0OlvLxcqampio+PV3JyssrKytpc9/zzzysuLk6DBg1SZmamGhsb7RwLAAB0EbaGSnZ2\n",
              "trKysrRnzx7NmzdPGRkZrdZUVlbqscce08aNG1VRUaGDBw9qxYoVdo4FAAC6CNtCpba2VqWlpUpP\n",
              "T5ckTZ06VdXV1aqoqPBbV1BQoLS0NEVERMjlcmnGjBl6+eWXA+63oaFB9fX1fjefz2fXwwAAAA4K\n",
              "tmvH1dXVioyMVHDwqT/C5XLJ4/HI6/UqNja2ZZ3X61V0dHTL/ZiYGHm93oD7zcnJ0cKFC/22XXnl\n",
              "lZozZ04HPwJpSofv0Z/P51NxcbFSUlIUFBTUIfucM+fDDtmP0zrq2Nj5NXTiWNvxPXM+4LgEdrbH\n",
              "5nz7u/LfnI/fMx31NfzxsbHz6xcdHa3Zs2efcY1toWKX+fPnt4oSt9stt9vt0ETnrr6+Xj179tQH\n",
              "H3yg0NBQp8cxCsembRyXtnFcAuPYtI3jEphpx8a2UBkwYIBqamrU1NSk4OBgWZYlr9crj8fjt87j\n",
              "8Wjv3r0t96uqqlqtOV1XjRIAANB+tp2j0rdvXyUlJSk/P1+StHr1akVFRfm97SOdOnelsLBQBw4c\n",
              "kGVZWr58uW677Ta7xgIAAF2IrT/1k5ubq9zcXMXHx2vJkiXKy8uTJE2fPl2FhYWSpIEDB2rhwoUa\n",
              "NWqUYmNj1adPH2VnZ9s5FgAA6CJsPUclISFBmzZtarV91apVfvczMzOVmZlp5yhGcrvdevzxx3kr\n",
              "qw0cm7ZxXNrGcQmMY9M2jktgph0bl2VZltNDAAAAtIWP0AcAAMYiVAAAgLEIFQAAYCxCBQAAGItQ\n",
              "6SSzZs1STEyMXC6Xvvjii5btZ3uF6fNZW8fmxIkTmjx5suLj45WYmKjx48e3uk7U+S7Q98wP8vLy\n",
              "5HK59Oabb3b6bE4LdGwaGhp0//33Ky4uTldffXXLtcYuFIGOy7vvvqukpCQNHz5cQ4cO1QsvvODc\n",
              "kA440/NJbW2tJkyYoLi4OA0dOlQfffSRw9N2rjMdm7vuuqtl+6hRo1RSUuLMkBY6xYYNG6zq6mor\n",
              "Ojra2rp1a8v266+/3srLy7Msy7Jef/1169prr3VmQAe1dWyOHz9uvfPOO1Zzc7NlWZa1bNky67rr\n",
              "rnNuSAcE+p6xLMuqrKy0fvrTn1ojR4603njjDUfmc1KgY/PAAw9Y999/f8v3TU1NjUMTOqOt49Lc\n",
              "3Gxdfvnl1rZt2yzLOvW943a7rfr6egcn7Vxnej656667rMcff9yyLMsqLi62+vfvb508edKhSTvf\n",
              "mY7NW2+9ZTU2NlqWZVn//Oc/rejoaEdmJFQ62elPIAcPHrRCQkJavhGam5utfv36WeXl5Q5O6Jy2\n",
              "/kH+QUlJiWN/SZz24+Pi8/mscePGWaWlpdZ11113QYbKD04/NseOHbNCQkKsuro6Z4cywI9DpVev\n",
              "XtaGDRssy7Ksbdu2WVdccYXV0NDg4ITOOv355LLLLvML2uTkZGvt2rUOTea8QM+1hw4dsoKDg1v+\n",
              "vepMvPXjoDNdYRr+li5dqkmTJjk9hhGefvppjRo1SiNGjHB6FKPs3btXvXr10pNPPqlrr71WP/vZ\n",
              "z/Thh+ZdtbezuVwuvfrqq5oyZYqio6M1evRovfDCC+revbvToznmh+eTw4cPq7GxURERES3/LSYm\n",
              "5oJ+Dg70XLt06VJNnDix5d+rztTlrp6MC8+TTz6piooK/tGRtHPnTq1evfqCex/9bDQ1NWnfvn0a\n",
              "MmSIlixZoq1bt2r8+PEqKytTv379nB7PMU1NTVq8eLHWrFmjMWPGqKSkRGlpadqxY4d69+7t9Hid\n",
              "7vTnk+PHjzs9jlECPdfm5+frtddec+x5h1dUHHT6FaYlBbzC9IXsj3/8o9asWaP33ntPl156qdPj\n",
              "OG7jxo2qqqpSXFycYmJitHnzZmVlZem5555zejTHeTwedevWTb/5zW8kSddcc41+8pOfaMeOHQ5P\n",
              "5qwvvvhC33zzjcaMGSNJSk5OVlRUlLZu3erwZJ3vx88n4eHhCg4O1oEDB1rWVFVVXZDPwYGea199\n",
              "9VUtXLhQa9eudSz4CRUHne0Vpi9UTz/9tF5++WWtXbtWYWFhTo9jhJkzZ6qmpkZVVVWqqqrSyJEj\n",
              "tWLFCs2cOdPp0RzXu3dvjRs3Th988IEkqbKyUpWVlRo8eLDDkznrh/8h+vLLLyVJFRUV2rt3rxIS\n",
              "EhyerHMFej659dZbtXz5cklSSUmJ9u/fr+uuu86hKZ0R6Ni89tprevTRR7Vu3Tpn463Tz4q5QGVl\n",
              "ZVn9+/e3goKCrL59+1qDBg2yLMuydu/ebY0cOdKKi4uzRowYYW3fvt3hSTtfW8emurrakmQNHDjQ\n",
              "SkxMtBITE62UlBSnR+1Ugb5nTnehnkwb6Njs3bvXGjt2rDV06FBr2LBhVkFBgcOTdq5Ax+Wll15q\n",
              "OSZDhw61/vGPfzg8aec60/PJgQMHrPHjx1uxsbHWkCFDrPXr1zs8bec607EJDg62oqKiWrYnJiZa\n",
              "3377bafPyEUJAQCAsXjrBwAAGItQAQAAxiJUAACAsQgVAABgLEIFAAAYi1ABAADGIlQAAICxCBUA\n",
              "AGAsQgUAABiLUAEAAMb6f8R2ziFaNBpRAAAAAElFTkSuQmCC\n",
              "\">\n",
              "      </div>\n",
              "      <script type=\"text/javascript\">\n",
              "        (() => {\n",
              "          const chartElement = document.getElementById(\"chart-236c7ee6-882a-4263-97c4-591474bff49c\");\n",
              "          async function getCodeForChartHandler(event) {\n",
              "            const chartCodeResponse =  await google.colab.kernel.invokeFunction(\n",
              "                'getCodeForChart', [\"chart-236c7ee6-882a-4263-97c4-591474bff49c\"], {});\n",
              "            const responseJson = chartCodeResponse.data['application/json'];\n",
              "            await google.colab.notebook.addCell(responseJson.code, 'code');\n",
              "          }\n",
              "          chartElement.onclick = getCodeForChartHandler;\n",
              "        })();\n",
              "      </script>\n",
              "      <style>\n",
              "        .colab-quickchart-chart-with-code  {\n",
              "            display: block;\n",
              "            float: left;\n",
              "            border: 1px solid transparent;\n",
              "        }\n",
              "\n",
              "        .colab-quickchart-chart-with-code:hover {\n",
              "            cursor: pointer;\n",
              "            border: 1px solid #aaa;\n",
              "        }\n",
              "      </style>"
            ]
          },
          "metadata": {}
        },
        {
          "output_type": "display_data",
          "data": {
            "text/plain": [
              "<google.colab._quickchart_helpers.SectionTitle at 0x7b6b86fec6a0>"
            ],
            "text/html": [
              "<h4 class=\"colab-quickchart-section-title\">2-d distributions</h4>\n",
              "<style>\n",
              "  .colab-quickchart-section-title {\n",
              "      clear: both;\n",
              "  }\n",
              "</style>"
            ]
          },
          "metadata": {}
        },
        {
          "output_type": "display_data",
          "data": {
            "text/plain": [
              "from matplotlib import pyplot as plt\n",
              "_df_2.plot(kind='scatter', x='TV', y='Sales', s=32, alpha=.8)\n",
              "plt.gca().spines[['top', 'right',]].set_visible(False)"
            ],
            "text/html": [
              "      <div class=\"colab-quickchart-chart-with-code\" id=\"chart-6e37522c-e7ff-43fa-b5bf-9408db095b71\">\n",
              "        <img style=\"width: 180px;\" src=\"data:image/png;base64,iVBORw0KGgoAAAANSUhEUgAAAicAAAGkCAYAAADqnIU2AAAAOXRFWHRTb2Z0d2FyZQBNYXRwbG90\n",
              "bGliIHZlcnNpb24zLjcuMSwgaHR0cHM6Ly9tYXRwbG90bGliLm9yZy/bCgiHAAAACXBIWXMAAA9h\n",
              "AAAPYQGoP6dpAAAfiElEQVR4nO3df2xV9f3H8dftPe3pj9sfyK+q/XGHUKKWUVCgaAayjfAji2WK\n",
              "I2Nl6mBUE2BEl8wubm7JQmdkzTrcZl0mLqkyXUT/EHUKcTAmtJBRJmxDrqOUIrTAoLRID/fenu8f\n",
              "fNd5R4t049z7Kff5SG5izzmX+4aTwtPPOffW57quKwAAAEOkJHoAAACATyJOAACAUYgTAABgFOIE\n",
              "AAAYhTgBAABGIU4AAIBRiBMAAGAU4gQAABhlSMZJXV1dokcAAAAeGZJxcvjw4USPAAAAPDIk4wQA\n",
              "AFy7iBMAAGAU4gQAABiFOAEAAEYhTgAAgFGIEwAAYBTiBAAAGIU4AQAARiFOAACAUYgTAABgFOIE\n",
              "AAD06QlHdbLbUU84mrAZrIS9MgAAMMaJLkcNO1v01r52nQ9HlZHq17zSfFVOL9aIgB3XWVg5AQAg\n",
              "yZ3ocrRywx690Niqc05EVopP55yIGhoPa8WLe3Sy24nrPMQJAABJrmFni0IdXRoZsDUsK01ZtqVh\n",
              "WWkaGbAV6uhSw47DcZ3Hszjp6enRggULVFJSookTJ2r27NkKhUKSpAcffLBv+5133qldu3Z5NQYA\n",
              "ALiMnnBUb+1rV7rll+WPzQLLnyLb8uvN/cfjeg+Kpysny5cv14EDB7R3715VVFRo2bJlkqQvf/nL\n",
              "+utf/6q9e/equrpa9913n5djAACAAXQ7EZ0PR5Vm9Z8EtpWi8xei6nYicZvJszhJT0/X/Pnz5fP5\n",
              "JEnl5eVqaWmRJN19992yLKtv+9GjRxWJxO83DQAALgrYljJS/boQ6e13vxPpVUaaXwE7fu+hids9\n",
              "J3V1daqoqOh3+/z58/ti5T85jqOzZ8/GPKLRxL29CQCAa0l6ql9zS0erJxJVJBobKJFor5xIVPNu\n",
              "zVd6qj9uM8Ulg9asWaNQKKQtW7bEbG9oaNDLL7+sbdu2Dfjcmpoa/fCHP4zZVl5e7smcAAAkoyXT\n",
              "g2o8dFqhji7Zll+2lSIncjFMxo3KVuX04rjO43Nd1/XyBdauXavf/va32rx5s/Ly8vq2v/TSS3r8\n",
              "8ce1ZcsWFRUVDfh8x3HkOLFvYfre976nuro6r0YGACDpnOx21LDjsN7cf1znL0SVkebXvFsT8zkn\n",
              "nq6c1NbWasOGDZeEycsvv6zHH39cmzdvvmyYSJJt27Lt2D8Uvz9+S0sAACSDEQFbq2eX6KG7blK3\n",
              "E1HAtuJ6KeeTPFs5aWtrU2FhocaMGaPs7GxJF0OjsbFRqampys/P1/Dhw/uO37JlS8zXl/PII4+o\n",
              "trbWi7EBAECCebZyUlBQoIG6JxwOe/WyAABgiOMTYgEAgFGIEwAAYBTiBAAAGIU4AQAARiFOAACA\n",
              "UYgTAABgFOIEAAAYhTgBAABGIU4AAIBRiBMAAGAU4gQAABiFOAEAAEYhTgAAgFGIEwAAYBTiBAAA\n",
              "GIU4AQAARiFOAACAUYgTAABgFOIEAAAYhTgBAABGIU4AAIBRiBMAAGAU4gQAABiFOAEAAEYhTgAA\n",
              "gFGIEwAAYBTiBAAAGIU4AQAARiFOAACAUYgTAABgFOIEAAAYhTgBAABGIU4AAIBRiBMAAGAU4gQA\n",
              "ABiFOAEAAEYhTgAAgFGIEwAAYBTiBAAAGIU4AQAARiFOAACAUYgTAABgFOIEAAAYhTgBAABG8SxO\n",
              "enp6tGDBApWUlGjixImaPXu2QqGQJKmjo0Nz587VuHHjVFpaqm3btnk1BgAAGGI8XTlZvny5Dhw4\n",
              "oL1796qiokLLli2TJD322GMqLy/XwYMHtX79ei1evFjhcNjLUQAAwBDhWZykp6dr/vz58vl8kqTy\n",
              "8nK1tLRIkl5++WU99NBDkqQpU6bohhtu0NatW/v9dRzH0dmzZ2Me0WjUq7EBAECCxe2ek7q6OlVU\n",
              "VOjUqVMKh8PKz8/v2xcMBtXa2trv82pqapSbmxvzaGpqitfYAAAgzuISJ2vWrFEoFFJNTc2gn1td\n",
              "Xa3Ozs6Yx9SpUz2YEgAAmMDy+gXWrl2rjRs3avPmzcrMzFRmZqYsy9Lx48f7Vk9aWlpUVFTU7/Nt\n",
              "25Zt2zHb/H6/12MDAIAE8XTlpLa2Vhs2bNA777yjvLy8vu333XefnnnmGUnSrl27dPToUc2cOdPL\n",
              "UQAAwBDh2cpJW1ubHn30UY0ZM0azZs2SdHEVpLGxUU8++aSWLFmicePGKS0tTQ0NDUpNTfVqFAAA\n",
              "MIR4FicFBQVyXbfffaNHj9bbb7/t1UsDAIAhjE+IBQAARiFOAACAUYgTAABgFOIEAAAYhTgBAABG\n",
              "IU4AAIBRiBMAAGAU4gQAABiFOAEAAEYhTgAAgFGIEwAAYBTiBAAAGIU4AQAARiFOAACAUYgTAABg\n",
              "FOIEAAAYhTgBAABGIU4AAIBRiBMAAGAU4gQAABiFOAEAAEYhTgAAgFGIEwAAYBTiBAAAGIU4AQAA\n",
              "RiFOAACAUYgTAABgFOIEAAAYhTgBAABGIU4AIAF6wlGd7HbUE44mehTAOFaiBwCAZHKiy1HDzha9\n",
              "ta9d58NRZaT6Na80X5XTizUiYCd6PMAIrJwAQJyc6HK0csMevdDYqnNORFaKT+eciBoaD2vFi3t0\n",
              "sttJ9IiAEYgTAIiThp0tCnV0aWTA1rCsNGXZloZlpWlkwFaoo0sNOw4nekTACMQJAMRBTziqt/a1\n",
              "K93yy/LH/tVr+VNkW369uf8496AAIk4AIC66nYjOh6NKs/r/a9e2UnT+QlTdTiTOkwHmIU4AIA4C\n",
              "tqWMVL8uRHr73e9EepWR5lfA5n0KAHECAHGQnurX3NLR6olEFYnGBkok2isnEtW8W/OVnupP0ISA\n",
              "OUh0AIiTJdODajx0WqGOLtmWX7aVIidyMUzGjcpW5fTiRI8IGIGVEwCIkxEBW08vnqTKacUKpFuK\n",
              "9LoKpFuqnFasdYsn8TknwP9j5QQA4mhEwNbq2SV66K6b1O1EFLAtLuUA/4E4AYAESE/1EyXAALis\n",
              "AwAAjEKcAAAAo3gaJ6tWrVIwGJTP51Nzc3Pf9jfeeEOTJ09WWVmZSktL9Zvf/MbLMQAAwBDiaZws\n",
              "XLhQ27dvV3Hxv98e57quKisr9fzzz6u5uVmvv/66qqqq1NXV5eUoAABgiPD0htgZM2b0u93n8+nM\n",
              "mTOSpLNnz2r48OGybd5CBwAAEvBuHZ/Pp5deekn33HOPsrKydPr0aW3cuFFpaWn9Hu84jhwn9seI\n",
              "R6P8YCwAAK5Vcb8hNhKJ6Ec/+pE2btyow4cPa8uWLVqyZIlOnjzZ7/E1NTXKzc2NeTQ1NcV5agAA\n",
              "EC9xj5Pm5mZ99NFHfZd8pkyZooKCAu3Zs6ff46urq9XZ2RnzmDp1ajxHBgAAcRT3yzqFhYU6duyY\n",
              "/va3v+nmm29WKBTShx9+qPHjx/d7vG3bl9yP4vfzwUUAAFyrPI2Tqqoqbdq0ScePH9ecOXOUnZ2t\n",
              "UCikZ599Vl/5yleUkpKi3t5ePf300yoqKvJyFAAAMET4XNd1Ez3EYD3yyCOqra1N9BgAAMADfEIs\n",
              "AAAwCnECAACMQpwAAACjECcAAMAoxAkAADAKcQIAAIxCnAAAAKMQJwAAwCjECQAAMApxAgAAjEKc\n",
              "AAAAoxAnAADAKMQJAAAwCnECAACMQpwAAACjECcAAMAoxAkAADAKcQIAAIxCnAAAAKMQJwAAwCjE\n",
              "CQAAMApxAgAAjEKcAAAAoxAnAADAKMQJAAAwCnECAACMQpwAAACjECcAAMAoxAkAADAKcQIAAIxC\n",
              "nAAAAKMQJwAAwCjECQAAMApxAgAAjEKcAAAAoxAnAADAKMQJAAAwCnECAACMQpwAAACjECcAAMAo\n",
              "xAkAADAKcQIAAIxCnAAAAKP8T3HS2dmpffv2Xa1ZAAAABh8nc+fO1ZkzZ9Td3a2JEyfqS1/6kr7/\n",
              "/e/3e+yqVasUDAbl8/nU3Nzct91xHK1YsULjxo3ThAkTVFlZ+V//BgAAwLVl0HHS3t6uvLw8vfHG\n",
              "G6qoqNDBgwf16quv9nvswoULtX37dhUXF8dsf+yxx+Tz+fTBBx/o/fff19q1a/+76QEAwDXHGuwT\n",
              "wuGwJGnbtm2aO3euUlNTZVn9/zIzZsy4ZNu5c+f061//Wm1tbfL5fJKk/Pz8AV/PcRw5jhOzLRqN\n",
              "DnZsAAAwRAx65aS0tFTz5s3T66+/rs9//vP6+OOPB/X8Dz/8UNddd53WrFmj22+/XZ/73Oe0ZcuW\n",
              "AY+vqalRbm5uzKOpqWmwYwMAgCFi0HHy/PPPq6qqSu+++64yMzN1+vRp1dTUXPHzI5GIDh8+rFtu\n",
              "uUW7d+/Wz372My1atEjt7e39Hl9dXa3Ozs6Yx9SpUwc7NgAAGCIGHSfp6ekqLCzU9u3bJUmZmZma\n",
              "OHHiFT+/qKhIKSkp+trXviZJmjRpkj7zmc/o/fff7/d427aVk5MT8/D7/YMdGwAADBGDjpNf/OIX\n",
              "+sY3vqEf/OAHkqR//vOfWrx48RU/f8SIEfrCF76g3//+95KkQ4cO6dChQ7r55psHOwoAALgGDTpO\n",
              "nn32We3cuVM5OTmSpJtuukknTpzo99iqqioVFBSora1Nc+bM0dixYyVJzzzzjJ566ilNmDBBCxYs\n",
              "UH19vW688cb/4bcBAACuFYN+t45t28rIyIj9RQZ4t059fX2/28eMGaN33313sC8NAACSwKBXTkaO\n",
              "HKkPPvig723Azz//vIqKiq76YAAAIDkNeuXkpz/9qb761a/q73//uwoLC5WTk6PXX3/di9kAAEAS\n",
              "GnScjB07Vo2NjTpw4IBc19X48eN59wwAALhqrjhOzp49G/P1v25gPXfunCT13SALAADwv7jiOMnL\n",
              "y5PP55Prun3b/vW1z+fjI+UBAMBVccVx0tvb6+UcAAAAkv6Ld+sAAAB4adBxcvDgQc2bN0833HCD\n",
              "rrvuur4HAADA1TDoOPnmN7+pBx54QMOGDdPWrVu1cOFCffvb3/ZiNgAAkIQGHSdnz57VokWLlJKS\n",
              "ogkTJqi+vl6vvfaaB6MBAIBkNOg4SU1NlSRlZ2erpaVFjuPo5MmTV30wAACQnAb9IWwzZszQqVOn\n",
              "tGLFCt12221KS0vTokWLvJgNAAAkoUHHyVNPPSVJKi8v1+rVq5WXl6eVK1de9cEAAEByuuLLOl/8\n",
              "4hfV3NwsSfroo490++2367333tPPf/5zPfnkk17NBwAAkswVx8nRo0dVVlYmSXrxxRc1c+ZMvfnm\n",
              "m9qxY4deeOEFr+YDAABJ5orjJCMjo++/33vvPc2fP1+SNGzYMFnWoK8OAQAA9OuK4yQlJUVtbW3q\n",
              "7u7W1q1bNXPmzL59H3/8sSfDAQCA5HPFSx7f/e53NWnSJFmWpVmzZqmkpETSxVWUYDDo1XwAACDJ\n",
              "XHGc3HPPPbrjjjvU3t6uz372s33bg8Ggnn32WU+GAwAAyWdQN4vk5+crPz8/ZtsNN9xwVQcCAADJ\n",
              "jZ9KDAAAjEKcAAAAoxAnAADAKMQJAAAwCnECAACMQpwAAACjECcAAMAoxAkAADAKcQIAAIxCnAAA\n",
              "AKMQJwAAwCjECQAAMApxAgAAjEKcAAAAoxAnAADAKMQJAAAwCnECAACMQpwAAACjECcAAMAoxAkA\n",
              "ADAKcQIAAIxCnAAAAKMQJwAAwCiexsmqVasUDAbl8/nU3Nx8yf7169fL5/Pptdde83IMAAAwhHga\n",
              "JwsXLtT27dtVXFx8yb6Wlhb96le/Unl5uZcjAACAIcbTOJkxY4YKCgou2d7b26tly5Zp3bp1sm3b\n",
              "yxEAAMAQYyXiRWtra3XnnXfqtttu+9RjHceR4zgx26LRqFejAQCABIv7DbH79u3TK6+8oscff/yK\n",
              "jq+pqVFubm7Mo6mpyeMpAQBAosQ9Tv74xz+qpaVF48aNUzAY1M6dO7V8+XL98pe/7Pf46upqdXZ2\n",
              "xjymTp0a56kBAEC8xP2yzsMPP6yHH3647+u77rpLq1ev1oIFC/o93rbtS+5L8fv9Xo4IAAASyNOV\n",
              "k6qqKhUUFKitrU1z5szR2LFjvXw5AABwDfB05aS+vv5Tj/nDH/7g5QgAAGCI4RNiAQCAUYgTAABg\n",
              "FOIEAAAYhTgBAABGIU4AAIBRiBMAAGAU4gQAABiFOAEAAEYhTgAAgFGIEwAAYBTiBAAAGIU4AQAA\n",
              "RiFOAACAUYgTAABgFOIEAAAYhTgBAABGIU4AAIBRiBMAAGAU4gQAABiFOAEAxE1POKqT3Y56wtFE\n",
              "jwKDWYkeAABw7TvR5ahhZ4ve2teu8+GoMlL9mlear8rpxRoRsBM9HgzDygkAwFMnuhyt3LBHLzS2\n",
              "6pwTkZXi0zknoobGw1rx4h6d7HYSPSIMQ5wAADzVsLNFoY4ujQzYGpaVpizb0rCsNI0M2Ap1dKlh\n",
              "x+FEjwjDECcAAM/0hKN6a1+70i2/LH/sPzmWP0W25deb+49zDwpiECcAAM90OxGdD0eVZvX/z41t\n",
              "pej8hai6nUicJ4PJiBMAgGcCtqWMVL8uRHr73e9EepWR5lfA5v0Z+DfiBADgmfRUv+aWjlZPJKpI\n",
              "NDZQItFeOZGo5t2ar/RUf4ImhIlIVQCAp5ZMD6rx0GmFOrpkW37ZVoqcyMUwGTcqW5XTixM9IgzD\n",
              "ygkAwFMjAraeXjxJldOKFUi3FOl1FUi3VDmtWOsWT+JzTnAJVk4AAJ4bEbC1enaJHrrrJnU7EQVs\n",
              "i0s5GBBxAgCIm/RUP1GCT8VlHQAAYBTiBAAAGIU4AQAARiFOAACAUYgTAABgFOIEAAAYhTgBAABG\n",
              "IU4AAIBRiBMAAGAU4gQAABiFOAEAAEYhTgAAgFGIEwAAYBRP42TVqlUKBoPy+Xxqbm6WJPX09GjB\n",
              "ggUqKSnRxIkTNXv2bIVCIS/HAAAAQ4incbJw4UJt375dxcXFMduXL1+uAwcOaO/evaqoqNCyZcu8\n",
              "HAMAAAwhnsbJjBkzVFBQELMtPT1d8+fPl8/nkySVl5erpaVlwF/DcRydPXs25hGNRr0cGwAAJFDC\n",
              "7zmpq6tTRUXFgPtramqUm5sb82hqaorjhAAAIJ4SGidr1qxRKBRSTU3NgMdUV1ers7Mz5jF16tQ4\n",
              "TgkAAOLJStQLr127Vhs3btTmzZuVmZk54HG2bcu27Zhtfr/f6/EAAECCJCROamtrtWHDBm3evFl5\n",
              "eXmJGAEAABjK08s6VVVVKigoUFtbm+bMmaOxY8eqra1Njz76qM6cOaNZs2aprKxM06ZN83IMAAAw\n",
              "hHi6clJfX9/vdtd1vXxZAAAwhCX83ToAAACfRJwAAACjECcAAMAoxAkAADAKcQIAAIxCnAAAAKMQ\n",
              "JwAAwCjECQAAMApxAgAAjEKcAAAAoxAnAADAKMQJAAAwCnECAACMQpwAAACjECcAAMAoxAkAADAK\n",
              "cQIAAIxCnAAAAKMQJwAAwCjECQAAMApxAgAAjEKcAAAAoxAnAADAKMQJAAAwCnECAACMQpwAAACj\n",
              "ECcAAMAoxAkAADAKcQIAAIxCnAAAAKMQJwAAwCjESRLqCUd1sttRTzia6FEAALiElegBED8nuhw1\n",
              "7GzRW/vadT4cVUaqX/NK81U5vVgjAnaixwMAQBIrJ0njRJejlRv26IXGVp1zIrJSfDrnRNTQeFgr\n",
              "Xtyjk91OokcEAEAScZI0Gna2KNTRpZEBW8Oy0pRlWxqWlaaRAVuhji417Dic6BEBAJBEnCSFnnBU\n",
              "b+1rV7rll+WPPeWWP0W25deb+49zDwoAwAjESRLodiI6H44qzer/dNtWis5fiKrbicR5MgAALkWc\n",
              "JIGAbSkj1a8Lkd5+9zuRXmWk+RWwuT8aAJB4xEkSSE/1a27paPVEoopEYwMlEu2VE4lq3q35Sk/1\n",
              "J2hCAAD+jf9VThJLpgfVeOi0Qh1dsi2/bCtFTuRimIwbla3K6cWJHhEAAEmsnCSNEQFbTy+epMpp\n",
              "xQqkW4r0ugqkW6qcVqx1iyfxOScAAGOwcpJERgRsrZ5doofuukndTkQB2+JSDgDAOMRJEkpP9RMl\n",
              "AABjeXpZZ9WqVQoGg/L5fGpubu7bfvDgQd1xxx0qKSnRlClTtH//fi/HAAAAQ4incbJw4UJt375d\n",
              "xcWxN1tWVVVp+fLl+uCDD/Sd73xHDzzwgJdjAACAIcTTOJkxY4YKCgpitnV0dGj37t2qrKyUJN17\n",
              "7706cuSIQqGQl6MAAIAhIu73nBw5ckTXX3+9LOviS/t8PhUVFam1tVVjx4695HjHceQ4sT+ULhrl\n",
              "Y9YBALhWGf9W4pqaGuXm5sY8mpqaEj0WAADwSNzjpLCwUMeOHVMkcvHnuLiuq9bWVhUVFfV7fHV1\n",
              "tTo7O2MeU6dOjefIAAAgjuIeJ6NGjdLkyZPV0NAgSXrllVdUUFDQ7yUdSbJtWzk5OTEPv5+3wQIA\n",
              "cK3yNE6qqqpUUFCgtrY2zZkzpy9A6uvrVV9fr5KSEv34xz/W+vXrvRwDAAAMIZ7eEFtfX9/v9vHj\n",
              "x2vHjh1evjQAABiijL8hFgAAJBfiBAAAGIU4AQAARiFOAACAUYgTAABgFOIEAAAYhTgBAABGIU4A\n",
              "AIBRiJNP6AlHdbLbUU+Yn3oMAECiePoJsUPFiS5HDTtb9Na+dp0PR5WR6te80nxVTi/WiICd6PEA\n",
              "AEgqSb9ycqLL0coNe/RCY6vOORFZKT6dcyJqaDysFS/u0cluJ9EjAgCQVJI+Thp2tijU0aWRAVvD\n",
              "stKUZVsalpWmkQFboY4uNew4nOgRAQBIKkkdJz3hqN7a1650yy/LH/tHYflTZFt+vbn/OPegAAAQ\n",
              "R0kdJ91OROfDUaVZ/f8x2FaKzl+IqtuJxHkyAACSV1LHScC2lJHq14VIb7/7nUivMtL8CtjcNwwA\n",
              "QLwkdZykp/o1t3S0eiJRRaKxgRKJ9sqJRDXv1nylp/oTNCEAAMkn6ZcElkwPqvHQaYU6umRbftlW\n",
              "ipzIxTAZNypbldOLEz0iAABJJalXTiRpRMDW04snqXJasQLpliK9rgLpliqnFWvd4kl8zgkAAHGW\n",
              "9Csn0sVAWT27RA/ddZO6nYgCtsWlHAAAEoQ4+YT0VD9RAgBAgiX9ZR0AAGAW4gQAABiFOAEAAEYh\n",
              "TgAAgFGIEwAAYBTiBAAAGIU4AQAARiFOAACAUYgTAABgFOIEAAAYxee6rpvoIQbrnnvuUTAYTPQY\n",
              "SSEajaqpqUlTp06V389H+5uK8zQ0cJ6GBs6Td4qLi/Wtb33rU48bknGC+Dl79qxyc3PV2dmpnJyc\n",
              "RI+DAXCehgbO09DAeUo8LusAAACjECcAAMAoxAkAADAKcYLLsm1bTzzxhGzbTvQouAzO09DAeRoa\n",
              "OE+Jxw2xAADAKKycAAAAoxAnAADAKMQJAAAwCnGCGMFgUOPHj1dZWZnKysr00ksvSZIOHjyoO+64\n",
              "QyUlJZoyZYr279+f4EmTy6pVqxQMBuXz+dTc3Ny3/XLnhXMWfwOdp4G+ryTOU7z19PRowYIFKikp\n",
              "0cSJEzV79myFQiFJUkdHh+bOnatx48aptLRU27Zt63ve5fbBAy7wCcXFxe6ePXsu2T5r1ix3/fr1\n",
              "ruu67u9+9zv39ttvj+9gSW7r1q3ukSNHLjk/lzsvnLP4G+g8DfR95bqcp3g7f/68u2nTJre3t9d1\n",
              "Xdddt26dO3PmTNd1XffBBx90n3jiCdd1Xbepqcm98cYb3QsXLnzqPlx9xAli9PeXaHt7u5udne2G\n",
              "w2HXdV23t7fXHT16tHvw4MEETJjcPnl+LndeOGeJdaVxwnlKvF27drnFxcWu67puVlaWe+zYsb59\n",
              "U6ZMcd95551P3Yerj8s6uMTXv/51TZgwQUuXLtWJEyd05MgRXX/99bIsS5Lk8/lUVFSk1tbWBE+a\n",
              "3C53Xjhn5vnP7yvp8ucQ8VFXV6eKigqdOnVK4XBY+fn5ffuCwaBaW1svuw/eIE4QY9u2bfrLX/6i\n",
              "P//5zxoxYoTuv//+RI8EDHl8X5lpzZo1CoVCqqmpSfQo+A9WogeAWYqKiiRJqampWr16tUpKSlRY\n",
              "WKhjx44pEonIsiy5rqvW1ta+Y5EYlzsvOTk5nDOD9Pd9JV3+HMJba9eu1caNG7V582ZlZmYqMzNT\n",
              "lmXp+PHjfSskLS0tKioq0vDhwwfcB2+wcoI+586d05kzZ/q+3rBhgyZNmqRRo0Zp8uTJamhokCS9\n",
              "8sorKigo0NixYxM0KSRd9rxwzswx0PeVdPlzCO/U1tZqw4YNeuedd5SXl9e3/b777tMzzzwjSdq1\n",
              "a5eOHj2qmTNnfuo+XH18fD36/OMf/9C9996raDQq13U1ZswY1dXVKRgM6sCBA3rggQd06tQp5eTk\n",
              "aP369ZowYUKiR04aVVVV2rRpk44fP67hw4crOztboVDosueFcxZ//Z2nt99+e8DvK4nzFG9tbW0q\n",
              "LCzUmDFjlJ2dLeniz9JpbGxUe3u7lixZokOHDiktLU1PP/20Zs2aJUmX3YerjzgBAABG4bIOAAAw\n",
              "CnECAACMQpwAAACjECcA4u5fP2Pmlltukd/v7/t60aJFuu6667Rv376Y4zs6OpSVlaX29vYETQwg\n",
              "nrghFkDCtLS0qKysLOattitXrlRaWpp+8pOf9G1bu3at/vSnP+nVV19NwJQA4o2VEwBGWbp0qRoa\n",
              "GhQOh/u2rV+/XkuXLk3gVADiiTgBYJSysjIVFBRo06ZNkqSdO3fqzJkzmjdvXoInAxAvxAkA4yxd\n",
              "ulTPPfecJOm5557T/fffL7/fn+CpAMQL95wASJj+7jmRpDNnzqioqEjNzc2aPHmydu/ezUe6A0mE\n",
              "lRMAxsnLy9Pdd9+tRYsWqaysjDABkgxxAsBIS5cu1e7du7kRFkhCXNYBAABGYeUEAAAYhTgBAABG\n",
              "IU4AAIBRiBMAAGAU4gQAABiFOAEAAEYhTgAAgFGIEwAAYBTiBAAAGIU4AQAARvk/WTgtU63pr4QA\n",
              "AAAASUVORK5CYII=\n",
              "\">\n",
              "      </div>\n",
              "      <script type=\"text/javascript\">\n",
              "        (() => {\n",
              "          const chartElement = document.getElementById(\"chart-6e37522c-e7ff-43fa-b5bf-9408db095b71\");\n",
              "          async function getCodeForChartHandler(event) {\n",
              "            const chartCodeResponse =  await google.colab.kernel.invokeFunction(\n",
              "                'getCodeForChart', [\"chart-6e37522c-e7ff-43fa-b5bf-9408db095b71\"], {});\n",
              "            const responseJson = chartCodeResponse.data['application/json'];\n",
              "            await google.colab.notebook.addCell(responseJson.code, 'code');\n",
              "          }\n",
              "          chartElement.onclick = getCodeForChartHandler;\n",
              "        })();\n",
              "      </script>\n",
              "      <style>\n",
              "        .colab-quickchart-chart-with-code  {\n",
              "            display: block;\n",
              "            float: left;\n",
              "            border: 1px solid transparent;\n",
              "        }\n",
              "\n",
              "        .colab-quickchart-chart-with-code:hover {\n",
              "            cursor: pointer;\n",
              "            border: 1px solid #aaa;\n",
              "        }\n",
              "      </style>"
            ]
          },
          "metadata": {}
        },
        {
          "output_type": "display_data",
          "data": {
            "text/plain": [
              "<google.colab._quickchart_helpers.SectionTitle at 0x7b6b4edefa30>"
            ],
            "text/html": [
              "<h4 class=\"colab-quickchart-section-title\">Values</h4>\n",
              "<style>\n",
              "  .colab-quickchart-section-title {\n",
              "      clear: both;\n",
              "  }\n",
              "</style>"
            ]
          },
          "metadata": {}
        },
        {
          "output_type": "display_data",
          "data": {
            "text/plain": [
              "from matplotlib import pyplot as plt\n",
              "_df_3['TV'].plot(kind='line', figsize=(8, 4), title='TV')\n",
              "plt.gca().spines[['top', 'right']].set_visible(False)"
            ],
            "text/html": [
              "      <div class=\"colab-quickchart-chart-with-code\" id=\"chart-60a282b9-dd18-4f68-afdd-832858c0645d\">\n",
              "        <img style=\"width: 180px;\" src=\"data:image/png;base64,iVBORw0KGgoAAAANSUhEUgAAAp4AAAFuCAYAAAAoDBgXAAAAOXRFWHRTb2Z0d2FyZQBNYXRwbG90\n",
              "bGliIHZlcnNpb24zLjcuMSwgaHR0cHM6Ly9tYXRwbG90bGliLm9yZy/bCgiHAAAACXBIWXMAAA9h\n",
              "AAAPYQGoP6dpAABE40lEQVR4nO3deXhU5f3+8fdksu9kg5CVbOxbWAwIKO6iFCtaRUVt9QuiVitt\n",
              "tdSqP20VW5XWXexiq1hKFasCoqKigGyyC2HJShII2TeyZ+b8/ghNjQKyJHNmMvfruua6JGdC7hwn\n",
              "k5t55vMci2EYBiIiIiIi3czD7AAiIiIi4h5UPEVERETEIVQ8RURERMQhVDxFRERExCFUPEVERETE\n",
              "IVQ8RURERMQhVDxFRERExCFUPEVERETEIVQ8RURERMQhVDxFRERExCFUPEVEulhgYGDHzdvbG6vV\n",
              "2uljjz76KL1796alpeU7n/vhhx/i5eXFoUOHTEguItK9LLpWu4hI9/nNb37DunXr+Pzzzzs+Vl1d\n",
              "TUxMDH/961+5/vrrO91/2rRpeHp6snTpUgcnFRHpfnrFU0TEwUJDQ5kxYwYvv/xyp48XFhayYsUK\n",
              "7rzzTpOSiYh0LxVPERET3HnnnaxZs4bMzMyOj/35z38mJSWFCy+80MRkIiLdR8VTRMQE6enpnHPO\n",
              "ObzyyisAtLW18Ze//IU5c+aYnExEpPuoeIqImGTOnDm88cYbNDQ08N5771FTU8Mtt9xidiwRkW6j\n",
              "4ikiYpLrrrsOq9XK4sWLefnll5kxYwahoaFmxxIR6TaeZgcQEXFXvr6+/PjHP+bxxx8nPz+fLVu2\n",
              "mB1JRKRb6RVPERETzZkzh/z8fMaOHUt6errZcUREupX28RQRERERh9ArniIiIiLiECqeIiIiIuIQ\n",
              "Kp4iIiIi4hAqniIiIiLiECqeIiIiIuIQKp4iIiIi4hAqniIiIiLiEC5RPJ999lmzI4iIiIjIWXKJ\n",
              "4nnw4EGzI4iIiIjIWXKJ4ikiIiIirk/FU0REREQcQsVTRERERBxCxVNEREREHELFU0REREQcQsVT\n",
              "RERERBxCxVNEREREHELFU0REREQcQsVTRERERBxCxVNEREREHELF8zia22xmRxARERHpcVQ8v6H8\n",
              "aDM///dOZry6EbvdMDuOiIiISI+i4vkNdrvBh7uL2VZQzXs7D5kdR0RERKRHUfH8hqhgX+66IAWA\n",
              "J1fuo765zeREIiIiIj2Hiue3/OTcfsSF+VFS28wrX+SYHUdERESkx1Dx/BZfLysPThkEwMI1uRRW\n",
              "NpicSERERKRnUPE8jksH92Z8cjgtbXbmr9xrdhwRERGRHkHF8zgsFgsPTx2EhwU++PoIG3MrzI4k\n",
              "IiIi4vJUPE9gQJ9gbjwnAYBHl2Vi0/ZKIiIiImdFxfMk7rs4jWBfT/YW17Lkq0Kz44iIiIi4NBXP\n",
              "kwgL8Oa+i9MAePrj/dQ0tpqcSERERMR1qXh+j5syEkiJCqSyvoXnPs0yO46IiIiIy1Lx/B5eVg8e\n",
              "urJ9e6V/rM8np+yoyYlEREREXJOK5yk4Ly2SCwdE0WY3+N3yTLPjiIiIiLgkFc9T9OAVA/GyWli9\n",
              "v4zV+0rNjiMiIiLiclQ8T1FSZCA/PrcfAL9dkUlLm93kRCIiIiKuRcXzNNx9QQoRgd7kltXz+oZ8\n",
              "s+OIiIiIuBQVz9MQ7OvFLy/tD8Czn2ZRcbTZ5EQiIiIirkPF8zRdMyqOwX2DqWtq45lVB8yOIyIi\n",
              "IuIyVDxPk9XDwiNTBwOweHMBew7XmJxIRERExDWoeJ6Bsf3CuHJYNIYBjy3LxDB0HXcRERGR76Pi\n",
              "eYbmTRmIj6cHm/Iq+XD3EbPjiIiIiDg9Fc8zFBPqx+zzkgF4/IO9NLXaTE4kIiIi4txUPM/CHecl\n",
              "ER3iS1FVI39Zm2t2HBERERGnpuJ5Fvy9PfnV5QMAeHF1DkdqmkxOJCIiIuK8VDzP0g+G92V0Qi8a\n",
              "W238/sN9ZscRERERcVoqnmfJYmnfXsligf9sP8S2giqzI4mIiIg4JRXPLjA0NoRr0mMBeHRZJna7\n",
              "tlcSERER+TYVzy7yy8v6E+BtZWdhNf/ZfsjsOCIiIiJOR8Wzi0QF+fLTC1MB+P2H+zja3GZyIhER\n",
              "ERHnouLZhX58biIJ4f6U1jXz0upss+OIiIiIOBUVzy7k42nlwSkDAfjLujwKKhpMTiQiIiLiPFQ8\n",
              "u9jFg3ozISWCljY7T3yw1+w4IiIiIk5DxbOLWSwWHrpyEFYPCx/uOcL67HKzI4mIiIg4BRXPbtC/\n",
              "TxA3nRMPwGPLM2mz2U1OJCIiImI+Fc9uct/FaYT6e7HvSB3/+qrQ7DgiIiIiplPx7Cah/t7cd1Ea\n",
              "AM98vJ+ahlaTE4mIiIiYS8WzG914TjxpvQOpamjlT58eMDuOiIiIiKlOq3g2NTVx1VVXkZaWxvDh\n",
              "w7n44ovJzm7fr7K0tJTLLruM1NRUhgwZwpo1azo+72THejJPqwcPXzkYgNc3HCSrpM7kRCIiIiLm\n",
              "Oe1XPGfNmsX+/fvZuXMn06ZN4/bbbwfgV7/6FRkZGWRlZfHaa69xww030Nra+r3HeroJqRFcPKg3\n",
              "NrvBb1fsxTB0HXcRERFxT6dVPH19fZkyZQoWiwWAjIwM8vPzAfj3v//NHXfcAcCYMWPo27cvX3zx\n",
              "xfcecwcPThmIl9XCmgNlrN5fanYcEREREVOc1Xs8n332WaZNm0ZFRQWtra306dOn41hiYiIFBQUn\n",
              "PXY8zc3N1NbWdrrZbLaziWm6xIgAfjKhHwC/Xb6XljZtryQiIiLu54yL5xNPPEF2djbz58/vyjzM\n",
              "nz+fkJCQTrfNmzd36dcww92TU4gI9CGvvJ5/rM83O46IiIiIw51R8Xz66ad55513WLlyJf7+/oSH\n",
              "h+Pp6cmRI0c67pOfn098fPxJjx3PvHnzqKmp6XQbO3bsmcR0KkG+Xtx/WX8Anvs0i/KjzSYnEhER\n",
              "EXGs0y6eCxYsYPHixaxatYrQ0NCOj1977bW88sorAHz11VccOnSI884773uPfZuPjw/BwcGdblar\n",
              "9XRjOqVr0mMZGhNCXXMbz3y83+w4IiIiIg5lMU5jzLqoqIi4uDiSkpIICgoC2ovipk2bKCkpYebM\n",
              "meTl5eHt7c0LL7zA5MmTAU567FTMnTuXBQsWnOa35py25FdyzSsbsFhg2d0TGBITYnYkEREREYc4\n",
              "reJplp5UPAHuWbyd93ceZmxiGEtmZ3TsEiAiIiLSk+nKRSb41eUD8PXyYHN+JSu+LjY7joiIiIhD\n",
              "qHiaoG+oH3POSwFg/gf7aGp17e2iRERERE6FiqdJZk1KIibUj0PVjby6JtfsOCIiIiLdTsXTJH7e\n",
              "Vn51+QAAXvo8m8PVjSYnEhEREeleKp4munJYNGMSe9HUauf3H+4zO46IiIhIt1LxNJHFYuGRqYOx\n",
              "WOC9HYfZkl9pdiQRERGRbqPiabIhMSFcNzoOgEeXZWK3O/3uViIiIiJnRMXTCfz8kv4E+njy9aEa\n",
              "lm4rMjuOiIiISLdQ8XQCkUE+3HNh+/ZKv/9wP3VNrSYnEhEREel6Kp5O4tbx/egXEUD50WZeXJ1j\n",
              "dhwRERGRLqfi6SS8PT34zRUDAfjbujwOVtSbnEhERESka6l4OpELBkQxKS2SFpudx1fsNTuOiIiI\n",
              "SJdS8XQiFouFh64YiNXDwseZJazLKjc7koiIiEiXUfF0Mqm9g5iZkQDAY8v30Gazm5xIREREpGuo\n",
              "eDqh+y5Ko5e/FwdKjvLPzQVmxxERERHpEiqeTijE34u5l/QHYMGqA1Q3tJicSEREROTsqXg6qRlj\n",
              "4ujfO4jqhlb+9EmW2XFEREREzpqKp5PytHrw8NRBALyx8SAHSupMTiQiIiJydlQ8ndi5KRFcOrg3\n",
              "NrvBb5dnYhi6jruIiIh8P7vd4Ghzm9kxvkPF08k9OGUQ3lYP1maV88neUrPjiIiIiJM6UtPEW1sK\n",
              "uWfxdkY//glPfbjP7Ejf4Wl2ADm5+HB/bp/Yj5c+z+HxFZlMSovAx9NqdiwRERExWWOLjU15FazN\n",
              "KmdtVhkHSo52Or7lYJVJyU5MxdMF3Dk5hbe2FpFf0cDfv8xn9nnJZkcSERERB7PbDfYeqe0oml/l\n",
              "VdHyjf2+LRYYFhPCxNRIJqZGMDK+l4lpj0/F0wUE+njywGUD+MVbO3n+s2x+mB5DVJCv2bFERESk\n",
              "m5XWNnUUzXXZ5ZQf7bzFYt8Q3/aimRbBuckR9ArwNinpqVHxdBFXj4zhjQ357Cyq4emP9vOHa4ab\n",
              "HUlERES6WFOrjc15lazNKmNtVjn7jnTe1cbf20pGUjgTUyOYmBpJcmQAFovFpLSnT8XTRXh4WHh4\n",
              "6mCmv7yet7YWMTMjkaGxIWbHEhERkbNgGAb7jtR1FM1NeZW0tHVePh/SN6SjaI5K6IW3p+vOhqt4\n",
              "upBRCb24akRf3t1xmEeX7eGtO8a51L9yREREBMrqmlmXXcbaA+WszS6nrK650/E+wb7tRTMtknOT\n",
              "wwkP9DEpaddT8XQxD1w+gI/2lLDlYBXLdhXzg+F9zY4kIiIiJ9HUamNLfhVrs8pYk1XO3uLaTsd9\n",
              "vTyOLZ9HMik1gpSowB77wpKKp4uJDvHjzvOTeWbVAeZ/sJeLB/bGz1vbK4mIiDgLwzA4UHK0o2hu\n",
              "yq2g+RvL5wCD+wZ3FM1Rib3cZqtEFU8X9H+TkvjXV4Ucqm7klS9yuO/iNLMjiYiIuLXyo818mV3O\n",
              "mgPtE+il31o+jwryaS+aaRGcmxJBRA9aPj8dKp4uyNfLyoNXDOTON7fxyhc5/GhMHDGhfmbHEhER\n",
              "cRvNbTa25lex5thWR3sOd14+9/H04JykcCYdGwpK691zl89Ph4qni7p8SB/G9gtjc14lT67cx/Mz\n",
              "RpodSUREpMcyDIPs0qMdRXNTbiWNrbZO9xkYHdxRNEcn9sLXyz2Wz0+HiqeLslgsPDJ1EFc+v45l\n",
              "Ow8zMyOBsf3CzI4lIiLSY1TWt7Auu5y1B9q3OjpS29TpeESgT3vRPLZ8rou7fD8VTxc2uG8I14+J\n",
              "Z/HmAh5dtof3756A1UMv44uIiJyJljY7Ww9WdeypuftwDYbxv+Penh6c0y+sY0/NAX2CtHx+mlQ8\n",
              "XdwvLklj+a7D7Dlcy9tbC7luTLzZkURERFyCYRjklNV3FM2NuRU0tHRePh/QJ6ijaI7tF6bl87Ok\n",
              "4uniwgN9uPfCVH63Yi9PfbSfKUOjCfL1MjuWiIiIU6qqb+HLnPL2zduzyjhc8+3lc28mpLQXzQmp\n",
              "EfQO1vJ5V1Lx7AFuHpfIPzcVkFtezwufZTNvykCzI4mIiDiFVpud7QXVrDlQxtqsMnYd+tbyudWD\n",
              "Mf16MTE1kompEQzsE4yH3rbWbVQ8ewBvTw8eunIQP/77V/ztyzyuHxtPv4gAs2OJiIg4nGEY5Fc0\n",
              "tG/efqCcDTnl1H9r+Tytd2BH0TynX7guxOJAKp49xOQBUZzfP5LP95fx+IpM/nLLGLMjiYiIOERN\n",
              "Q2v78vmx92oWVTV2Oh4W8N/l8/Yl9D4hWj43i4pnD/KbKwaxLmsNn+wtZc2BMialRZodSUREpMu1\n",
              "2uzsKKxm7YH2S1LuKqrG/o3lcy+rhdEJYUxMi2BSaiSDorV87ixUPHuQlKhAbh6XyN++zOO3yzP5\n",
              "4N6JeFk9zI4lIiJy1vLL6zuufb4hp4KjzW2djqdEBTIxtb1onpMUhr+3Ko4z0v+VHubeC1N5d8ch\n",
              "skqP8ubGg9x6bj+zI4mIiJy2msZWNuRUdCyfF1Q2dDoe6u/FhJT2ojkhNYK+unS0S1Dx7GFC/L34\n",
              "+SVpPPif3SxYdYAfjIghLMDb7FgiIiIn1Wazs7OopqNo7iisxvaN9XNPDwujEnoxKa19KGhw3xBd\n",
              "NMUFqXj2QNePieeNDQfZd6SOP646wG+vGmJ2JBERke8orGxgTVYZaw+U82VOOXVNnZfPkyIDmPTf\n",
              "6fOkcAJ9VFtcnf4P9kBWDwuPTB3MjD9v5M1NB7kxI54BfYLNjiUiIm6urum/y+ftE+j5FZ2Xz0P8\n",
              "vDqmzyekRhDby9+kpNJdVDx7qHHJ4Vw+pA8rdx/hsWWZvHn7ObqerIiIOJTNbrCrqLqjaG4r+O7y\n",
              "eXp8r/ZtjtIiGRqj5fOeTsWzB/v1lIF8uq+U9TkVfJxZwqWD+5gdSUREerjCygbWZbcXzXVZ5dR+\n",
              "a/m8X0RAx36aGUlhusyzm1Hx7MHiwvyZNTGJF1Zn8/iKvZyXFomvl67OICIiXedocxsbvzF9nlte\n",
              "3+l4kK9nx7XPJ6ZGEBem5XN3puLZw805P5m3thZSUNnA377M487zU8yOJCIiLsxmN9h9qKZjT81t\n",
              "B6to+8byudXDwsi40PaimRbBsJgQPLWntByj4tnDBfh48sBlA5j77528+Fk216THEhWsS4WJiMip\n",
              "O1TdyLpjRfPL7HKqG1o7HU8I9+9YPh+XHE6wls/lBFQ83cBVI2J4fcNBdhRW84eP9vP0tcPNjiQi\n",
              "Ik6svrmNTXkVrDnQ/l7NnLJvLZ/7eDI+Jbxj+TwhPMCkpOJqVDzdgIeHhUemDuKHL63n7a1FzMxI\n",
              "YHhcqNmxRETESdjtBnsO17bvqZlVxtaDVbTa/rd87mGBEceWzyelRTA8NlTL53JGVDzdxMj4Xlyd\n",
              "HsM72w7x6LI9LJ0zXtsriYi4seKaxmPbHJWzLquMqm8tn8f28mNSWiSTUiMYlxRBiL+Wz+XsqXi6\n",
              "kQcuG8CHu4+wraCa93ceZtqIGLMjiYiIgzS0tLEpr5K1x5bPs0qPdjoe6OPJuORwJh17r2ZCuL9e\n",
              "oJAup+LpRnoH+3LX5BSe+mg/8z/Yx8WDeuPvrYeAiEhPZLcbZBbXdmzeviW/ihabveO4hwWGxYa2\n",
              "F820SEbEheKl5XPpZmodbua2Cf1YvLmAoqpGXvk8h7mX9Dc7koiIdJGS2qaOorkuq5yK+pZOx2NC\n",
              "/ZiU1v6K5vjkcEL9vU1KKu5KxdPN+HpZ+c0VA7lj0TYWrsnl2tFx2sxXRMRFNbbY2JxfydoD7Zu3\n",
              "7y+p63Tc39vK+OT/TZ/3iwjQ8rmYSsXTDV06uA/jksLZkFvBkyv38eKN6WZHEhGRU2AYBnuL6zqu\n",
              "ErQ5v5KWtv8tn1ssMCwmpKNojozvhbenls/FeZxW8bznnnt4//33OXjwINu3b2fEiBEAJCYm4uPj\n",
              "g5+fHwDz5s3juuuuAyArK4tbbrmF8vJyQkJC+Pvf/87gwYO79ruQ02KxWHh46iCueG4tK74u5ubc\n",
              "Cs5JCjc7loiIHIdhGHy05wgf7SlhbVY55UebOx2PDvFlYmoEk9IiOTc5gl4BWj4X53VaxfOaa67h\n",
              "/vvvZ8KECd85tmTJko4i+k2zZ89m1qxZ3Hrrrbz99tvceuutfPXVV2ccWLrGwOhgZoyN581NBTy6\n",
              "LJNlP52A1UPLLyIizmbhmlyeXLmv489+XlYyksI69tRMjgzU8rm4jNMqnpMmTTqtv7y0tJQtW7bw\n",
              "8ccfAzB9+nTuvvtusrOzSUnRNcPNNvfiNJbtPExmcS3/3lLIjLHxZkcSEZFvWHOgjD982F46bzgn\n",
              "niuHRTMqoRc+nlaTk4mcmS5748fNN9/M0KFDue222ygrKwOgsLCQ6OhoPD3b+63FYiE+Pp6CgoIT\n",
              "/j3Nzc3U1tZ2utlstq6KKd8QHujDzy5KA+Dpj/ZT09j6PZ8hIiKOUlDRwE8Xb8duwI9Gx/L4VUMY\n",
              "nxyh0ikurUuK55o1a9i1axfbtm0jIiKCW2655Yz/rvnz5xMSEtLptnnz5q6IKccxc1wCyZEBVNS3\n",
              "8PynWWbHERER2jd7n/XGFmoaWxkeF8pj04ZoOV16hC4pnvHx7Uu0Xl5e/OxnP2Pt2rUAxMXFUVxc\n",
              "TFtbG9D+BumCgoKO+x/PvHnzqKmp6XQbO3ZsV8SU4/CyevDQlYMA+Pv6fHLKjn7PZ4iISHcyDIMH\n",
              "ln7NviN1RAR688pN6fh66VVO6RnOunjW19dTXV3d8efFixczcuRIAKKiokhPT2fRokUALF26lNjY\n",
              "2JO+v9PHx4fg4OBON6tVP3Dd6fz+UVwwIIo2u8HjK/aaHUdExK39ZW0ey3YextPDwos3pBMd4md2\n",
              "JJEuc1rFc/bs2cTGxlJUVMSll15KSkoKJSUlTJ48mWHDhjF06FC++OILXn/99Y7PWbhwIQsXLiQt\n",
              "LY0nn3yS1157rcu/CTl7v7liIJ4eFj7bV8rq/aVmxxERcUvrssqZv7L9BYCHrhykre6kx7EYhmGY\n",
              "HeL7zJ07lwULFpgdo8d7fEUmf16bR3JkAB/+bJKu2Ssi4kCFlQ384IV1VDW0Mj09lqevHab3dUqP\n",
              "o2YhHX56YSrhAd7klNXzxoaDZscREXEbjS02Zr+xlaqGVobGhPD4DzVMJD2Tiqd0CPb14heX9gfg\n",
              "j58coOJbV8cQEZGuZxgG897ZRWZxLeEB3iycOUrDRNJjqXhKJz8aHceg6GDqmtpYsOqA2XFERHq8\n",
              "v32Zz7s7DmP1sPDCDen0DdUwkfRcKp7SidXDwiNT27dXWry5gMzDtSYnEhHpudbnlPPEB+3DRA9O\n",
              "Gci4ZA0TSc+m4infcU5SOFcMi8ZuwGPL9+AC82ciIi7nUHUjd/9zOza7wQ9HxvDjcxPNjiTS7VQ8\n",
              "5bjmXT4AH08PNuZW8tGeI2bHERHpUZpabcx+YwuV9S0M7hvM/KuHaphI3IKKpxxXbC9/Zk9KAuB3\n",
              "K/bS1GozOZGISM9gGAa//s/X7D5USy9/Lw0TiVtR8ZQTuuP8ZPoE+1JU1chf1+WZHUdEpEf4x/p8\n",
              "3tl2CA8LvHhDOrG9/M2OJOIwKp5yQv7ensybMgCAF1dnU1LbZHIiERHXtjG3gt8euzTxr6cMZHxK\n",
              "hMmJRBxLxVNO6gfD+5IeH0pDi43ff7jP7DgiIi7rcHUjd725DZvdYNqIvtw2oZ/ZkUQcTsVTTspi\n",
              "sfDI1MEAvLPtENsLqkxOJCLieppabdyxaCsV9S0MjA7myat1OUxxTyqe8r2Gx4VyzahYAB5dlond\n",
              "ru2VREROlWEY/Obd3ewqqiHU34tXZ47Cz1vDROKeVDzllNx/aX8CvK3sKKzm3R2HzI4jIuIyFm08\n",
              "yNtbi/CwwAsz0okL0zCRuC8VTzklUcG+3H1BKgBPrtxHfXObyYlERJzf5rxKHl2WCcCvLh/AhFQN\n",
              "E4l7U/GUU/aTCYnEh/lTWtfMy5/nmB1HRMSpFdc0cuebW2mzG1w5LJr/m5hkdiQR06l4yinz8bTy\n",
              "4BUDAXh1bS6FlQ0mJxIRcU7NbTbuWLSN8qMtDOgTxB+u0TCRCKh4ymm6ZFBvzk0Jp6XNzhMf7DU7\n",
              "joiI0zEMg4ff3cPOwmpC/NqvTOTv7Wl2LBGnoOIpp8VisfDwlYPxsMDK3UdYn1NudiQREafyz80F\n",
              "LNlSiIcFnpsxkoTwALMjiTgNFU85bf37BHHjOQkAPLYsE5u2VxIRAWBLfiX/7/09APzy0gGclxZp\n",
              "ciIR56LiKWdk7sVphPh5se9IHf/6qsDsOCIipiupbWLOm9totRlMGdqHO87TMJHIt6l4yhnpFeDN\n",
              "fRe1b6/09Ef7qWloNTmRiIh5mttszFm0lbK6ZtJ6B/LUNcM1TCRyHCqecsZuzEggNSqQqoZWnv00\n",
              "y+w4IiKmeXRZJtsKqgn29eTVmaMJ8NEwkcjxqHjKGfOyevDw1EEAvL4hn+zSoyYnEhFxvMWbC/jn\n",
              "pgIsFnh2xkgSIzRMJHIiKp5yViamRnLRwCja7Aa/W5FpdhwREYfaerCKh9/bDcAvLunP5P5RJicS\n",
              "cW4qnnLWHrxiEF5WC5/vL2P1vlKz44iIOERpbRNzFm2l1WZw2eA+3Hl+stmRRJyeiqectX4RAfzk\n",
              "3H4A/HZ5Ji1tdpMTiYh0r5Y2O3e+uY3SumZSowJ5+kcaJhI5FSqe0iXuviCFiEBvcsvreX1Dvtlx\n",
              "RES61WPL97DlYBVBvp68evNoAjVMJHJKVDylSwT5evHLS/sD8OwnWZQfbTY5kYhI91jyVQGLNh4b\n",
              "Jrp+BP00TCRyylQ8pctcMyqOITHB1DW38czHB8yOIyLS5XYUVvPQu+1XJrrvojQuGNDb5EQirkXF\n",
              "U7qM1cPCI1MHA/CvrwrYc7jG5EQiIl2nrK6ZO97YSovNziWDenP35BSzI4m4HBVP6VJjEsOYOrwv\n",
              "htG+obJh6DruIuL6Wm127npzG0dqm0iODOCZHw3Hw0PDRCKnS8VTutyvLh+Ar5cHm/Mq+eDrI2bH\n",
              "ERE5a79bnsnm/EoCfdqHiYJ8vcyOJOKSVDyly8WE+jF7Uvt+dk98sJemVpvJiUREztxbWwr5x4aD\n",
              "APzxuhEkRwaanEjEdal4Sre447xkokN8OVTdyJ/X5JodR0TkjOwqqubBd9uvTHTvhalcPEjDRCJn\n",
              "Q8VTuoWft5V5UwYC8NLnORTXNJqcSETk9JQfPTZM1GbnooFR3HthqtmRRFyeiqd0m6nDohmd0IvG\n",
              "Vhu/X7nP7DgiIqfsv8NEh2uaSIoIYMF1IzRMJNIFVDyl21gs7dsrWSzw7o7DbD1YZXYkEZFT8sQH\n",
              "e9mUV0mAt5VXbx5FsIaJRLqEiqd0q6GxIVw7KhaAx5btwW7X9koi4tze2VbEa1/mA/DMj0aQEhVk\n",
              "biCRHkTFU7rdLy7tT6CPJzuLanhn+yGz44iInNDuQzXMe+drAH56QQqXDeljciKRnkXFU7pdVJAv\n",
              "P72g/Qofv/9wH0eb20xOJCLyXZX1Lcx+YyvNbXYm94/kvovSzI4k0uOoeIpD3HpuIonh/pTVNfPi\n",
              "6myz44iIdNJms3P3P7dxqLqRxHB//nT9SA0TiXQDFU9xCB9PKw9eMQiAv67No6CiweREIiL/8+TK\n",
              "fazPqcDf28qrN48mxE/DRCLdQcVTHOaigVFMTI2gxWbn8Q8yzY4jIgLAezsO8Zd1eQA8c+1w0npr\n",
              "mEiku6h4isNYLBYeunIQVg8LH+0p4cvscrMjiYib23O4hgeW7gLgrsnJXD402uREIj2biqc4VFrv\n",
              "IGZmJADw2LJM2mx2kxOJiLuqOjZM1NRq57y0SOZe3N/sSCI9noqnONzPLkol1N+L/SV1LN5cYHYc\n",
              "EXFDbTY7dy/eRlFVI/Fh/jx3/UisGiYS6XYqnuJwof7ezL24fZuSBasOUN3QYnIiEXE3T320ny+z\n",
              "/ztMNIoQfw0TiTiCiqeY4oax8aT1DqSqoZU/fZJldhwRcSPLdh5m4ZpcAJ66ZjgD+gSbnEjEfah4\n",
              "iik8rR48MnUwAG9sPEhWSZ3JiUTEHWQeruX+t9uHie44L5krhmmYSMSRVDzFNOemRHDJoN7Y7AaP\n",
              "Lc/EMHQddxHpPtUNLcxetIXGVhsTUyP45aUaJhJxNBVPMdWDVwzE2+rB2qxyPt1banYcEemhbHaD\n",
              "ny7eTmFlI3Fhfjw/Q8NEImZQ8RRTJYQH8JMJ/QD43YpMWtq0vZKIdL2nP97P2qxy/LysvDpzNKH+\n",
              "3mZHEnFLKp5iursvSCEyyIf8igb+vj7P7Dgi0sOs2FXMy5/nAPD7a4YxMFrDRCJmUfEU0wX6eHL/\n",
              "sfdaPfdpNmV1zSYnEpGeYv+ROn759k4AZk1K4gfD+5qcSMS9qXiKU5ieHsuw2BCONrfx9Ef7zY4j\n",
              "Ij1ATUMrs97YQkOLjXNTwjv+gSsi5lHxFKfg4WHhkamDAPj31kJ2H6oxOZGIuDKb3eDeJds5WNFA\n",
              "TKgfz89Ix9OqX3kiZjutn8J77rmHxMRELBYLO3bs6Ph4VlYW48ePJy0tjTFjxrBnz55TOibyTaMS\n",
              "wpg2oi+GAY8u26PtlUTkjP1x1QE+31+Gr5cHr948irAADROJOIPTKp7XXHMN69atIyEhodPHZ8+e\n",
              "zaxZszhw4AAPPPAAt9566ykdE/m2X10+AD8vK1/lV7F8V7HZcUTEBX24u5gXVmcD8PvpwxjcN8Tk\n",
              "RCLyX6dVPCdNmkRsbGynj5WWlrJlyxZuuukmAKZPn05hYSHZ2dknPSZyPNEhfsw5PxmA+R/spbHF\n",
              "ZnIiEXElB0rqmPvv9mGi2yb0Y9qIGJMTicg3nfUbXgoLC4mOjsbT0xMAi8VCfHw8BQUFJz12Is3N\n",
              "zdTW1na62WwqH+5k1qQkYkL9OFzTxMI1OWbHEREXUdPYyuw3ttLQYmNcUjjzLh9gdiQR+Rane6f1\n",
              "/PnzCQkJ6XTbvHmz2bHEgXy9rMyb0v4L45Uvcjhc3WhyIhFxdna7wX1LdpBXXk9MqB8v3DBSw0Qi\n",
              "Tuisfyrj4uIoLi6mra0NAMMwKCgoID4+/qTHTmTevHnU1NR0uo0dO/ZsY4qLuWJoNGMTw2hqtfPk\n",
              "yn1mxxERJ/enTw7w2b5SfDw9WDhzFOGBPmZHEpHjOOviGRUVRXp6OosWLQJg6dKlxMbGkpKSctJj\n",
              "J+Lj40NwcHCnm9VqPduY4mIsFgsPTx2ExQLv7zzMV/mVZkcSESf10Z4jPPdZ++zA/KuHMiRGw0Qi\n",
              "zuq0iufs2bOJjY2lqKiISy+9tKNALly4kIULF5KWlsaTTz7Ja6+91vE5JzsmcjJDYkK4fkwcAI8t\n",
              "y8Ru1/ZKItJZdmkdPz82THTr+ESuTo/9ns8QETNZDBfYLHHu3LksWLDA7BhigvKjzUx+6nPqmtv4\n",
              "wzXD+NHoOLMjiYiTqG1q5aoXvyS3rJ5z+oWx6PZz8NL7OkWcmn5CxalFBPpwz4WpAPzhw/3UNbWa\n",
              "nEhEnIHdbjB3yU5yy+qJDvHlxRvTVTpFXIB+SsXp3TI+kX4RAZQfbe7YFFpE3Ntzn2Xxyd4SvD09\n",
              "eOWmUURomEjEJah4itPz9vTgoSsHAvC3dXnkldebnEhEzLQqs4Q/fZIFwONXDWF4XKi5gUTklKl4\n",
              "ikuY3D+KSWmRtNoMHl+x1+w4ImKSnLKjzF2yA4BbxiVwrd73LeJSVDzFJVgsFh6+ciBWDwuf7C1h\n",
              "bVaZ2ZFExMHqmlqZ9foW6prbGJsYxm+uHGR2JBE5TSqe4jJSooK4eVwC0L69UpvNbnIiEXEUu93g\n",
              "5//eSU5ZPX2CNUwk4qr0Uysu5WcXptHL34us0qO8uanA7Dgi4iAvrs7m48wSvK0evHxTOpFBGiYS\n",
              "cUUqnuJSQvy9+Pkl/QFYsOoAVfUtJicSke722b4SFnxyAIDfXjWYkfG9TE4kImdKxVNczvVj4hjQ\n",
              "J4iaxlb+eOyXkYj0THnl9dz7rx0YBtyUEc91Y+LNjiQiZ0HFU1yOp9WDh48NFby5qYD9R+pMTiQi\n",
              "3eFoc1v7MFFTG6MSevHwlYPNjiQiZ0nFU1zS+JQILhvcB5vd4LHle3CBK7+KyGkwDINfvrWTrNKj\n",
              "RAX58PKN6Xh76leWiKvTT7G4rF9PGYi3pwdfZlewKrPE7Dgi0oVe+jyHlbuP4GW18PJNo4gK9jU7\n",
              "koh0ARVPcVnx4f7cPqEfAI9/sJfmNpvJiUSkK3y+v5SnP94PwGPThjAqQcNEIj2Fiqe4tDsnpxAV\n",
              "5MPBigZe+zLf7DgicpYOVtRzz+LtGAbMGBvPjLEaJhLpSVQ8xaUF+njywGUDAHj+0yxK65pMTiQi\n",
              "Z6q+uY1Zr2+ltqmNkfGh/L8f6MpEIj2Niqe4vB+OjGF4XCj1LTae+nC/2XFE5AwYhsH9b+9if0kd\n",
              "kUE+vHLTKHw8rWbHEpEupuIpLs/Dw8IjU9tfGXlraxE7C6vNDSQip23hmlxWfF3cPkx0Yzq9NUwk\n",
              "0iOpeEqPkB7fix+OjAHgseWZ2l5JxIWsOVDGHz7cB8AjUwczOjHM5EQi0l1UPKXHeOCyAfh5Wdl6\n",
              "sIr3dx42O46InIKCigZ+ung7dgOuGx3HjedomEikJ1PxlB6jT4gvd01OBuDJlftoaGkzOZGInExD\n",
              "Sxuz3thCTWMrw+NCeXTaYCwWi9mxRKQbqXhKj3L7xCRie/lRXNPEK1/kmh1HRE7AMAweWPo1+47U\n",
              "ERHow8KbRuHrpWEikZ5OxVN6FF8vK7+eMhCAhV/kUFTVYHIiETmev6zNY9nOw3h6WHjpxnT6hGiY\n",
              "SMQdqHhKj3P5kD6c0y+M5jY7T67cZ3YcEfmWdVnlzF+5F4CHpw5ibD8NE4m4CxVP6XEsFgsPTx2E\n",
              "hwWW7ypmc16l2ZFE5JjCygZ+ungbdgOuGRXLzIwEsyOJiAOpeEqPNLhvCNcfu9Teo8v2YLNreyUR\n",
              "szW22Jj9xlaqGloZFhvC764aomEiETej4ik91s8vTiPI15M9h2t5a0uh2XFE3JphGMx7ZxeZxbWE\n",
              "B3jzioaJRNySiqf0WOGBPtx7YSoAT320n9qmVpMTibivv32Zz7s7DmP1sPDijen0DfUzO5KImEDF\n",
              "U3q0m8clkhQZQEV9Cy98lm12HBG3tD6nnCc+aB8m+s0VA8lICjc5kYiYRcVTejRvTw8eurL9Ou6v\n",
              "fZlHbtlRkxOJuJeiqgbu/ud2bHaDq9NjuHV8otmRRMREKp7S403uH8Xk/pG02gweX7HX7DgibqOp\n",
              "1cYdi7ZSWd/CkJhgnvjhUA0Tibg5FU9xC7+5chCeHhY+3VfK5/tLzY4j0uMZhsGv//M1uw/VEqZh\n",
              "IhE5RsVT3EJyZCC3HFvi++3yTFptdnMDifRwf1+fzzvbDmH1sPDCDSOJ7eVvdiQRcQIqnuI27rkw\n",
              "lbAAb3LK6lm08aDZcUR6rI25Ffzu2Nta5l0+gPHJESYnEhFnoeIpbiPEz4tfXNIfgD+uOkBlfYvJ\n",
              "iUR6nsPVjdz15jZsdoOrRvTltgn9zI4kIk5ExVPcynVj4hgYHUxtUxsLVu03O45Ij/LfYaKK+hYG\n",
              "RQcz/+phGiYSkU5UPMWtWD0sPDK1fXulf24qYG9xrcmJRHoGwzD4zbu72VVUQ6i/FwtnjsLPW8NE\n",
              "ItKZiqe4nYykcKYM7YPdgMeWZWIYuo67yNl6Y+NB3t5ahIcFXpiRTlyYholE5LtUPMUtzbt8IN6e\n",
              "HmzIreCjPSVmxxFxaZvzKnlsWSbQ/rM1IVXDRCJyfCqe4pbiwvyZPSkJgMc/yKSp1WZyIhHXVFzT\n",
              "yJ1vbqXNbjB1eF9un6hhIhE5MRVPcVt3nJdM72AfCisb+eu6PLPjiLic5jYbdyzaRvnRFgb0CeL3\n",
              "03VlIhE5ORVPcVsBPp786vIBALy4OpuS2iaTE4m4DsMwePjdPewsrCbEz4tXZ47G39vT7Fgi4uRU\n",
              "PMWtTRsew8j4UBpabPzhQ22vJHKq3txUwJIthe3DRDeMJD5cw0Qi8v1UPMWteXhYeGTqYACWbiti\n",
              "R2G1uYFEXMCW/EoeXbYHgPsvG8DE1EiTE4mIq1DxFLc3Ii6U6emxAPy/9/dgt2t7JZETKaltYs6b\n",
              "22i1GVwxNLpjSE9E5FSoeIoA91/WH39vKzsKq3lv5yGz44g4peY2G3MWbaWsrpn+vYP4wzW6MpGI\n",
              "nB4VTxGgd7Avd01OAeDJlfuob24zOZGI8/l/72eyraCaYF9PXr15FAE+GiYSkdOj4ilyzG0T+hEX\n",
              "5kdJbTOvfJFjdhwRp/LPTQUs3lyAxQLPzRhJQniA2ZFExAWpeIoc4+tl5cEp7ddxX7gml8LKBpMT\n",
              "iTiHrQereOT93QD84pL+nN8/yuREIuKqVDxFvuHSwb0ZlxROS5ud+Sv3mh1HxHSltU3MWbSVVpvB\n",
              "5UP6cOf5yWZHEhEXpuIp8g0Wi4WHpw7CwwIffH2EjbkVZkcSMU1Lm50739xGaV0zqVGBPHXtcA0T\n",
              "ichZUfEU+ZaB0cHccE48AI8uy8Sm7ZXETT22fA9bDlYR5OvJqzePJlDDRCJyllQ8RY5j7sX9Cfb1\n",
              "ZG9xLUu+KjQ7jojDLfmqgEUb24eJnr1+BP0iNEwkImdPxVPkOMICvLnv4jQAnv54PzWNrSYnEnGc\n",
              "HYXVPPRu+5WJ5l6UxgUDepucSER6ChVPkRO4KSOBlKhAKutbeO7TLLPjiDhEaV0Td7yxlRabnUsG\n",
              "9e7Y31ZEpCuoeIqcgJfVg4eubN9e6R/r88kpO2pyIpHu1dJm5643t3GktomUqEAWXDcCDw8NE4lI\n",
              "11HxFDmJ89IiuXBAFG12g98tzzQ7jki3enxFJl/lVxHk48nCmaM0TCQiXU7FU+R7PHjFQLysFlbv\n",
              "L2P1vlKz44h0i7e2FPKPDQcB+ON1I0iODDQ5kYj0RF1aPBMTE+nfvz8jRoxgxIgRLFmyBICsrCzG\n",
              "jx9PWloaY8aMYc+ePV35ZUW6VVJkID8+tx8Av12RSUub3eREIl1rV1E1D77bfmWin12UykWDNEwk\n",
              "It2jy1/xXLJkCTt27GDHjh1cd911AMyePZtZs2Zx4MABHnjgAW699dau/rIi3eruC1IID/Amt6ye\n",
              "1zfkmx1HpMuUH21m9htbaWmzc9HA3txzQarZkUSkB+v2pfbS0lK2bNnCTTfdBMD06dMpLCwkOzu7\n",
              "u7+0SJcJ9vXil5f2B+DZT7OoONpsciKRs9dqax8mKq5pIikygAXXDdcwkYh0qy4vnjfffDNDhw7l\n",
              "tttuo6ysjMLCQqKjo/H0bH+TusViIT4+noKCguN+fnNzM7W1tZ1uNputq2OKnLZrR8cxuG8wdU1t\n",
              "PLPqgNlxRM7aEx/sZVNeJYE+nrw6czTBvl5mRxKRHq5Li+eaNWvYtWsX27ZtIyIigltuueW0/475\n",
              "8+cTEhLS6bZ58+aujClyRqweFh6ZOhiAxZsL2HO4xuREImfunW1FvPZlPgDP/Gg4KVEaJhKR7tel\n",
              "xTM+vv361l5eXvzsZz9j7dq1xMXFUVxcTFtbGwCGYVBQUNBx32+bN28eNTU1nW5jx47typgiZ2xs\n",
              "vzCuGBaNYcBjyzIxDF3HXVzP7kM1zHvnawDuuSCFSwf3MTmRiLiLLiue9fX1VFdXd/x58eLFjBw5\n",
              "kqioKNLT01m0aBEAS5cuJTY2lpSU418Nw8fHh+Dg4E43q9XaVTFFztq8ywfg4+nBprxKVu4+YnYc\n",
              "kdNScWyYqLnNzoUDovjZRWlmRxIRN9JluwOXlJQwffp0bDYbhmGQlJTE66+/DsDChQu59dZbeeKJ\n",
              "JwgODua1117rqi8r4nCxvfyZfV4yz32axRMf7OWCAVH4eukfR+L82mx27v7ndg5VN9IvIkBXJhIR\n",
              "h+uy4pmUlMT27duPe6x///5s2LChq76UiOnuOC+Jt7YUUlTVyF/W5nK3tqARF/Dkyn1syK0gwNvK\n",
              "qzNHEeKnYSIRcSxduUjkDPh7e/KrywcA8OLqHI7UNJmcSOTk3ttxiL+sywPah4lSeweZnEhE3JGK\n",
              "p8gZ+sHwvoxK6EVjq437luxgVWYJNY2tZscS+Y7dh2p4YOkuAO6enMJlQ6JNTiQi7qrLltpF3I3F\n",
              "YuGRqYO46sUv2ZBbwYbcCjwsMLhvCOOSwxmXHM6YxDACffRjJuaprG9h9htbaWq1c37/SO67WMNE\n",
              "ImIe/UYUOQvDYkNZMnsc724/xIacCnLL6/n6UA1fH6rh1TW5WD0sDIsNYVxSexEdnRCGn7cGkcQx\n",
              "2mx2frp4G4eqG0kI9+fZ60Zi1TCRiJhIxVPkLI1JDGNMYhgAR2qa2JhbwYacCtbnllNY2cj2gmq2\n",
              "F1Tz0uc5eFktjIzrRUZyOOOSwhkZH6qJeOk2T320ny+zK/D3tvLqzNGE+GuYSETMpeIp0oX6hPhy\n",
              "1cgYrhoZA0BRVQMbctqX4TfkVFBc08Tm/Eo251fy3KdZ+Hh6MCqhV8crosNiQ/H21Fuv5ey9v/Mw\n",
              "C9fkAvD0tcPp30fDRCJiPhVPkW4U28ufa0f7c+3oOAzD4GBFQ0cJXZ9TQfnRZtYf+29WgZ+XlTH9\n",
              "wjqK6JC+wXhaVUTl9GQeruX+t3cCMOf8ZKYM1TCRiDgHFU8RB7FYLCRGBJAYEcCMsfEYhkFO2dFO\n",
              "r4hWNbSy5kAZaw6UARDk48nYfmGMSw4nIymcQdHB2vBbTqq6oYXZi7bQ1GpnYmoEv7ikv9mRREQ6\n",
              "qHiKmMRisZASFURKVBAzxyVitxvsL6nrKKKbciuobWrj032lfLqvFIAQPy/O6RfG+ORwxiVHkNY7\n",
              "EItFRVTa2ewGP128ncLKRuLD/Hl+hoaJRMS5qHiKOAkPDwsDo4MZGB3MTyb0w2Y3yDxcy4bccjbk\n",
              "VLA5r5KaxlY+zizh48wSAMIDvMk4tiw/LjmcpIgAFVE39tRH+1mbVY6fl5WFM0cR6u9tdiQRkU5U\n",
              "PEWclNXDwtDYEIbGhjBrUjKtNjtfH6phQ04FG3Mr+Cq/kor6FlZ8XcyKr4sBiAryYVxyePsrokkR\n",
              "xIX5qYi6ieW7DvPKFzkA/OGaYQyMDjY5kYjId6l4irgIL6sH6fG9SI/vxV2TU2hus7GzsObY0nw5\n",
              "2wqqKa1r5r0dh3lvx2EAYkL9Or0iGhPqZ/J3Id1h35FafvlW+5WJZk9KYurwviYnEhE5PhVPERfl\n",
              "42llbL8wxvYL415SaWq1sa2gqr2I5lSwo7CaQ9WNLN1WxNJtRQAkhPt3TMyPSwonKtjX5O9CzlZN\n",
              "Qyuz39hKY6uNCSkR/PJSDROJiPNS8RTpIXy9rIxPjmB8cgQADS1tbMmvYv2xYaWvi6o5WNHAwYoG\n",
              "/vVVIQDJkQHHSmgEGUlhhAf6mPktyGmy2Q3uXbKdgxUNxPby4/kZI7X9log4NRVPkR7K39uTSWmR\n",
              "TEqLBKCuqZWv8itZn91eRDOLa8kpqyenrJ5FGwsAGNAnqGNpPqNfuK504+QWrNrP5/vL8PXyYOHM\n",
              "UfQK0DCRiDg3FU8RNxHk68UFA3pzwYDeQPt+j5vyKjuW5veX1LHvSPvt7+vzsVhgcN/gjqX5MYlh\n",
              "BPmqiDqLlV8X8+Lq9mGi308fxuC+ISYnEhH5fiqeIm4q1N+bSwf34dLBfQAoP9rMptxKNuSWsz6n\n",
              "gtyyenYfqmX3oVr+vDavfco+JqTj/aGjE3vh762nEDMcKKnj52+1X5no9gn9mDYixuREIiKnRr81\n",
              "RASAiEAfrhgWzRXD2i+vWFLbxMZjV1TakFvBwYoGdhRWs6Owmpc/z8HLamF4bCjjk8PJSA4nPb4X\n",
              "vl5Wk7+Lnq+msX2YqKHFxvjkcH51+QCzI4mInDIVTxE5rt7BvkwbEdPxatqh6saOZfkNOeUcrmli\n",
              "y8Eqthys4rnPsvH29CA9PpTxyRGMSw5neGwo3p4adOlKdrvBfUt2kFdeT0yoHy/ckK5hIhFxKSqe\n",
              "InJKYkL9uGZULNeMisUwDAoqGzpdZ760rpmNuZVszK2EVeDnZWV0Yq+OpfmhMSEqSWfpT58c4LN9\n",
              "pfh4tg8ThWmYSERcjIqniJw2i8VCQngACeEBXD82HsMwyCmrZ0NuBRuPXVmpor6FtVnlrM0qByDQ\n",
              "x5Mxx4ro+OQIBkYH6zrip+GjPUd47rNsAOZfPZQhMRomEhHXo+IpImfNYrGQEhVISlQgMzMSsNsN\n",
              "skqPsj6n/Trzm45dZ371/jJW7y8DINjXk3OS2l8NHZ8STlpUEB4qoseVXVrHz//dPkz043MTuTo9\n",
              "1uREIiJnRsVTRLqch4eF/n2C6N8niB+f2w+b3WBvcW3H0vzmvEpqm9pYlVnCqswSAMICvMlICju2\n",
              "fVMEyZEBus48UNvUyqzXt3K0uY2MpDB+PWWg2ZFERM6YiqeIdDurh4UhMSEMiQnh/yYl0Wazs/tw\n",
              "bccrolvyq6isb+GDr4/wwddHAIgM8ul0ec+EcH+3K6J2u8HcJTvILa+nb4gvL9yQjpfeJysiLkzF\n",
              "U0QcztPqwYi4UEbEhXLn+Sm0tNnZWVTdMTW/taCKsrpm3t95mPd3Hgagb4gvGcdK6LjkcGJ7+Zv8\n",
              "XXS/5z7L4pO9pXh7evDKzFFE6JKmIuLiVDxFxHTenh6MSQxjTGIY91yYSlOrje0F1WzIKWdDbgU7\n",
              "Cqs5XNPEO9sO8c62QwDEh/n/7xXR5HB6B/ua/F10rVWZJfzpkywAnvjhUIbFhpobSESkC6h4iojT\n",
              "8fWydhRKgIaWNrYerGJDTgXrcyr4+lANBZUNFFQ2sGRLIQBJEQEdn5ORFO7Srw7mlB1l7pIdANw6\n",
              "PpFrRmmYSER6BhVPEXF6/t6eTEyNZGJqJAB1Ta1sya9iQ24F63PK2XO4ltzyenLL63lzUwEAab0D\n",
              "GZ8cQUZSOBlJYYT6u8ael3VNrcx6fQt1zW2MTQzjwSs0TCQiPYeKp4i4nCBfLyYPiGLygCgAahpa\n",
              "2ZT3v83s9x2p40DJUQ6UHOXv6/OxWGBgn+Bje4iGM6ZfGMG+XiZ/F99ltxv8/N87ySmrp0+wLy/e\n",
              "qGEiEelZVDxFxOWF+HtxyeA+XDK4DwAVR5vZlFd5bGm+nJyyejKLa8ksruWv6/LwsMDQmBAyjm1m\n",
              "PyaxF/7e5j8dvrg6m48zSzqGiSKDXPftAiIix2P+M62ISBcLD/RhytBopgyNBqC0tqn9qkrHXhHN\n",
              "r2hgZ1ENO4tqWPhFLp4eFobHhbZvZp8cTnpCL3y9rA7N/Nm+EhZ8cgCA3101hBFxoQ79+iIijqDi\n",
              "KSI9XlSwL9NGxDBtRAwAh6sbO11n/lB1I1sPVrH1YBUvrM7G2+rByPjQjj1ER8SH4uPZfUU0r7ye\n",
              "e/+1A8OAmRkJ/Gh0XLd9LRERM6l4iojb6Rvqx/RRsUwfFYthGBRWNrIht7yjjJbUti/Vb8qr5E9k\n",
              "4evlweiEsI6J+WGxIV323sujzW3tw0RNbYxO6MVDVw7qkr9XRMQZqXiKiFuzWCzEh/sTHx7PdWPi\n",
              "MQyD3PL6jhK6MaeCivoW1mWXsy67HIAAbytj+oV17CM6uG8I1jO4zrxhGPzi3zvJKj1K72AfXrop\n",
              "HW9PDROJSM+l4iki8g0Wi4XkyECSIwO5KSMBwzDIKj3K+uzyY+8TraSmsZXP95fx+f4yAIJ8PTmn\n",
              "3/8u7zmgTxAep1BEX/o8hw/3HMHb6sHLN40iKqhnbYIvIvJtKp4iIidhsVhI6x1EWu8gbj23H3a7\n",
              "wd4jtR2X99ycV0ldUxuf7C3hk70lAPTy9yLjG9eZT4kK/M515lfvL+Xpj/cD8Ni0waTH93L49yYi\n",
              "4mgqniIip8HDw8LgviEM7hvC7ROTaLPZ2XO4lvXHlua35FdS1dDKyt1HWLn7CAARgT4dJXRccjgW\n",
              "4N7F2zEMuOGceK4fG2/uNyUi4iAWwzAMs0N8n7lz57JgwQKzY4iIfK9Wm51dRdWsz24volsPVtHc\n",
              "Zu90Hy+rhVabQXp8KItnZXTrxLyIiDPRK54iIl3Iy+rBqIQwRiWE8dMLU2lqtbGjsJr1Oe2DStsL\n",
              "q2i1GUQF+fDyTaNUOkXErah4ioh0I18v67HrxYfDxdDYYmNXUTWJEQH0DtYwkYi4FxVPEREH8vO2\n",
              "ck5SuNkxRERMoQ3jRERERMQhVDxFRERExCFUPEVERETEIVQ8RURERMQhVDxFRERExCFUPEVERETE\n",
              "IVQ8RURERMQhVDxFRERExCFUPEVERETEIVQ8RURERMQhVDxFRERExCEshmEYZof4PldffTWJiYkO\n",
              "+Vo2m43NmzczduxYrFarQ76mK9B5OTGdm+PTeTkxnZvj03k5MZ2b49N5OTEzzk1CQgL33nvvSe/j\n",
              "EsXTkWprawkJCaGmpobg4GCz4zgNnZcT07k5Pp2XE9O5OT6dlxPTuTk+nZcTc9Zzo6V2EREREXEI\n",
              "FU8RERERcQgVTxERERFxCBXPb/Hx8eGRRx7Bx8fH7ChOReflxHRujk/n5cR0bo5P5+XEdG6OT+fl\n",
              "xJz13Gi4SEREREQcQq94ioiIiIhDqHiKiIiIiEOoeIqIiIiIQ7ht8czKymL8+PGkpaUxZswY9uzZ\n",
              "c9z7/fWvfyU1NZXk5GT+7//+j9bWVgcndaxTOS+ff/45fn5+jBgxouPW2NhoQlrHueeee0hMTMRi\n",
              "sbBjx44T3s/dHi9waufGHR8zTU1NXHXVVaSlpTF8+HAuvvhisrOzj3vf5cuXM2DAAFJTU7n66qup\n",
              "ra11cFrHOdXzkp+fj9Vq7fSYycnJMSGxY11yySUMGzaMESNGMHHiRLZv337c+7nbc82pnBd3fJ75\n",
              "r9deew2LxcK777573ONO9RxjuKnJkycbr732mmEYhvHWW28Zo0eP/s59cnNzjejoaKO4uNiw2+3G\n",
              "1KlTjRdeeMHBSR3rVM7L6tWrjeHDhzs2mMm++OILo7Cw0EhISDC2b99+3Pu44+PFME7t3LjjY6ax\n",
              "sdFYsWKFYbfbDcMwjOeff94477zzvnO/uro6Iyoqyti7d69hGIZx1113Gb/4xS8cGdWhTvW85OXl\n",
              "GSEhIY4N5wSqqqo6/vudd94xhg0b9p37uONzzamcF3d8njGM9p+VcePGGRkZGcZ//vOf7xx3tucY\n",
              "t3zFs7S0lC1btnDTTTcBMH36dAoLC7/zr+63336bH/zgB/Tp0weLxcIdd9zB4sWLzYjsEKd6XtzR\n",
              "pEmTiI2NPel93O3x8l+ncm7cka+vL1OmTMFisQCQkZFBfn7+d+63cuVKRo4cyYABAwC48847e/Tj\n",
              "5lTPi7sKDQ3t+O+ampqO8/RN7vhccyrnxR3Z7XZuv/12nn/++RNum+RszzFuWTwLCwuJjo7G09MT\n",
              "AIvFQnx8PAUFBZ3uV1BQQEJCQsefExMTv3OfnuRUzwtATk4O6enpjBkzhpdeesnRUZ2Suz1eTpe7\n",
              "P2aeffZZpk2b9p2PH+9xU1xcTFtbmyPjmeZE5wWgvr6eMWPGkJ6ezmOPPYbNZnNwOnPcfPPNxMXF\n",
              "8dBDD/HGG29857i7Ptd833kB93ueWbBgAeeeey6jRo064X2c7TnG05SvKi4tPT2doqIiQkJCKCoq\n",
              "YsqUKURERPCjH/3I7GjipNz9MfPEE0+QnZ3Np59+anYUp3Ky8xIdHc2hQ4eIioqisrKS6667jmee\n",
              "eYb777/fhKSO9frrrwPwj3/8gwceeIAPPvjA5ETO4fvOi7s9z+zevZulS5eyZs0as6OcFrd8xTMu\n",
              "Lq5T2zcMg4KCAuLj4zvdLz4+noMHD3b8OT8//zv36UlO9bwEBwcTEhICQGxsLDNmzGDt2rUOz+ts\n",
              "3O3xcjrc+THz9NNP884777By5Ur8/f2/c/x4j5tvrjz0VN93Xnx8fIiKigIgLCyMn/zkJ27zmPmv\n",
              "W265hdWrV1NRUdHp4+7+XHOi8+JuzzNr164lPz+f1NRUEhMT2bhxI7NmzeLll1/udD9ne45xy+IZ\n",
              "FRVFeno6ixYtAmDp0qXExsaSkpLS6X7Tp0/n/fff58iRIxiGwSuvvML1119vRmSHONXzUlxcjN1u\n",
              "B6Curo7ly5czcuRIh+d1Nu72eDkd7vqYWbBgAYsXL2bVqlWd3qP2TZdddhnbtm1j3759ALz00ks9\n",
              "/nFzKueltLS0Y1K7ubmZd955p8c/Zqqrqzl8+HDHn999913Cw8MJCwvrdD93e6451fPibs8zc+bM\n",
              "obi4mPz8fPLz88nIyODVV19lzpw5ne7ndM8xpo01mWzfvn1GRkaGkZqaaowaNcrYtWuXYRiGcdtt\n",
              "txnvvfdex/1effVVIykpyUhKSjJ+8pOfGC0tLWZFdohTOS/PP/+8MWjQIGPYsGHGoEGDjEceeaRj\n",
              "QrWnmjVrlhETE2NYrVYjKirKSE5ONgxDjxfDOLVz446PmcLCQgMwkpKSjOHDhxvDhw83xo4daxiG\n",
              "YTz00EPGyy+/3HHf9957z+jfv7+RnJxsTJs2zaiurjYrdrc71fOydOlSY/DgwR2Pmbvvvttoamoy\n",
              "M3q3y8/PN8aMGWMMGTLEGDZsmHHhhRd27BThzs81p3pe3PF55pvOO++8jql2Z36O0bXaRURERMQh\n",
              "3HKpXUREREQcT8VTRERERBxCxVNEREREHELFU0REREQcQsVTRERERBxCxVNEREREHELFU0REREQc\n",
              "QsVTRERERBxCxVNEREREHELFU0REREQcQsVTRERERBzi/wOB8N5mbrGaXAAAAABJRU5ErkJggg==\n",
              "\">\n",
              "      </div>\n",
              "      <script type=\"text/javascript\">\n",
              "        (() => {\n",
              "          const chartElement = document.getElementById(\"chart-60a282b9-dd18-4f68-afdd-832858c0645d\");\n",
              "          async function getCodeForChartHandler(event) {\n",
              "            const chartCodeResponse =  await google.colab.kernel.invokeFunction(\n",
              "                'getCodeForChart', [\"chart-60a282b9-dd18-4f68-afdd-832858c0645d\"], {});\n",
              "            const responseJson = chartCodeResponse.data['application/json'];\n",
              "            await google.colab.notebook.addCell(responseJson.code, 'code');\n",
              "          }\n",
              "          chartElement.onclick = getCodeForChartHandler;\n",
              "        })();\n",
              "      </script>\n",
              "      <style>\n",
              "        .colab-quickchart-chart-with-code  {\n",
              "            display: block;\n",
              "            float: left;\n",
              "            border: 1px solid transparent;\n",
              "        }\n",
              "\n",
              "        .colab-quickchart-chart-with-code:hover {\n",
              "            cursor: pointer;\n",
              "            border: 1px solid #aaa;\n",
              "        }\n",
              "      </style>"
            ]
          },
          "metadata": {}
        },
        {
          "output_type": "display_data",
          "data": {
            "text/plain": [
              "from matplotlib import pyplot as plt\n",
              "_df_4['Sales'].plot(kind='line', figsize=(8, 4), title='Sales')\n",
              "plt.gca().spines[['top', 'right']].set_visible(False)"
            ],
            "text/html": [
              "      <div class=\"colab-quickchart-chart-with-code\" id=\"chart-6dd1d27a-8d33-4cdf-83c2-13ea821880ba\">\n",
              "        <img style=\"width: 180px;\" src=\"data:image/png;base64,iVBORw0KGgoAAAANSUhEUgAAApcAAAFuCAYAAADUGTPdAAAAOXRFWHRTb2Z0d2FyZQBNYXRwbG90\n",
              "bGliIHZlcnNpb24zLjcuMSwgaHR0cHM6Ly9tYXRwbG90bGliLm9yZy/bCgiHAAAACXBIWXMAAA9h\n",
              "AAAPYQGoP6dpAABH7ElEQVR4nO3dd3RUBfo+8OfOTDLpCelAGpCEUEMngIJIk1goIlhwUUQQVFjB\n",
              "Qixfd/fnEkVEEaVZEHUXAWmu0pEmHSX0VAgppJCE9GSSmbm/PyaEBBJIuZk75fmcM+fsTmaSJ/dM\n",
              "xoeZue8riKIogoiIiIhIAgq5AxARERGR5WC5JCIiIiLJsFwSERERkWRYLomIiIhIMiyXRERERCQZ\n",
              "lksiIiIikgzLJRERERFJhuWSiIiIiCTDcklEREREkmG5JCJqIYIgYM+ePXLHICIyKpZLIqJ6XLly\n",
              "BU899RTatGkDJycntGnTBpGRkcjIyJA7GhGRyWK5JCKqR2RkJJydnXH+/HkUFxfj9OnTmDRpEgRB\n",
              "kDsaEZHJYrkkIqpDbm4uYmNj8dJLL8Hd3R0A4OPjgylTpsDX1xcZGRl45JFH4OPjA2dnZ3Tv3h0b\n",
              "Nmy46/c8fvw4HnjgAXh4eCAwMBDvvfcetFotAKCiogKzZs2Cr68vnJ2dERQUhKVLl7b470lEJDWW\n",
              "SyKiOnh4eKBbt26YMWMGVq9ejbNnz0Kv11d/XafTYerUqUhKSkJeXh7mzJmDp59+GhcuXKjz+8XF\n",
              "xWHYsGF46aWXkJWVhYMHD+KXX37BRx99BABYs2YNjh49ivPnz6OoqAjHjh3DoEGDjPK7EhFJieWS\n",
              "iKge+/btw+jRo7F8+XL069cPnp6eeP3116HRaODn54fx48fDyckJNjY2eOGFF9C5c2f8/vvvdX6v\n",
              "L7/8Eo8++iiefPJJqFQqBAYG4s0338Tq1asBALa2tiguLsbFixdRWVkJX19f9OrVy5i/LhGRJFRy\n",
              "ByAiMlUeHh7417/+hX/961/QaDTYvn07pkyZAicnJ8yZMwdvvvkm9uzZg9zcXCgUChQXFyM7O7vO\n",
              "75WQkIB9+/bBzc2t+jq9Xl/9aujkyZNx/fp1vPHGG4iNjcXAgQPxwQcfoHfv3sb4VYmIJMNXLomI\n",
              "GkCtVmPs2LEYPnw4/vrrL8yfPx+xsbE4cOAACgoKkJ+fjy5dukAUxTrv7+vri6effhr5+fnVl8LC\n",
              "QhQXFwMAlEolXn/9dRw/fhzp6eno1KkTxowZY8xfkYhIEiyXRER1uHHjBubPn4+zZ89Co9FAp9Nh\n",
              "79692LdvHwYPHoyCggI4ODjAw8MDlZWVWLp0ab2ftwSAWbNm4eeff8aGDRtQUVEBnU6HxMRE7Nix\n",
              "AwDw+++/49SpU6ioqICdnR2cnJygVCqN9esSEUmG5ZKIqA62trbIycnBE088AU9PT3h4eGDOnDl4\n",
              "6623MG/ePHzwwQcoKyuDj48PgoKCkJWVddcTcPr27Yvdu3fjq6++Qtu2beHh4YEJEybg6tWrAIDs\n",
              "7Gw899xzcHd3h5eXFw4cOICff/7ZWL8uEZFkBLG+93CIiIiIiBqJr1wSERERkWRYLomIiIhIMiyX\n",
              "RERERCQZlksiIiIikgzLJRERERFJhuWSiIiIiCTDcklEREREkjGZcrlkyRK5IxARERFRM5lMuby5\n",
              "pYKIiIiIzJfJlEsiIiIiMn8sl0REREQkGZZLIiIiIpIMyyURERERSYblkoiIiIgkw3JJRERERJJh\n",
              "uSQiIiIiybBcEhEREZFkWC6JiIiISDIsl0REREQkGastlxVavdwRiIiIiCxOo8pleXk5xo4di9DQ\n",
              "UISHh2PEiBFITEwEADz//PPV1w8aNAgnT55skcDNVazR4v/9ehEjPz2A8kqd3HGIiIiILEqjX7mc\n",
              "Pn064uLicObMGYwZMwbTpk0DAIwbNw4XL17EmTNnEBUVhSeeeELysFJQKQRsP5eB5NxSrD6cLHcc\n",
              "IiIiIovSqHJpZ2eHyMhICIIAAIiIiEBycjIA4LHHHoNKpaq+Pj09HVqtts7vo9FoUFhYWOui0xnn\n",
              "VUQ7GyXmjewIAFi2LxF5JRVG+blERERE1qBZn7lcsmQJxowZU+f1kZGR1WXzdtHR0XB1da11OXHi\n",
              "RHOiNMq4nm3RubULijRafL43wWg/l4iIiMjSNblcLliwAImJiYiOjq51/Y8//oj169dj1apV9d43\n",
              "KioKBQUFtS79+vVrapRGUygEvB3ZCQDw47GrSM4pMdrPJiIiIrJkTSqXixYtwqZNm7B9+3Y4ODhU\n",
              "X79u3Tr885//xO7du+Hj41Pv/dVqNVxcXGpdlEplU6I02X0hnhgS6gWtXsTHO+OM+rOJiIiILFWj\n",
              "y+XixYuxdu1a7N69G25ubtXXr1+/Hu+++y727NmDgIAAKTO2mKjIMCgE4LdzGfgr5YbccYiIiIjM\n",
              "XqPKZVpaGubNm4f8/HwMHToUPXr0QP/+/QEAzzzzDMrLyzFmzBj06NEDPXr0QG5ubouElkqYrwsm\n",
              "9PYDACz47RJEUZQ5EREREZF5q/uMm3r4+fnVW8AqKyslCWRsc0d0xC9nruHU1RvYeSELD3X1lTsS\n",
              "ERERkdmy2g09N/m62uHF+9sDAD7aEYtKHTf3EBERETWV1ZdLAJgxpAM8nWxxJacEa0+kyB2HiIiI\n",
              "yGyxXAJwUqswZ3goAGDJngQUlZvnW/xEREREcmO5rPJkX3+093JEbkkFVhxIkjsOERERkVliuaxi\n",
              "o1Rg/kNhAICvD11BRkGZzImIiIiIzA/LZQ0jOvugX5A7NFo9PtkVL3ccIiIiIrPDclmDIAiIijS8\n",
              "ernxrzRcvFYocyIiIiIi88JyeZueAa3wcPfWEEUgevslueMQERERmRWWyzq8NSoMNkoBhxJycDD+\n",
              "utxxiIiIiMwGy2UdAjwc8GxEEABgwbZL0Om5FpKIiIioIVgu6/Hqg8FwtlMhNrMIm/5KkzsOERER\n",
              "kVlguaxHK0dbvDI0GADwya54lFXoZE5EREREZPpYLu9iysAgtHWzR2ZhOb49fEXuOEREREQmj+Xy\n",
              "LuxslHhjVEcAwPL9Scgp1siciIiIiMi0sVzew2PhbdC1rQuKNVos3ZsgdxwiIiIik8ZyeQ8KhYC3\n",
              "IzsBAP5zPAWXrxfLnIiIiIjIdLFcNsDADp54MMwbWr2IhTvi5I5DREREZLJYLhsoanQYFAKw40Im\n",
              "TiXnyR2HiIiIyCSxXDZQiI8zJvX1B2AYrC6KHKxOREREdDuWy0Z4bXgoHGyV+CslH9vPZ8odh4iI\n",
              "iMjksFw2greLHV68vz0A4KMdsajQ6mVORERERGRaWC4bafrg9vByVuNqbin+c/yq3HGIiIiITArL\n",
              "ZSM5qlV4bXgoAODzvQkoKKuUORERERGR6WC5bIKJffwQ7O2EG6WVWL4/Se44RERERCaD5bIJVEoF\n",
              "5j8UBgD49vAVpOeXyZyIiIiIyDSwXDbRsE7e6N/OHRVaPT7ZycHqRERERADLZZMJgoB3Hjashdwc\n",
              "k47z6QUyJyIiIiKSH8tlM3T3c8Nj4W0gikD0dg5WJyIiImK5bKY3RnWErVKBw4m52B9/Xe44RERE\n",
              "RLJiuWwmf3cHTBkYCAD4cFssdHq+eklERETWi+VSAq8MDYGrvQ3isorw85+pcschIiIikg3LpQRc\n",
              "HWzw6oPBAIBPdsWjtEIrcyIiIiIiebBcSuTZAYHwd7dHdpEGXx+6InccIiIiIlmwXEpErVLijVGG\n",
              "weorDyThepFG5kRERERExteoclleXo6xY8ciNDQU4eHhGDFiBBITEwEA2dnZeOihhxASEoKuXbvi\n",
              "4MGDLRLYlD3avTXC/VxRUqHDkr3xcschIiIiMrpGv3I5ffp0xMXF4cyZMxgzZgymTZsGAJg/fz4i\n",
              "IiKQkJCA1atX4+mnn0ZlZaXkgU2ZIAh4O9IwWH3tiVQkZhfLnIiIiIjIuBpVLu3s7BAZGQlBEAAA\n",
              "ERERSE5OBgCsX78eL730EgCgb9++aNOmDQ4cOCBtWjPQv70HhnfygU4v4qMdsXLHISIiIjKqZn3m\n",
              "csmSJRgzZgxyc3NRWVkJX1/f6q8FBQUhJSWlzvtpNBoUFhbWuuh0uuZEMSnzR4dBqRCw+2IWTlzJ\n",
              "kzsOERERkdE0uVwuWLAAiYmJiI6ObvR9o6Oj4erqWuty4sSJpkYxOcHeTniyrz8A4N/buBaSiIiI\n",
              "rEeTyuWiRYuwadMmbN++HQ4ODvDw8IBKpUJmZmb1bZKTkxEQEFDn/aOiolBQUFDr0q9fv6b9Bibq\n",
              "78ND4WirxJnUfPx6NkPuOERERERG0ehyuXjxYqxduxa7d++Gm5tb9fVPPPEEVqxYAQA4efIk0tPT\n",
              "MWTIkDq/h1qthouLS62LUqls2m9goryc1ZgxpAMAYOHOWGi0lvO2PxEREVF9GlUu09LSMG/ePOTn\n",
              "52Po0KHo0aMH+vfvDwD46KOPcOTIEYSEhOC5557Djz/+CBsbmxYJbS6m3d8O3s5qpOaV4YejV+WO\n",
              "Q0RERNTiVI25sZ+fX72fH/Tx8cGuXbskCWUpHGxVmDsiFPM3ncPS3xPxRG9/uDpYd+EmIiIiy8YN\n",
              "PS3siT7+CPVxQkFZJb7cnyh3HCIiIqIWxXLZwpQKAVGjDYPVvzucjNS8UpkTEREREbUclksjeKCj\n",
              "FwZ28ECFTo9Fu+LkjkNERETUYlgujaDmWsitMddwNi1f3kBERERELYTl0ki6tnXFuJ5tAQALOFid\n",
              "iIiILBTLpRHNGxkKW5UCxy7n4ffYbLnjEBEREUmO5dKI/Fo54PlBQQCA6O2x0Or08gYiIiIikhjL\n",
              "pZHNeiAYrRxskJhdjPWn0uSOQ0RERCQplksjc7W3wasPhgAAPt0TjxKNVuZERERERNJhuZTB5IhA\n",
              "BHo44HqRBl8duix3HCIiIiLJsFzKwFalwJujwgAAqw5eRnZRucyJiIiIiKTBcimTyG6+6BnghtIK\n",
              "HT7dnSB3HCIiIiJJsFzKRBAEvFM1WH3dyRQkZBXJnIiIiIio+VguZdQnyB2juvhALwIfbo+VOw4R\n",
              "ERFRs7Fcyuyth8KgUgjYG5uNo0m5cschIiIiahaWS5m193LC0/0DABjWQur1XAtJRERE5ovl0gTM\n",
              "HhYCJ7UK59IL8L+z1+SOQ0RERNRkLJcmwNNJjZeGtAcALNwRh/JKncyJiIiIiJqG5dJEvHBfe/i6\n",
              "2CE9vwzfH02WOw4RERFRk7Bcmgh7WyXmjgwFAHzxeyLySytkTkRERETUeCyXJuTxXn4I83VGYbkW\n",
              "S39PlDsOERERUaOxXJoQpUJAVNVg9e+PJiMlt1TmRERERESNw3JpYoaEeuH+EE9U6kQs3MnB6kRE\n",
              "RGReWC5NUNToThAE4NezGYhJzZc7DhEREVGDsVyaoM5tXDC+px8AYMFvlyCKHKxORERE5oHl0kS9\n",
              "PioUapUCJ5LzsPtiltxxiIiIiBqE5dJEtXa1xwv3tQMAfLgjFpU6vcyJiIioJfFdKrIULJcm7KUH\n",
              "OsDd0RaXr5dg3clUueMQEVELySosx6jPDuLZb44jp1gjdxyiZmG5NGEudjaYMywEAPDZnngUa7Qy\n",
              "JyIiIqnp9SJe33AG8VnFOJSQg/HLjiDperHcsYiajOXSxD3dPwDtPB2RU1yBVQeS5I5DREQS+/5o\n",
              "Mg4l5ECtUsCvlT1S8koxftkRnLiSJ3c0oiZhuTRxNkoF3nqoIwDgq0NXkFVYLnMiIiKSSkJWEaK3\n",
              "G2Yavx3ZCVteHoRwfzcUlFVi8tfH8cuZazInJGo8lkszMKqLL/oEtkJZpQ6Ld8XLHYeIiCRQodXj\n",
              "7+tioNHqMTjUC38bEAhPJzV+ejECo7r4oEKnx+y1p7FsfyJP9iGzwnJpBgTh1lrIDX+mIi6zSOZE\n",
              "RETUXJ/uiceFa4Vo5WCDjyd0hyAIAAB7WyWWPdMbUwcZJoYs3BGHtzefg5ZTQ8hMsFyaid6BrRDZ\n",
              "zRd6EYjefknuOERE1AwnruRhRdXn6KPHd4OPi12trysVAv7v0c54/9HOEARg7YlUvLDmFE/sJLPA\n",
              "cmlG3hwVBhulgP1x13E4MUfuOERE1ARF5ZV4bV0MRBGY0NsPD3VtXe9tnx/UDisn94adjQIH4q/j\n",
              "iRVHkVnAz96TaWtUuZw9ezaCgoIgCAJiYmKqr9+2bRt69eqFHj16oGvXrlizZo3UOQlAkKcjnukf\n",
              "CABYsO0S9Hp+BoeIyNz845eLSM8vg18re7z/aOd73n5kF1+smz4Ank62uJRRiHHLDuNSRqERkhI1\n",
              "TaPK5YQJE/DHH38gMDCw+jpRFDF58mR89913iImJwa+//ooZM2agqIifC2wJs4eFwFmtwoVrhdgS\n",
              "ky53HCIiaoRt5zKw8a80KATg00k94Gxn06D7hfu7YfOsQejg5YiMgnI8seIoDsZfb+G0RE3TqHI5\n",
              "ePBg+Pn53XG9IAjIz88HABQWFsLDwwNqtVqSgFSbu6MtZg7tAABYtDMO5ZU6mRMREVFDZBWW4+3N\n",
              "5wAAMx/ogL5B7o26v7+7AzbNHIT+7dxRrNHi+e9OYj23t5EJavZnLgVBwLp16zB+/HgEBgbivvvu\n",
              "w5o1a2Bra1vvfTQaDQoLC2tddDqWpIaaOqgd2rja4VpBOVYfTpY7DhER3cPNLTz5pZXo2tYFc4aF\n",
              "Nun7uDrY4PsX+mFsjzbQ6UW8ufEsFu2M46giMinNLpdarRYffPABNm3ahKtXr2Lv3r149tlnkZNT\n",
              "/wkn0dHRcHV1rXU5ceJEc6NYDTsbJeaNNAxWX7YvEXklFTInIiKiu6m5heezST1gq2r6f37VKiU+\n",
              "ndQDrz4YDAD4Yl9i1bxMvkhDpqHZ5TImJgbXrl3D4MGDAQB9+/aFn58fTp8+Xe99oqKiUFBQUOvS\n",
              "r1+/5kaxKuN6tkXn1i4o0mjx+d4EueMQEVE9am7heefhTgj2dm729xQEAfNGdsTCx7tDpRCwNeYa\n",
              "/vbNCRSUVjb7exM1V7PLpb+/PzIyMnDpkmH2YmJiIpKSktCxY8d676NWq+Hi4lLrolQqmxvFqigU\n",
              "At6uGqz+47GrSM4pkTkRERHdrkKrx5yfDFt4hoR64dmIwHvfqREm9vXHt8/1hZNaheNX8jB++WGk\n",
              "5pVK+jOIGqtR5XLGjBnw8/NDWloaRo0aheDgYPj4+GDVqlWYOHEiwsPDMW7cOHzxxRcICAhoqcxU\n",
              "5b4QTwwJ9YJWL2Lhzli54xAR0W0+3ROPixl3buGR0uBQL/w8cwBau9oh6XoJxi07jJjUfMl/DlFD\n",
              "CaKJfAp47ty5WLx4sdwxzE5sZiEilxyCXgQ2zhyI3oGt5I5EREQwbOGZtOooRBFYMbnXXYelSyGz\n",
              "oBxTvzuJixmFsLNR4PMne2JkF98W/ZlEdeGGHjMX5uuCCb0N46EWbLvEMwaJiExAYY0tPE/cYwuP\n",
              "VHxd7bD+pQEYEuqF8ko9Zvz4J1YfvtLiP5fodiyXFmDuiI6ws1Hgz6s3sPNCltxxiIis3j9+uYD0\n",
              "/DL4u9vj/ce6GO3nOqlV+GZKHzzVLwCiCPzzfxfxz/9dgI4b3ciIWC4tgK+rHV68vz0A4KMdsajU\n",
              "6WVORERkvbady8Cmv9INW3gm9oCTWmXUn69SKrBgXFe89VAYAGD14WTM/PFPlFVwVBEZB8ulhZgx\n",
              "pAM8nWxxJacEa0+kyB2HiMgqZRbU3sLTp5FbeKQiCAJmPtABS5/qCVulArsuZuHJr44hp1gjSx6y\n",
              "LiyXFsJJrcKc4YaND0v2JKConLPOiIiMSa8X8cbPzd/CI6VHw9vgPy/2h5uDDc6k5mPcssNIzC6W\n",
              "OxZZOJZLC/JkX3+093JEbkkFVhxIkjsOEZFVWVO1hcfORoHPJvVs1hYeKfUNcsfGmQMR4O6A1Lwy\n",
              "PL78CI5fzpU7Flkw03jkkyRslArMr/qMzdeHriCjoEzmRERE1iEhqwgfVm3heTuyE4K9nWROVFsH\n",
              "LydsnjUQPQPcUFBWiWe/OYGtMelyxyILxXJpYUZ09kG/IHdotHp8site7jhERBavpbfwSMXDSY21\n",
              "L0bgoS6+qNAZMn+5L5Ej7EhyLJcWRhAEvP2wYS3kxr/ScPFaocyJiIgs2+LdLb+FRyp2Nkp8+Uwv\n",
              "TLuvHQDg451xiNp0jlNGSFIslxaoh78bHuneGqIIRG+/JHccIiKLdfxyLlYeNHzGPXp8N3i72Mmc\n",
              "6N6UCgHvPtIZ/3ysCxQC8NPJVLyw5hRPBCXJsFxaqDdHhcFGKeBQQg4Oxl+XOw4RkcUpLK/E3PVn\n",
              "jLqFR0pTBgZh5bN9YG+jxMH463hixVF+Vp8kwXJpoQI8HPBsRBAAw1pIbmcgIpKWXFt4pDSisw/W\n",
              "zYiAp5MasZlFGPflEX6cipqN5dKCvfpgMJztVIjNLMKmv9LkjkNEZDF+OyvvFh4pdfdzw+ZZAxHs\n",
              "7YTMwnJMXHkUB/iOFzUDy6UFa+Voi1eGBgMAPtkVz9VfREQSqLmFZ9YDwbJt4ZGSv7sDNr40EBHt\n",
              "3VGs0WLqdyfxE7e9UROxXFq4KQOD0NbNHpmF5fj28BW54xARmbWbW3gKyirRra0r5gwPkTuSZFwd\n",
              "bLBmaj+M69kWOr2I+ZvO4eOdsRxVRI3Gcmnh7GyUeGNURwDA8v1J3CtLRNQMNbfwfDqpB2yUlvWf\n",
              "UbVKicUTwzH7QcO7Xl/uS8Lf18VAo+U7X9RwlvVXQXV6LLwNurZ1QbFGi8/3Jsgdh4jILMWb+BYe\n",
              "qQiCgLkjO2LhhO5QKQRsjbmGZ785gfzSCrmjkZlgubQCCoWAtyMNg9X/ezwFl68Xy5yIiMi8VGj1\n",
              "+LsZbOGR0sQ+/vju+X5wVqtw4koexi8/gpTcUrljkRlgubQSAzt44sEwb2j1Ij7aESt3HCIis2JO\n",
              "W3ikdF+IJzbMHIA2rna4fL0E45YdRkxqvtyxyMSxXFqRqNFhUAjAzgtZOJmcJ3ccIiKzUHsLT3ez\n",
              "2MIjpTBfF2x+eRA6t3ZBbkkFnlx1FDvOZ8odi0wYy6UVCfFxxqS+/gAMg9V5BiAR0d3duYXHV+5I\n",
              "svBxscP6lwZgaEcvlFfqMfM/f+KbPziBhOrGcmllXhseCgdbJU6n5GM7/+VJRHRX/9hq2MIT4O5g\n",
              "tlt4pOKkVuGrv/XB0/0DIIrA//v1Iv7xywVugKM7sFxaGW8XO7x4f3sAwEc7YlGh1cuciIjINP12\n",
              "NgObTldt4ZkUbtZbeKSiUirw77FdMX90GADguyPJeOnHP7mkg2phubRC0we3h5ezGldzS/Gf41fl\n",
              "jkNEZHJu38LTO9D8t/BIRRAEvDSkA754uidsVQrsvpiFJ1cdxfUizlEmA5ZLK+SoVuG14aEAgM/3\n",
              "JqCgrFLmREREpsOSt/BI6ZHubfCfaf3h5mCDM2kFGL/8MBKzOeqOWC6t1sQ+fgj2dsKN0kos358k\n",
              "dxwiIpPx3RHL3sIjpb5B7tg8axACPRyQmleG8csO49jlXLljkcz4F2OlVEoFoqo+M/Pt4StIzy+T\n",
              "ORERkfzis4rwYdUs4HcseAuPlNp5OmLTzIHoFeCGwnIt/vbNCWyNSZc7FsmI5dKKPRjmjYj27qjQ\n",
              "6vHJzji54xARyermFp4KrR4PdPTCZCvYwiMVDyc1/vtiBEZ39UWFTo85P8Xgi98TOPLOSrFcWjFB\n",
              "uLUWcnNMOs6nF8iciIhIPjW38Cx83Hq28EjFzkaJL5/uhemDDRNJFu2Kx/yN51Cp41QSa8NyaeW6\n",
              "+7nhsfA2EEUgejsHqxORdTpm5Vt4pKJQGF60+H9jukAhAOtOpWLqdydRVM4TR60JyyXhjVEdYatU\n",
              "4HBiLvbHX5c7DhGRURWWV2Je1RaeiX2sdwuPlJ4dEISv/tYH9jZKHErIwRMrjiKjgJ/ttxYslwR/\n",
              "dwdMGWj4bNGH22K5bYGIrErNLTz/96h1b+GR0rBOPlg/YwC8nNWIzSzC2C8P48I1fvzKGrBcEgDg\n",
              "laEhcLW3QVxWEX7+M1XuOERERvHr2WvcwtOCuvm5YvOsgQjxdkJWoQYTVxzF/rhsuWNRC2O5JACA\n",
              "q4MNXn0wGADwya54lFZoZU5ERNSyMgvK8c7m8wCAl4dyC09L8WvlgJ9nDsSA9h4oqdDhhTWnsPZE\n",
              "ityxqAWxXFK1ZwcEwt/dHtlFGnx96IrccYiIWoxeL+L1DYYtPN39XDF7GLfwtCRXexusmdoP43u2\n",
              "hU4vImrTOSzcEQs9P4ZlkRpVLmfPno2goCAIgoCYmJjq6zUaDV555RWEhISgW7dumDx5stQ5yQjU\n",
              "KiXeGGUYrL7yQBL3xBKRxfruSDL+SOQWHmOyVSnwycRwzKkq8sv2J2HOuhhotDqZk5HUGvXXNGHC\n",
              "BPzxxx8IDKw9WHb+/PkQBAHx8fE4d+4cFi1aJGlIMp5Hu7dGuJ8rSip0+GxPvNxxiIgkd/sWng5e\n",
              "3MJjLIIg4LURofh4QneoFAL+d+Yanv36BG6UVMgdjSTUqHI5ePBg+Pn51bqupKQE33zzDf79739X\n",
              "D5z19eUYB3NVc7D6TydTkZhdLHMiIiLpaLQ6zOEWHtk90ccfa6b2g7NahRPJeXh8+RGk5JbKHYsk\n",
              "0uz3AZKSkuDu7o4FCxagT58+uP/++7F379673kej0aCwsLDWRafjy+Kmon97Dwzv5AOdXsRHVf+6\n",
              "JyKyBIt3x+NSRiHcHW2xcAK38MhpULAnfp45EG1c7XA5pwTjlh3GXyk35I5FEmh2udRqtbh69So6\n",
              "d+6MU6dO4fPPP8ekSZOQlZVV732io6Ph6upa63LixInmRiEJzR8dBqVCwO6LWThxJU/uOEREzXbs\n",
              "ci5WHbwMAIge3w3eztzCI7eOvs7Y/PIgdG3rgtySCjy16hh2nM+UOxY1U7PLZUBAABQKBZ555hkA\n",
              "QM+ePdGuXTucO3eu3vtERUWhoKCg1qVfv37NjUISCvZ2wpN9/QEA/97GtZBEZN5u38Izqgs/vmUq\n",
              "fFzssG76AAzt6AWNVo+Z//kTXx+6zP/umLFml0tPT08MGzYMO3fuBABcuXIFV65cQadOneq9j1qt\n",
              "houLS62LUqlsbhSS2N+Hh8LRVokzqfn49WyG3HGIiJrsfW7hMWmOahW++lsfPNM/AKIIfPDbJfzz\n",
              "fxe5Mc5MNapczpgxA35+fkhLS8OoUaMQHGwYur1ixQp8/PHH6NatG8aOHYuVK1eibdu2LRKYjMfL\n",
              "WY0ZQzoAABbujOW4CCIyS7+evYbN1Vt4enALj4lSKRX4YGxXRI02jMT77kgyZvzwJ5d6mCFBNJHX\n",
              "nefOnYvFixfLHYNuU1qhxQMf70d2kQbvPtwJ0+5vL3ckIqIGyywox6jPDqKgrBKvPhiMeSM7yh2J\n",
              "GuC3sxl4bb3hrP5wP1d8PaUvvJzVcseiBuLUWLorB1sV5o0MBQAs/T0RBaWVMiciImoYbuExXw93\n",
              "b43/TuuPVg42OJNWgHHLDiMxu0juWNRALJd0TxN6+yPUxwkFZZX4cn+i3HGIiBpkNbfwmLU+Qe7Y\n",
              "NGsQgjwckHajDOOXHcHRpFy5Y1ED8C+N7kmpEBA12nCC1neHk5Gax0G3RGTa4jKLquf0vvNwZ27h\n",
              "MVPtPB2xadYg9ApwQ2G5Fn/79jg2n06TOxbdA8slNcgDHb0wsIMHKnR6LNoVJ3ccIqJ6abQ6/H2d\n",
              "4fN6Qzt6YXL/ALkjUTO4O9rivy9G4OFurVGpE/HaujNYujeBo4pMGMslNUjNtZBbY67hbFq+vIGI\n",
              "iOpRcwvPR9zCYxHsbJRY+lRPzBhsOKn0k93xeGvjWVTq9DIno7qwXFKDdW3rinE9DSOmFnCwOhGZ\n",
              "IG7hsVwKhYCoyE74f2O6QCEA60+lYep3J1FYzhNNTQ3LJTXKvJGhsFUpcOxyHn6PzZY7DhFRtZpb\n",
              "eCb18ecWHgv17IAgfD2lDxxslTiUkIOJK47iWn6Z3LGoBpZLahS/Vg54flAQACB6eyy0fEuCiExE\n",
              "zS087z3aWe441IIeDPPBuukD4OWsRmxmEcYtO4wL1wrkjkVVWC6p0WY9EIxWDjZIzC7G+lM8a4+I\n",
              "5MctPNanm58rtrw8CKE+Tsgq1GDiiqPYF8d31EwByyU1mqu9DV590DCMePHueJRouJqLiOSTUVCG\n",
              "dzafBwC8MjQYvQNbyZyIjKWtmz02vDQQAzt4oKRCh2lrTuG/x1PkjmX1WC6pSSZHBCLQwwE5xZrq\n",
              "D88TERlbzS084X6ueJVbeKyOq70Nvnu+Hx7v5QedXsTbm8/hw+2x0Ot50qlcWC6pSWxVCrw5KgwA\n",
              "sOrgZWQXlsuciIis0eojyTicmAs7GwUWcwuP1bJVKbDoie54bbhhXfGKA0mY/dNplFfqZE5mnfhX\n",
              "SE0W2c0XPQPcUFapw6d74uWOQ0RWhlt4qCZBEDBneAg+eSIcKoWAX89m4NlvjuNGSYXc0awOyyU1\n",
              "mSAIeKdqsPq6k6lIyCqSORERWQtu4aH6PN7bD99P7QdnOxVOJt/A+OVHcDW3RO5YVoXlkpqlT5A7\n",
              "RnXxgV4EPtweK3ccIrISi3dxCw/Vb2CwJzbOHIi2bva4klOCccuO4K+UG3LHshosl9Rsbz0UBpVC\n",
              "wN7YbBxNypU7DhFZuGOXc7HqkOFEwg+5hYfqEerjjM2zBqJrWxfklVTgqVXHsON8htyxrALLJTVb\n",
              "ey8nPF31ltSCbZd4hh4RtZjbt/CM5BYeugtvFzusmz4Aw8K8odHqMfM/f+HrQ5e5vriFsVySJOYM\n",
              "C4GTWoVz6QX439lrcschIgvFLTzUWI5qFVY+2xvPRgRCFIEPfruEf/xyATq+ENJiWC5JEh5Oasx8\n",
              "oAMAYOGOOI5/ICLJ/e8Mt/BQ06iUCvxrTJfqk1DXHL2KGT+cQmkFl4C0BJZLkszUQe3g62KH9Pwy\n",
              "fH80We44RGRBDFt4zgHgFh5qGkEQ8OLg9lj2TC/YqhTYcykbT646huwizmmWGsslScbeVol5Iw0D\n",
              "bL/4PRH5pZwtRkTNd3MLT2G5llt4qNkiu7XG2hf7w93RFmfTCjDuyyMcpScxlkuS1PhefgjzdUZh\n",
              "uRZLf0+UOw4RWQBu4SGp9Q50x6aZAxHk4YD0/DKMX34ER5Jy5I5lMfgXSpJSKgREVX2m5fujyUjJ\n",
              "LZU5ERGZs5pbeN7lFh6SUJCnIzbNGoQ+ga1QVK7FlG9PYNNfaXLHsggslyS5IaFeuD/EE5U6EQt3\n",
              "crA6ETWNRqvDnJ9Oo0Krx4Nh3niGW3hIYu6OtvhxWn883K01KnUi5q4/g8/3JnBUUTOxXFKLiBrd\n",
              "CYIA/Ho2AzGp+XLHISIztHhXPGIzi+DuaIsPH+/GLTzUIuxslFj6VE/MGNIeALB4dzze/PksKnV6\n",
              "mZOZL5ZLahGd27hgfE8/AMCC3y7xX4FE1ChHk7iFh4xHoRAQNboTPhjbFQoB2PBnGp5ffRKF5ZVy\n",
              "RzNLLJfUYl4fFQq1SoETyXnYfTFL7jhEZCYKyioxb30MRBF4si+38JDxTI4IxDdT+sLBVok/EnPw\n",
              "xPKjSM8vkzuW2WG5pBbT2tUeL9zXDgDw4Y5YvsVARA3y/tbzuFZQjkAPB7z3CLfwkHENDfPG+hkD\n",
              "4O2sRlxWEcZ9eRjn0wvkjmVWWC6pRb30QAe4O9ri8vUS/HQyVe44RGTi/nfmGrbEXINCABZP7AFH\n",
              "buEhGXRt64rNLw9CRx9nZBdpMHHlUeyLzZY7ltlguaQW5WJngzlVA4+X7IlHsYartoiobtzCQ6ak\n",
              "rZs9NswcgPuCPVFaocMLa07ix2NX5Y5lFlguqcU93T8A7TwdkVNcgZUHkuSOQ0QmSK8XMW89t/CQ\n",
              "aXGxs8G3z/XFhN5+0IvAu1vOI3r7Jej1PEn1blguqcXZKBV466GOAICvDl1GViH3uBJRbd8evoIj\n",
              "Sbmwt1HiU27hIRNiq1Lg4wndMXeEYb3xygOX8epPp1FeqZM5meniXy8ZxaguvugT2ArllXos3hUv\n",
              "dxwiMiFxmUVYuDMOAPDOw53Qnlt4yMQIgoDZw0KweGI4bJQCfjubgclfH8eNkgq5o5kklksyCkG4\n",
              "tRZyw5+piMsskjkREZkCbuEhczK+lx/WTO0HZzsVTl29gfHLjyA5p0TuWCaH5ZKMpndgK0R284Ve\n",
              "BKK3X5I7DhGZgE+qtvB4ONrio8e7cwsPmbyBHTyxaeZAtHWzx5WcEoxffgR/Xr0hdyyT0qhyOXv2\n",
              "bAQFBUEQBMTExNzx9dWrV0MQBGzZskWieGRp3hwVBhulgP1x13E4MUfuOEQko6NJufjq5haex7vD\n",
              "y1ktcyKihgnxccbmlweiW1tX5JVU4OmvjmH7uQy5Y5mMRpXLCRMm4I8//kBgYOAdX0tOTsZXX32F\n",
              "iIgIycKR5QnydMQz/Q2PnwXbeMYdkbW6fQvPiM4+ckciahRvZzusmxGB4Z28odHqMeu/f+Grg5e5\n",
              "7hiNLJeDBw+Gn5/fHdfr9XpMmzYNS5cuhVp97395ajQaFBYW1rrodDzrylrMHhYCZ7UKF64VYktM\n",
              "utxxiEgG3MJDlsDBVoWVz/bBlAGBEEXg39su4f1fLkBr5RvpJPnM5eLFizFo0CD07t27QbePjo6G\n",
              "q6trrcuJEyekiEJmwN3RFrOGBgMAFu2M4zgHIivzS9UWHqVCwKeTuIWHzJtSIeAfj3XBuw93giAA\n",
              "3x+9ihk//InSCutdGtLscnn+/Hls3LgR7777boPvExUVhYKCglqXfv36NTcKmZHnBwWhjasdrhWU\n",
              "Y/XhZLnjEJGRXMsvw7tVW3heHhqMXgHcwkPmTxAETLu/PZY93QtqlQJ7Y7MxaeUxZFvpXOdml8tD\n",
              "hw4hOTkZISEhCAoKwrFjxzB9+nQsX7683vuo1Wq4uLjUuiiVyuZGITNiZ6PEvJGGwerL9iUij7PC\n",
              "iCyeXi/i9Q01tvA8GCx3JCJJje7WGmunR8Dd0Rbn0gswbtkRxGdZ3+i9ZpfLmTNnIiMjA8nJyUhO\n",
              "TkZERARWrVqFmTNnSpGPLNi4nm3RubULijRafL43Qe44RNTCuIWHrEGvgFbYPGsg2nk6Ij2/DI8v\n",
              "P4IjVjYdpVF/2TNmzICfnx/S0tIwatQoBAfzX53UdAqFgLerBqv/eOwqB9ESWbDYzMLqLTzvPsIt\n",
              "PGTZAj0csWnmQPQNaoWici2mrD6BjX+myR3LaBpVLleuXIm0tDRotVpkZWUhMTHxjtvs378fY8eO\n",
              "lSofWbj7QjwxJNQLWr2IhTtj5Y5DRC1Ao9Xh7z/FoEKrx7Awbzzdj1t4yPK1crTFDy/0xyPdW6NS\n",
              "J2LehjNYsifBKkYV8T0Jkl1UZBgUArDtXCa3HBBZoJpbeD7kFh6yInY2Snz+ZE+8NKQDAODTPfF4\n",
              "4+ezqNBa9qgilkuSXZivCyb0NsxPXbDtklX8q47IWnALD1k7hULA/NFh+Pe4rlAqBPz8Zxqe/+4E\n",
              "Csoq5Y7WYlguySTMHdERdjYK/Hn1BnZeyJQ7DhFJoOYWnqf6cQsPWbdn+gfi6yl94GCrxOHEXDyx\n",
              "4gjS88vkjtUiWC7JJPi62uHF+9sDAD7aEYdKK99uQGQJ/q9qC0+QhwPefZhbeIiGdvTG+hkD4OOi\n",
              "RnxWMcZ+eRjn0wvkjiU5lksyGTOGdICnky2u5JTgv8dT5I5DRM3wy5lr2Fq1hWcxt/AQVeva1hWb\n",
              "Zw1CRx9nXC/SYOLKo/g9NkvuWJJiuSST4aRWYc7wUADAkr0JKCy33M+jEFkybuEhurs2bvbYMHMA\n",
              "7g/xRGmFDtPWnMIPx67KHUsyLJdkUp7s64/2Xo7IK6nAygNJcschokaqtYXH341beIjq4WJng2+f\n",
              "64snevtBLwLvbTmP6G2XoNeb/0mtLJdkUmyUCsx/KAwA8PWhK8gosMwPOxNZqppbeD7jFh6iu7JR\n",
              "KrBwQnfMG2F4127lwct4de1plFfqZE7WPPyrJ5MzorMP+gW5Q6PV45Nd8XLHIaIGis0sxMIdt7bw\n",
              "tPN0lDkRkekTBAGvDgvBp5PCYaMU8Nu5DDzz9XHklVTIHa3JWC7J5AiCgLcfNqyF3PhXGi5eK5Q5\n",
              "ERHdS/UWHh238BA1xbiefvh+an+42Knw59UbGL/ssNmuRWa5JJPUw98Nj3RvDVEEordfkjsOEd0D\n",
              "t/AQNd+ADh7YNGsg/FrZIzm3FOOWHcafV/PkjtVoLJdkst4cFQYbpYBDCTk4GH9d7jhEVI8jSTnV\n",
              "W3g+4hYeomYJ9nbGplkD0d3PFTdKK/HUV8fx29kMuWM1CsslmawADwf8bUAQAMNaSJ0FnEFHZGkK\n",
              "yirx+voz1Vt4hnMLD1GzeTvb4afpERjeyQcVWj1e/u9fWHUwyWzWI7Nckkl7ZWgwnO1UiM0swqa/\n",
              "0uSOQ0S34RYeopbhYKvCymd747mBQQCABdti8d7W89CawQY7lksyaa0cbfHKUMOcvE92xaOswrzH\n",
              "MxBZkq0x6dzCQ9SClAoB/3isC957pDMEAfjxWAqm//AnSjRauaPdFcslmbwpA4PQ1s0emYXl+Pbw\n",
              "FbnjEBGqtvBsOQ/A8A4Dt/AQtZwX7muH5c/0glqlwO+x2Zi06iiyC8vljlUvlksyeXY2SrwxqiMA\n",
              "YPn+JOQUa2RORGTd9HoR89afQVHVFp5XuIWHqMU91LU1fpoeAQ9HW5xPL8S4ZUcQn1Ukd6w6sVyS\n",
              "WXgsvA26tnVBsUaLz/cmyB2HyKp9e/gKjl7mFh4iY+sZ0AqbZg1Ee09HpOeX4fFlR3A4MUfuWHfg\n",
              "MwKZBYVCwNuRhsHq/z2egsvXi2VORGSdam7hee+RztzCQ2RkgR6O2DRrIPoFuaNIo8WMH/5Efqlp\n",
              "bfNhuSSzMbCDJx4M84ZWL+KjHbFyxyGyOuWVtbfwPNXPX+5IRFbJzcEW37/QD2N6tMFHj3eHm4Ot\n",
              "3JFqYbkksxI1OgwKAdh5IQsnk81vawGROftkVxy38BCZCDsbJZY82RMPd28td5Q7sFySWQnxccak\n",
              "voZXSxZsu2Q2A2WJzN2RpBx8/YdhWgO38BDR3bBcktl5bXgoHGyVOJ2Sj23nMuWOQ2TxCkorMY9b\n",
              "eIiogVguyex4u9jhxfvbAwAW7oxFhdb0txUQmbP3tp5HBrfwEFEDsVySWZo+uD28nNW4mluK/xy/\n",
              "KnccIou1NSYdv5wxbOH5lFt4iKgBWC7JLDmqVXhteCgA4PO9CSgoq5Q5EZHluX0LT09u4SGiBmC5\n",
              "JLM1sY8fgr2dcKO0Esv3J8kdh8iicAsPETUVyyWZLZVSgajRYQAMG0PS88tkTkRkOb75g1t4iKhp\n",
              "+GxBZu3BMG9EtHdHhVaPT3bGyR2HyCJcyijExzu5hYeImoblksyaIAh4J9Jw9urmmHScTy+QORGR\n",
              "eSuv1OG1ddzCQ0RNx3JJZq+bnyvG9GgDUQSit3OwOlFzcAsPETUXyyVZhNdHdoStUoHDibnYH39d\n",
              "7jhEZulIYg6+OsQtPETUPCyXZBH83R0wZWAgAODDbbHQ6fnqJVFjFJRWYt6GMwCAp/oFcAsPETUZ\n",
              "yyVZjFeGhsDV3gZxWUX4+c9UueMQmZXaW3g6yR2HiMxYo8rl7NmzERQUBEEQEBMTAwAoLy/H2LFj\n",
              "ERoaivDwcIwYMQKJiYktkZXorlwdbPBq1Sy+T3bFo7RCK3MiIvPALTxEJKVGlcsJEybgjz/+QGBg\n",
              "YK3rp0+fjri4OJw5cwZjxozBtGnTJA1J1FDPDgiEv7s9sos0+Lrqs2NEVL/0Glt4Xn2QW3iIqPka\n",
              "VS4HDx4MPz+/WtfZ2dkhMjKy+ozCiIgIJCcnSxaQqDHUKiXeGGUYrL7yQBKuF2lkTkRkuvR6Ea9X\n",
              "beHp4e+GV4ZyCw8RNZ/kn7lcsmQJxowZc9fbaDQaFBYW1rrodDqpo5CVerR7a4T7uaKkQofP9sTL\n",
              "HYfIZNXcwvPppB5QcQsPEUlA0meSBQsWIDExEdHR0Xe9XXR0NFxdXWtdTpw4IWUUsmKCIODtSMMJ\n",
              "CT+dTEVidrHMiYhMD7fwEFFLkaxcLlq0CJs2bcL27dvh4OBw19tGRUWhoKCg1qVfv35SRSFC//Ye\n",
              "GN7JBzq9iA+3x8odh8ik1NzCM7wTt/AQkbQkKZeLFy/G2rVrsXv3bri5ud3z9mq1Gi4uLrUuSqVS\n",
              "iihE1eaPDoNSIWDPpSwcv5wrdxwik7Fop2ELj6cTt/AQkfQaVS5nzJgBPz8/pKWlYdSoUQgODkZa\n",
              "WhrmzZuH/Px8DB06FD169ED//v1bKi9RgwV7O+HJvoZXZBZsuwQ9B6sT4UhiDr7+49YWHk8nbuEh\n",
              "Imk1apjZypUr67yeu5zJVP19eCi2nE7HmbQC/HouA4+Ft5E7EpFsbt/CM6wTt/AQkfR4aiBZNC9n\n",
              "NWYM6QAA+HhnLDRaTiUg63VzC087T0e89wi38BBRy2C5JIs37f528HZWIzWvDD8cvSp3HCJZ3L6F\n",
              "x8GWW3iIqGWwXJLFc7BVYd7IUADA0t8TUVBaKXMiIuO6fQtPD383eQMRkUVjuSSrMKG3Pzr6OKOg\n",
              "rBJf7k+UOw6R0XALDxEZG8slWQWlQsD8SMNayO8OJyM1r1TmRETGcXMLj4Mtt/AQkXHwWYasxgOh\n",
              "XhgU7IEKnR6LdsXJHYeoxXELDxHJgeWSrIYgCIgabThDdmvMNZxNy5c3EFELKq/U4e8/3dzC41M9\n",
              "85WIqKWxXJJV6drWFeN6tgVgGKzOGa1kqRbtjENc1s0tPN24hYeIjIblkqzOvJGhsFUpcOxyHn6P\n",
              "zZY7DpHkDnMLDxHJiOWSrI5fKwc8PygIABC9PRZanV7eQEQSKiitxLz1hi08T/fnFh4iMj6WS7JK\n",
              "sx4IRisHGyRmF2P9qTS54xBJ5t2t55FZaNjC8+7D3MJDRMbHcklWydXeBq8+GAIAWLw7HiUarcyJ\n",
              "iJpva0w6/sctPEQkM5ZLslqTIwIR6OGAnGINVh28LHccomapuYVn9oMh3MJDRLJhuSSrZatS4M1R\n",
              "hsHqqw5eRnZhucyJiJpGrxcxb30Misq16BnghpeHdpA7EhFZMZZLsmqR3XzRM8ANZZU6fLonXu44\n",
              "RE3y9R+XcexynmELz0Ru4SEiefEZiKyaIAh4J9Jw0sO6k6mIzyqSORFR41zKKMSinYZ/GL33SGcE\n",
              "cQsPEcmM5ZKsXp8gd4zq4gO9CHy4PVbuOEQNxi08RGSKWC6JALz1UBhUCgG/x2bjSFKO3HGIGuRj\n",
              "buEhIhPEckkEoL2XE57uHwAAiN4WC72eayHJtB1OzME3VVt4Fk7gFh4iMh0sl0RV5gwLgZNahXPp\n",
              "Bfjf2WtyxyGq1+1beB4M4xYeIjIdLJdEVTyc1Jj5gGGEy8IdcSiv1MmciOhOoijinS3nuIWHiEwW\n",
              "yyVRDVMHtYOvix3S88vw/dFkueMQ3WFrzDX8ejaDW3iIyGSxXBLVYG+rxLyRoQCAL35PRH5phcyJ\n",
              "iG5Jzy/De1u5hYeITBvLJdFtxvfyQ5ivMwrLtVj6e6LccYgAcAsPEZkPlkui2ygVAt6uGqz+/dFk\n",
              "pOSWypyIiFt4iMh88NmJqA6DQ71wf4gnKnUiFu7kYHWS18Vrt7bw/B+38BCRiWO5JKpH1OhOEATg\n",
              "17MZiEnNlzsOWanySh3+vu509RaeSdzCQ0QmjuWSqB6d27hgfE8/AMCC3y5BFDlYnYzv451xiM8q\n",
              "5hYeIjIbLJdEd/H6qFCoVQqcSM7D7otZcschK8MtPERkjlguie6itas9XrivHQDgnS3nEbXpHL47\n",
              "fAVHEnOQU6yROR1ZsppbeJ7hFh4iMiOcvkt0DzMf6IAtp9NxraAca0+k1Pqah6MtQnyc0NHHGaG+\n",
              "zujo44wQH2e42tvIlJYswe1beN7hFh4iMiMsl0T34Gxng21z7sfBhBzEZxYhLqsI8VlFSMkrRW5J\n",
              "BXIv5+HY5bxa9/F1sUOorzNCvZ1qlE4nblOhBuEWHiIyZ3zGImoANwdbPBbeBgi/dV1ZhQ6J2cWI\n",
              "yypCQlZV6cwswrWCcmQWGi4H46/X+j7+7vaGVzl9nNHR1xkh3s7o4O0ItUpp5N+ITFXNLTxzhnEL\n",
              "DxGZH5ZLoiayt1Wim58ruvm51rq+sLwSCVnFiM8qQlym4VXO+Kxi5BRrkJpXhtS8Muy5lF19e6VC\n",
              "QJCHA0JrlM5QH2cEeThwULaV0elFzF13awvPrAe4hYeIzA/LJZHEXOxs0DuwFXoHtqp1fW6xBvFZ\n",
              "xUjIvlU64zKLUFiuRdL1EiRdL8H285nVt7dVKtDey7G6bIb6GN5e92tlD4WC42gs0deHLuP4FcMW\n",
              "ns8mcQsPEZmnRpXL2bNn45dffsHVq1dx+vRp9OjRAwCQkJCAKVOmICcnB66urvjuu+/QpUuXlshL\n",
              "ZLY8nNQY4KTGgA4e1deJoojsIk2NVziLEJdVjISsIpRW6BCbWYTYzKJa38feRokQH6fqshni44SO\n",
              "vs7wdbHjDEQzdvFaIRbtigNg2MIT6MEtPERknhpVLidMmIA333wT9913X63rZ8yYgenTp+O5557D\n",
              "zz//jOeeew4nT56UNCiRJRIEAT4udvBxscPgUK/q6/V6Een5ZVVl0/BZzvisYiReL0ZZpQ5n0wpw\n",
              "Nq2g1vdytlNVn63e0efWiUQenI1o8m5u4anUidzCQ0Rmr1HlcvDgwXdcl52djVOnTmHXrl0AgMcf\n",
              "fxyvvPIKEhMTERwcLE1KIiujUAjwd3eAv7sDhnW6Nd9Qq9Pjal5pddm8WT6v5JSgqFyLU1dv4NTV\n",
              "G7W+l4ej7a0TiKrGJnFckmm5tYVHjY+4hYeIzFyzP3OZmpqK1q1bQ6UyfCtBEBAQEICUlJR6y6VG\n",
              "o4FGU3sAtU6na24UIounUirQwcsJHbycMLrbres1Wh2u5JTUOoGo5riko5dzcfRybq3v1drV7tar\n",
              "nFWf6eS4JOP7I6HmFp5ufKWZiMyeLP8ViY6Oxj//+c9a10VERMgRhcgiqFVKhPm6IMzXpdb1Nccl\n",
              "3TyBKCHLMC4po+pSc1ySIAD+rW6eue5UfTJRey+OS2oJ+aUVeH0Dt/AQkWVpdrn09/dHRkYGtFot\n",
              "VCoVRFFESkoKAgIC6r1PVFQU5s6dW+u69957r7lRiOg2dx+XZHiFs+bJRDnFFUjJK0VKXin2XLq1\n",
              "S/3muKSbszk5Lqn5RFHEu1vOcwsPEVmcZpdLb29v9OrVCz/++COee+45bNy4EX5+fnf9vKVarYZa\n",
              "XfutH6WSr4oQGYthXJI7ege617r+5rikm2WzrnFJQP3jkm4OiOe4pHuruYXnM27hISILIoiiKDb0\n",
              "xjNmzMBvv/2GzMxMeHh4wNnZGYmJiYiLi8Nzzz2H3NxcuLi4YPXq1ejWrdu9v2ENc+fOxeLFixv9\n",
              "CxBRyxJFEVmFmlplMz6rCAnZxSitqPuz0vY2SoT6OFV9pvPW3nUfFzVPVgGQdqMUoz87hCKNFnNH\n",
              "hGL2sBC5IxERSaZR5bIlsVwSmZeb45LiMosQn11UtXe9GEnZxajQ6eu8z81xSbfvXbemk1h0ehFP\n",
              "f3UMx6/koWeAGzbMGMCPFhCRReH7METUJDXHJQ3vXPe4JMPe9eJ7jkvydLKt9VnOm696WuK4JG7h\n",
              "ISJLx3JJRJKqPS6pdfX1Gq0Ol6+X1Hh73bAKMyWvFDnFFcgprntc0s2yeXNWZ7C3+Y5LqrmF5/1H\n",
              "uYWHiCyTeT5DE5HZUauU6NTaBZ1a1x6XVFqhNYxLyjR8jvPmZzozaoxLOlDPuKSOvrdmdJr6uKSa\n",
              "W3hGdvbBxD7cwkNElonlkohk5WCrQnc/N3T3c6t1fUFZJRKzDa9w1jx7/W7jktp5Ot56lbNqE5Gp\n",
              "jEtauOPWFp7o8dzCQ0SWi+WSiEySq/29xyXd2rtuGJeUmF2MxOxibDtXe1xSB28ndKxx9npHX2e0\n",
              "dTPeuKQ/EnLw7WFu4SEi68BySURmxcNJjQFOagzo4FF93c1xSYYTiIpqrcEsq9ThUkYhLmUU1vo+\n",
              "DrZKhHg71di73jLjkmpu4ZkcwS08RGT5WC6JyOwJggBfVzv4utphSKhX9fU1xyVVF8+qcUmlFTqc\n",
              "SSvAmbSCWt/LxU5l+Byn762h8KE+Tk16tVEURbxTtYWnvacj3ons3OzflYjI1LFcEpHFutu4pOTc\n",
              "0qqyeetVzis5JSi8y7ik0OqyaTiZKMTHGS529Y9L2hKTjt/OZkClEPDppB6wtzXdE46IiKTCcklE\n",
              "VkelVCDY2wnB3vcelxSfVXtc0pGkusclGfauO1WPS8orqcD/bbkAAJg9LATh/m7G/BWJiGTDcklE\n",
              "VKUh45Juvsp5r3FJjrYqFGu06BXghlkPdDD2r0JEJBuWSyKie2jouCTDrE7DuKRijRaOtkp8yi08\n",
              "RGRlWC6JiJqovnFJOcUaJGQVo62bPQI8HGRKR0QkD5ZLIiKJeTqp4clZlkRkpfheDRERERFJhuWS\n",
              "iIiIiCTDcklEREREkmG5JCIiIiLJsFwSERERkWRYLomIiIhIMiyXRERERCQZlksiIiIikgzLJRER\n",
              "ERFJhuWSiIiIiCTDcklEREREkhFEURTlDgEA48ePR1BQkFF+lk6nw4kTJ9CvXz8olUqj/ExzwWNT\n",
              "Nx6X+vHY1I3HpW48LvXjsakbj0v95Dg2gYGBmDNnzl1vYzLl0pgKCwvh6uqKgoICuLi4yB3HpPDY\n",
              "1I3HpX48NnXjcakbj0v9eGzqxuNSP1M9NnxbnIiIiIgkw3JJRERERJJhuSQiIiIiyVhluVSr1Xj/\n",
              "/fehVqvljmJyeGzqxuNSPx6buvG41I3HpX48NnXjcamfqR4bqzyhh4iIiIhahlW+cklERERELYPl\n",
              "koiIiIgkw3JJRERERJKx6HKZkJCAgQMHIjQ0FH379sWFCxfqvN0333yDkJAQdOjQAS+++CIqKyuN\n",
              "nNT4GnJs9u/fD3t7e/To0aP6UlZWJkNa45g9ezaCgoIgCAJiYmLqvZ01Pl4acmys7fECAOXl5Rg7\n",
              "dixCQ0MRHh6OESNGIDExsc7b/vrrrwgLC0NISAjGjx+PwsJCI6c1noYel+TkZCiVylqPmaSkJBkS\n",
              "G9fIkSPRvXt39OjRA/fffz9Onz5d5+2s7bmmIcfFGp9nblq9ejUEQcCWLVvq/LpJPceIFmzo0KHi\n",
              "6tWrRVEUxQ0bNoh9+vS54zaXL18WW7duLWZkZIh6vV589NFHxS+++MLISY2vIcdm3759Ynh4uHGD\n",
              "yejAgQNiamqqGBgYKJ4+fbrO21jr46Uhx8baHi+iKIplZWXib7/9Jur1elEURXHp0qXikCFD7rhd\n",
              "UVGR6O3tLV66dEkURVF8+eWXxddff92YUY2qocflypUroqurq3HDmYAbN25U/+9NmzaJ3bt3v+M2\n",
              "1vhc05DjYo3PM6Jo+FsZMGCAGBERIW7evPmOr5vac4zFvnKZnZ2NU6dOYfLkyQCAxx9/HKmpqXf8\n",
              "6/nnn3/GY489Bl9fXwiCgJdeeglr166VI7LRNPTYWJvBgwfDz8/vrrexxscL0LBjY43s7OwQGRkJ\n",
              "QRAAABEREUhOTr7jdtu3b0fPnj0RFhYGAJg1a5ZFP24aelyslZubW/X/LigoqD5ONVnjc01Djos1\n",
              "0uv1mDZtGpYuXVrvyCFTe46x2HKZmpqK1q1bQ6VSAQAEQUBAQABSUlJq3S4lJQWBgYHV/z8oKOiO\n",
              "21iahh4bAEhKSkKvXr3Qt29fLFu2zNhRTY41Pl4aw9ofL0uWLMGYMWPuuL6ux01GRga0Wq0x48mm\n",
              "vuMCACUlJejbty969eqFf/3rX9DpdEZOJ4+//e1v8Pf3x3vvvYcffvjhjq9b63PNvY4LYH3PM4sX\n",
              "L8agQYPQu3fvem9jas8xKll+KpmFXr16IS0tDa6urkhLS0NkZCQ8PT0xceJEuaORCbL2x8uCBQuQ\n",
              "mJiIvXv3yh3FpNztuLRu3Rrp6enw9vZGXl4eJk2ahE8++QRvvvmmDEmN6/vvvwcArFmzBm+99Ra2\n",
              "bdsmcyLTcK/jYm3PM+fPn8fGjRtx8OBBuaM0isW+cunv71+rtYuiiJSUFAQEBNS6XUBAAK5evVr9\n",
              "/5OTk++4jaVp6LFxcXGBq6srAMDPzw9PPfUUDh06ZPS8psQaHy8NZc2Pl0WLFmHTpk3Yvn07HBwc\n",
              "7vh6XY+bmu8eWKp7HRe1Wg1vb28AgLu7O6ZOnWo1j5mbpkyZgn379iE3N7fW9db+XFPfcbG255lD\n",
              "hw4hOTkZISEhCAoKwrFjxzB9+nQsX7681u1M7TnGYsult7c3evXqhR9//BEAsHHjRvj5+SE4OLjW\n",
              "7R5//HH88ssvyMzMhCiKWLFiBZ588kk5IhtNQ49NRkYG9Ho9AKCoqAi//vorevbsafS8psQaHy8N\n",
              "Za2Pl8WLF2Pt2rXYvXt3rc+M1fTQQw/hr7/+QmxsLABg2bJlFv+4achxyc7Orj4DWqPRYNOmTRb/\n",
              "mMnPz8e1a9eq//+WLVvg4eEBd3f3Wreztueahh4Xa3uemTlzJjIyMpCcnIzk5GRERERg1apVmDlz\n",
              "Zq3bmdxzjGynEhlBbGysGBERIYaEhIi9e/cWz549K4qiKL7wwgvi1q1bq2+3atUqsX379mL79u3F\n",
              "qVOnihUVFXJFNpqGHJulS5eKnTt3Frt37y527txZfP/996vP/rRE06dPF9u2bSsqlUrR29tb7NCh\n",
              "gyiKfLyIYsOOjbU9XkRRFFNTU0UAYvv27cXw8HAxPDxc7NevnyiKovjee++Jy5cvr77t1q1bxY4d\n",
              "O4odOnQQx4wZI+bn58sVu8U19Lhs3LhR7NKlS/Vj5pVXXhHLy8vljN7ikpOTxb59+4pdu3YVu3fv\n",
              "Lg4bNqx6AoM1P9c09LhY4/NMTUOGDKk+W9yUn2O4W5yIiIiIJGOxb4sTERERkfGxXBIRERGRZFgu\n",
              "iYiIiEgyLJdEREREJBmWSyIiIiKSDMslEREREUmG5ZKIiIiIJMNySURERESSYbkkIiIiIsmwXBIR\n",
              "ERGRZFguiYiIiEgy/x9hbfLYiL/LgAAAAABJRU5ErkJggg==\n",
              "\">\n",
              "      </div>\n",
              "      <script type=\"text/javascript\">\n",
              "        (() => {\n",
              "          const chartElement = document.getElementById(\"chart-6dd1d27a-8d33-4cdf-83c2-13ea821880ba\");\n",
              "          async function getCodeForChartHandler(event) {\n",
              "            const chartCodeResponse =  await google.colab.kernel.invokeFunction(\n",
              "                'getCodeForChart', [\"chart-6dd1d27a-8d33-4cdf-83c2-13ea821880ba\"], {});\n",
              "            const responseJson = chartCodeResponse.data['application/json'];\n",
              "            await google.colab.notebook.addCell(responseJson.code, 'code');\n",
              "          }\n",
              "          chartElement.onclick = getCodeForChartHandler;\n",
              "        })();\n",
              "      </script>\n",
              "      <style>\n",
              "        .colab-quickchart-chart-with-code  {\n",
              "            display: block;\n",
              "            float: left;\n",
              "            border: 1px solid transparent;\n",
              "        }\n",
              "\n",
              "        .colab-quickchart-chart-with-code:hover {\n",
              "            cursor: pointer;\n",
              "            border: 1px solid #aaa;\n",
              "        }\n",
              "      </style>"
            ]
          },
          "metadata": {}
        }
      ],
      "source": [
        "# Print some part of the dataset.\n",
        "adv.head()"
      ]
    },
    {
      "cell_type": "markdown",
      "metadata": {
        "id": "W_jI42J3605s"
      },
      "source": [
        "##### __Expected Output__\n",
        "\n",
        "```Python\n",
        "\tTV\tSales\n",
        "0\t230.1\t22.1\n",
        "1\t44.5\t10.4\n",
        "2\t17.2\t9.3\n",
        "3\t151.5\t18.5\n",
        "4\t180.8\t12.9\n",
        "```"
      ]
    },
    {
      "cell_type": "code",
      "execution_count": 6,
      "metadata": {
        "id": "dWzd5DFC605s",
        "outputId": "abc7a7ed-d297-4244-befb-281f4e97457b",
        "colab": {
          "base_uri": "https://localhost:8080/"
        }
      },
      "outputs": [
        {
          "output_type": "stream",
          "name": "stdout",
          "text": [
            "\u001b[92m All tests passed\n"
          ]
        }
      ],
      "source": [
        "w2_unittest.test_load_data(adv)"
      ]
    },
    {
      "cell_type": "markdown",
      "metadata": {
        "id": "pMn-XACR605s"
      },
      "source": [
        "`pandas` has a function to make plots from the DataFrame fields. By default, matplotlib is used at the backend. Let's use it here:"
      ]
    },
    {
      "cell_type": "code",
      "execution_count": 7,
      "metadata": {
        "tags": [
          "graded"
        ],
        "id": "p6OLGZHG605s",
        "outputId": "0f1cebf5-ec0e-4fc0-b3de-a4cd4671c1bf",
        "colab": {
          "base_uri": "https://localhost:8080/",
          "height": 466
        }
      },
      "outputs": [
        {
          "output_type": "execute_result",
          "data": {
            "text/plain": [
              "<Axes: xlabel='TV', ylabel='Sales'>"
            ]
          },
          "metadata": {},
          "execution_count": 7
        },
        {
          "output_type": "display_data",
          "data": {
            "text/plain": [
              "<Figure size 640x480 with 1 Axes>"
            ],
            "image/png": "[encoded data removed]"
          },
          "metadata": {}
        }
      ],
      "source": [
        "adv.plot(x='TV', y='Sales', kind='scatter', c='black')"
      ]
    },
    {
      "cell_type": "markdown",
      "metadata": {
        "id": "j2SVFOkj605s"
      },
      "source": [
        "You can use this dataset to solve a simple problem with linear regression: given a TV marketing budget, predict sales."
      ]
    },
    {
      "cell_type": "markdown",
      "metadata": {
        "id": "mzn8X6ax605s"
      },
      "source": [
        "<a name='2'></a>\n",
        "## 2 - Linear Regression in Python with `NumPy` and `Scikit-Learn`"
      ]
    },
    {
      "cell_type": "markdown",
      "metadata": {
        "id": "4NA8et13605s"
      },
      "source": [
        "Save the required field of the DataFrame into variables `X` and `Y`:"
      ]
    },
    {
      "cell_type": "code",
      "execution_count": 8,
      "metadata": {
        "tags": [
          "graded"
        ],
        "id": "axsIh4WF605t"
      },
      "outputs": [],
      "source": [
        "X = adv['TV']\n",
        "Y = adv['Sales']"
      ]
    },
    {
      "cell_type": "markdown",
      "metadata": {
        "id": "6poN1rNu605t"
      },
      "source": [
        "<a name='2.1'></a>\n",
        "### 2.1 - Linear Regression with `NumPy`"
      ]
    },
    {
      "cell_type": "markdown",
      "metadata": {
        "id": "9cYhV8Bk605t"
      },
      "source": [
        "You can use the function `np.polyfit(x, y, deg)` to fit a polynomial of degree `deg` to points $(x, y)$, minimising the sum of squared errors. You can read more in the [documentation](https://numpy.org/doc/stable/reference/generated/numpy.polyfit.html). Taking `deg = 1` you can obtain the slope `m` and the intercept `b` of the linear regression line:"
      ]
    },
    {
      "cell_type": "code",
      "execution_count": 9,
      "metadata": {
        "tags": [
          "graded"
        ],
        "id": "o-Asx70L605t",
        "outputId": "9257d21c-33e7-49a3-c91e-8ca54baabb48",
        "colab": {
          "base_uri": "https://localhost:8080/"
        }
      },
      "outputs": [
        {
          "output_type": "stream",
          "name": "stdout",
          "text": [
            "Linear regression with NumPy. Slope: 0.04753664043301975. Intercept: 7.0325935491276965\n"
          ]
        }
      ],
      "source": [
        "m_numpy, b_numpy = np.polyfit(X, Y, 1)\n",
        "\n",
        "print(f\"Linear regression with NumPy. Slope: {m_numpy}. Intercept: {b_numpy}\")"
      ]
    },
    {
      "cell_type": "markdown",
      "metadata": {
        "id": "KPJfzscO605t"
      },
      "source": [
        "<a name='ex02'></a>\n",
        "### Exercise 2\n",
        "\n",
        "Make predictions substituting the obtained slope and intercept coefficients into the equation $Y = mX + b$, given an array of $X$ values."
      ]
    },
    {
      "cell_type": "code",
      "execution_count": 10,
      "metadata": {
        "tags": [
          "graded"
        ],
        "id": "Zic3JEzM605t"
      },
      "outputs": [],
      "source": [
        "# This is organised as a function only for grading purposes.\n",
        "def pred_numpy(m, b, X):\n",
        "    ### START CODE HERE ### (~ 1 line of code)\n",
        "    Y = m*X + b\n",
        "    ### END CODE HERE ###\n",
        "\n",
        "    return Y"
      ]
    },
    {
      "cell_type": "code",
      "execution_count": 11,
      "metadata": {
        "tags": [
          "graded"
        ],
        "id": "QU-9NN2h605t",
        "outputId": "0ddc5272-b9b4-4ae4-c657-78ab0d91ee6f",
        "colab": {
          "base_uri": "https://localhost:8080/"
        }
      },
      "outputs": [
        {
          "output_type": "stream",
          "name": "stdout",
          "text": [
            "TV marketing expenses:\n",
            "[ 50 120 280]\n",
            "Predictions of sales using NumPy linear regression:\n",
            "[ 9.40942557 12.7369904  20.34285287]\n"
          ]
        }
      ],
      "source": [
        "X_pred = np.array([50, 120, 280])\n",
        "Y_pred_numpy = pred_numpy(m_numpy, b_numpy, X_pred)\n",
        "\n",
        "print(f\"TV marketing expenses:\\n{X_pred}\")\n",
        "print(f\"Predictions of sales using NumPy linear regression:\\n{Y_pred_numpy}\")"
      ]
    },
    {
      "cell_type": "markdown",
      "metadata": {
        "id": "yxx8SjZQ605t"
      },
      "source": [
        "##### __Expected Output__\n",
        "\n",
        "```Python\n",
        "TV marketing expenses:\n",
        "[ 50 120 280]\n",
        "Predictions of sales using NumPy linear regression:\n",
        "[ 9.40942557 12.7369904  20.34285287]\n",
        "```"
      ]
    },
    {
      "cell_type": "code",
      "execution_count": 12,
      "metadata": {
        "id": "IzykDxrT605u",
        "outputId": "2560eafe-34df-40a3-925a-77fb5700dfff",
        "colab": {
          "base_uri": "https://localhost:8080/"
        }
      },
      "outputs": [
        {
          "output_type": "stream",
          "name": "stdout",
          "text": [
            "\u001b[92m All tests passed\n"
          ]
        }
      ],
      "source": [
        "w2_unittest.test_pred_numpy(pred_numpy)"
      ]
    },
    {
      "cell_type": "markdown",
      "metadata": {
        "id": "z06vgKJ_605u"
      },
      "source": [
        "<a name='2.2'></a>\n",
        "### 2.2 - Linear Regression with `Scikit-Learn`"
      ]
    },
    {
      "cell_type": "markdown",
      "metadata": {
        "id": "VZhNR6PS605u"
      },
      "source": [
        "`Scikit-Learn` is an open-source machine learning library that supports supervised and unsupervised learning. It also provides various tools for model fitting, data preprocessing, model selection, model evaluation, and many other utilities. `Scikit-learn` provides dozens of built-in machine learning algorithms and models, called **estimators**. Each estimator can be fitted to some data using its `fit` method. Full documentation can be found [here](https://scikit-learn.org/stable/)."
      ]
    },
    {
      "cell_type": "markdown",
      "metadata": {
        "id": "W2Wcyyjf605u"
      },
      "source": [
        "Create an estimator object for a linear regression model:"
      ]
    },
    {
      "cell_type": "code",
      "execution_count": 13,
      "metadata": {
        "tags": [
          "graded"
        ],
        "id": "LvS81QBg605u"
      },
      "outputs": [],
      "source": [
        "lr_sklearn = LinearRegression()"
      ]
    },
    {
      "cell_type": "markdown",
      "metadata": {
        "id": "WtBO19ze605u"
      },
      "source": [
        "The estimator can learn from data calling the `fit` function. However, trying to run the following code you will get an error, as the data needs to be reshaped into 2D array:"
      ]
    },
    {
      "cell_type": "code",
      "execution_count": 22,
      "metadata": {
        "tags": [
          "graded"
        ],
        "id": "63t5x413605u",
        "outputId": "8c2a793e-a9f9-4b57-9174-02a519ffbdb7",
        "colab": {
          "base_uri": "https://localhost:8080/"
        }
      },
      "outputs": [
        {
          "output_type": "execute_result",
          "data": {
            "text/plain": [
              "{(200,)}"
            ]
          },
          "metadata": {},
          "execution_count": 22
        }
      ],
      "source": [
        "print(f\"Shape of X array: {X.shape}\")\n",
        "print(f\"Shape of Y array: {Y.shape}\")\n",
        "\n",
        "try:\n",
        "    lr_sklearn.fit(X, Y)\n",
        "except ValueError as err:\n",
        "    print(err)"
      ]
    },
    {
      "cell_type": "markdown",
      "metadata": {
        "id": "kAbj-XG8605v"
      },
      "source": [
        "You can increase the dimension of the array by one with `reshape` function, or there is another another way to do it:"
      ]
    },
    {
      "cell_type": "code",
      "execution_count": 51,
      "metadata": {
        "tags": [
          "graded"
        ],
        "id": "jT6SNtIO605v",
        "outputId": "6aae569a-215e-40cf-e723-a48a35753405",
        "colab": {
          "base_uri": "https://localhost:8080/"
        }
      },
      "outputs": [
        {
          "output_type": "stream",
          "name": "stdout",
          "text": [
            "Shape of new X array: (200, 1)\n",
            "Shape of new Y array: (200, 1)\n"
          ]
        }
      ],
      "source": [
        "#X_sklearn = X[:, np.newaxis] #(doesnt work)\n",
        "X_sklearn = np.reshape(X,[np.shape(X)[0],1]);\n",
        "#Y_sklearn = Y[:, np.newaxis]\n",
        "Y_sklearn = np.reshape(Y,[np.shape(Y)[0],1]);\n",
        "\n",
        "print(f\"Shape of new X array: {X_sklearn.shape}\")\n",
        "print(f\"Shape of new Y array: {Y_sklearn.shape}\")"
      ]
    },
    {
      "cell_type": "markdown",
      "metadata": {
        "id": "5EV6ReLU605v"
      },
      "source": [
        "<a name='ex03'></a>\n",
        "### Exercise 3\n",
        "\n",
        "Fit the linear regression model passing `X_sklearn` and `Y_sklearn` arrays into the function `lr_sklearn.fit`."
      ]
    },
    {
      "cell_type": "code",
      "execution_count": 52,
      "metadata": {
        "tags": [
          "graded"
        ],
        "id": "nYOYWyfS605v",
        "outputId": "1f0938e2-1455-4814-cbc3-8d9432dcaa69",
        "colab": {
          "base_uri": "https://localhost:8080/",
          "height": 74
        }
      },
      "outputs": [
        {
          "output_type": "execute_result",
          "data": {
            "text/plain": [
              "LinearRegression()"
            ],
            "text/html": [
              "<style>#sk-container-id-2 {color: black;}#sk-container-id-2 pre{padding: 0;}#sk-container-id-2 div.sk-toggleable {background-color: white;}#sk-container-id-2 label.sk-toggleable__label {cursor: pointer;display: block;width: 100%;margin-bottom: 0;padding: 0.3em;box-sizing: border-box;text-align: center;}#sk-container-id-2 label.sk-toggleable__label-arrow:before {content: \"▸\";float: left;margin-right: 0.25em;color: #696969;}#sk-container-id-2 label.sk-toggleable__label-arrow:hover:before {color: black;}#sk-container-id-2 div.sk-estimator:hover label.sk-toggleable__label-arrow:before {color: black;}#sk-container-id-2 div.sk-toggleable__content {max-height: 0;max-width: 0;overflow: hidden;text-align: left;background-color: #f0f8ff;}#sk-container-id-2 div.sk-toggleable__content pre {margin: 0.2em;color: black;border-radius: 0.25em;background-color: #f0f8ff;}#sk-container-id-2 input.sk-toggleable__control:checked~div.sk-toggleable__content {max-height: 200px;max-width: 100%;overflow: auto;}#sk-container-id-2 input.sk-toggleable__control:checked~label.sk-toggleable__label-arrow:before {content: \"▾\";}#sk-container-id-2 div.sk-estimator input.sk-toggleable__control:checked~label.sk-toggleable__label {background-color: #d4ebff;}#sk-container-id-2 div.sk-label input.sk-toggleable__control:checked~label.sk-toggleable__label {background-color: #d4ebff;}#sk-container-id-2 input.sk-hidden--visually {border: 0;clip: rect(1px 1px 1px 1px);clip: rect(1px, 1px, 1px, 1px);height: 1px;margin: -1px;overflow: hidden;padding: 0;position: absolute;width: 1px;}#sk-container-id-2 div.sk-estimator {font-family: monospace;background-color: #f0f8ff;border: 1px dotted black;border-radius: 0.25em;box-sizing: border-box;margin-bottom: 0.5em;}#sk-container-id-2 div.sk-estimator:hover {background-color: #d4ebff;}#sk-container-id-2 div.sk-parallel-item::after {content: \"\";width: 100%;border-bottom: 1px solid gray;flex-grow: 1;}#sk-container-id-2 div.sk-label:hover label.sk-toggleable__label {background-color: #d4ebff;}#sk-container-id-2 div.sk-serial::before {content: \"\";position: absolute;border-left: 1px solid gray;box-sizing: border-box;top: 0;bottom: 0;left: 50%;z-index: 0;}#sk-container-id-2 div.sk-serial {display: flex;flex-direction: column;align-items: center;background-color: white;padding-right: 0.2em;padding-left: 0.2em;position: relative;}#sk-container-id-2 div.sk-item {position: relative;z-index: 1;}#sk-container-id-2 div.sk-parallel {display: flex;align-items: stretch;justify-content: center;background-color: white;position: relative;}#sk-container-id-2 div.sk-item::before, #sk-container-id-2 div.sk-parallel-item::before {content: \"\";position: absolute;border-left: 1px solid gray;box-sizing: border-box;top: 0;bottom: 0;left: 50%;z-index: -1;}#sk-container-id-2 div.sk-parallel-item {display: flex;flex-direction: column;z-index: 1;position: relative;background-color: white;}#sk-container-id-2 div.sk-parallel-item:first-child::after {align-self: flex-end;width: 50%;}#sk-container-id-2 div.sk-parallel-item:last-child::after {align-self: flex-start;width: 50%;}#sk-container-id-2 div.sk-parallel-item:only-child::after {width: 0;}#sk-container-id-2 div.sk-dashed-wrapped {border: 1px dashed gray;margin: 0 0.4em 0.5em 0.4em;box-sizing: border-box;padding-bottom: 0.4em;background-color: white;}#sk-container-id-2 div.sk-label label {font-family: monospace;font-weight: bold;display: inline-block;line-height: 1.2em;}#sk-container-id-2 div.sk-label-container {text-align: center;}#sk-container-id-2 div.sk-container {/* jupyter's `normalize.less` sets `[hidden] { display: none; }` but bootstrap.min.css set `[hidden] { display: none !important; }` so we also need the `!important` here to be able to override the default hidden behavior on the sphinx rendered scikit-learn.org. See: https://github.com/scikit-learn/scikit-learn/issues/21755 */display: inline-block !important;position: relative;}#sk-container-id-2 div.sk-text-repr-fallback {display: none;}</style><div id=\"sk-container-id-2\" class=\"sk-top-container\"><div class=\"sk-text-repr-fallback\"><pre>LinearRegression()</pre><b>In a Jupyter environment, please rerun this cell to show the HTML representation or trust the notebook. <br />On GitHub, the HTML representation is unable to render, please try loading this page with nbviewer.org.</b></div><div class=\"sk-container\" hidden><div class=\"sk-item\"><div class=\"sk-estimator sk-toggleable\"><input class=\"sk-toggleable__control sk-hidden--visually\" id=\"sk-estimator-id-2\" type=\"checkbox\" checked><label for=\"sk-estimator-id-2\" class=\"sk-toggleable__label sk-toggleable__label-arrow\">LinearRegression</label><div class=\"sk-toggleable__content\"><pre>LinearRegression()</pre></div></div></div></div></div>"
            ]
          },
          "metadata": {},
          "execution_count": 52
        }
      ],
      "source": [
        "### START CODE HERE ### (~ 1 line of code)\n",
        "lr_sklearn.fit(X_sklearn, Y_sklearn)\n",
        "### END CODE HERE ###"
      ]
    },
    {
      "cell_type": "code",
      "execution_count": 53,
      "metadata": {
        "tags": [
          "graded"
        ],
        "id": "BQlM7722605v",
        "outputId": "5ca9f60b-0539-4d7f-a369-a4a0bb8ec34c",
        "colab": {
          "base_uri": "https://localhost:8080/"
        }
      },
      "outputs": [
        {
          "output_type": "stream",
          "name": "stdout",
          "text": [
            "Linear regression using Scikit-Learn. Slope: [[0.04753664]]. Intercept: [7.03259355]\n"
          ]
        }
      ],
      "source": [
        "m_sklearn = lr_sklearn.coef_\n",
        "b_sklearn = lr_sklearn.intercept_\n",
        "\n",
        "print(f\"Linear regression using Scikit-Learn. Slope: {m_sklearn}. Intercept: {b_sklearn}\")"
      ]
    },
    {
      "cell_type": "markdown",
      "metadata": {
        "id": "HUbbQHg36051"
      },
      "source": [
        "##### __Expected Output__\n",
        "\n",
        "```Python\n",
        "Linear regression using Scikit-Learn. Slope: [[0.04753664]]. Intercept: [7.03259355]\n",
        "```"
      ]
    },
    {
      "cell_type": "code",
      "execution_count": 54,
      "metadata": {
        "id": "J7HcQ16b6051",
        "outputId": "db3f840b-a773-46c5-b6c9-ffafaf2756d1",
        "colab": {
          "base_uri": "https://localhost:8080/"
        }
      },
      "outputs": [
        {
          "output_type": "stream",
          "name": "stdout",
          "text": [
            "\u001b[92m All tests passed\n"
          ]
        }
      ],
      "source": [
        "w2_unittest.test_sklearn_fit(lr_sklearn)"
      ]
    },
    {
      "cell_type": "markdown",
      "metadata": {
        "id": "sorNgEna6051"
      },
      "source": [
        "Note that you have got the same result as with the `NumPy` function `polyfit`. Now, to make predictions it is convenient to use `Scikit-Learn` function `predict`."
      ]
    },
    {
      "cell_type": "markdown",
      "metadata": {
        "id": "Mh-_H0-g6051"
      },
      "source": [
        "<a name='ex04'></a>\n",
        "### Exercise 4\n",
        "\n",
        "\n",
        "Increase the dimension of the $X$ array using the function `np.newaxis` (see an example above) and pass the result to the `lr_sklearn.predict` function to make predictions."
      ]
    },
    {
      "cell_type": "code",
      "execution_count": 68,
      "metadata": {
        "tags": [
          "graded"
        ],
        "id": "uRbwpktF6051"
      },
      "outputs": [],
      "source": [
        "# This is organised as a function only for grading purposes.\n",
        "def pred_sklearn(X, lr_sklearn):\n",
        "    ### START CODE HERE ### (~ 2 lines of code)\n",
        "    X_shaped = X.copy()\n",
        "    X_shaped = np.reshape(X_shaped,[X.shape[0],1])\n",
        "    Y = lr_sklearn.predict(X_shaped)\n",
        "    ### END CODE HERE ###\n",
        "\n",
        "    return Y"
      ]
    },
    {
      "cell_type": "code",
      "execution_count": 69,
      "metadata": {
        "tags": [
          "graded"
        ],
        "id": "bx4NwmWU6051",
        "outputId": "683561b0-972c-463a-fc02-b5d6d3762e36",
        "colab": {
          "base_uri": "https://localhost:8080/"
        }
      },
      "outputs": [
        {
          "output_type": "stream",
          "name": "stdout",
          "text": [
            "TV marketing expenses:\n",
            "[ 50 120 280]\n",
            "Predictions of sales using Scikit_Learn linear regression:\n",
            "[[ 9.40942557 12.7369904  20.34285287]]\n"
          ]
        }
      ],
      "source": [
        "Y_pred_sklearn = pred_sklearn(X_pred, lr_sklearn)\n",
        "\n",
        "print(f\"TV marketing expenses:\\n{X_pred}\")\n",
        "print(f\"Predictions of sales using Scikit_Learn linear regression:\\n{Y_pred_sklearn.T}\")"
      ]
    },
    {
      "cell_type": "markdown",
      "metadata": {
        "id": "hkIufSrv6051"
      },
      "source": [
        "##### __Expected Output__\n",
        "\n",
        "```Python\n",
        "TV marketing expenses:\n",
        "[ 50 120 280]\n",
        "Predictions of sales using Scikit_Learn linear regression:\n",
        "[[ 9.40942557 12.7369904  20.34285287]]\n",
        "```"
      ]
    },
    {
      "cell_type": "code",
      "execution_count": 70,
      "metadata": {
        "id": "Qg-v4sLb6052",
        "outputId": "c2103131-608d-43e0-817b-174c3b5ad9ed",
        "colab": {
          "base_uri": "https://localhost:8080/"
        }
      },
      "outputs": [
        {
          "output_type": "stream",
          "name": "stdout",
          "text": [
            "\u001b[92m All tests passed\n"
          ]
        }
      ],
      "source": [
        "w2_unittest.test_sklearn_predict(pred_sklearn, lr_sklearn)"
      ]
    },
    {
      "cell_type": "markdown",
      "metadata": {
        "id": "i289Y2Dr6052"
      },
      "source": [
        "You can plot the linear regression line and the predictions by running the following code. The regression line is red and the predicted points are blue."
      ]
    },
    {
      "cell_type": "code",
      "execution_count": 71,
      "metadata": {
        "tags": [
          "graded"
        ],
        "id": "is1j4Dz_6052",
        "outputId": "444ddd8e-f44b-4acc-88d0-c6e1c1435627",
        "colab": {
          "base_uri": "https://localhost:8080/",
          "height": 482
        }
      },
      "outputs": [
        {
          "output_type": "execute_result",
          "data": {
            "text/plain": [
              "[<matplotlib.lines.Line2D at 0x7b6b4c29e0e0>]"
            ]
          },
          "metadata": {},
          "execution_count": 71
        },
        {
          "output_type": "display_data",
          "data": {
            "text/plain": [
              "<Figure size 800x500 with 1 Axes>"
            ],
            "image/png": "[encoded data removed]"
          },
          "metadata": {}
        }
      ],
      "source": [
        "fig, ax = plt.subplots(1,1,figsize=(8,5))\n",
        "ax.plot(X, Y, 'o', color='black')\n",
        "ax.set_xlabel('TV')\n",
        "ax.set_ylabel('Sales')\n",
        "\n",
        "ax.plot(X, m_sklearn[0][0]*X+b_sklearn[0], color='red')\n",
        "ax.plot(X_pred, Y_pred_sklearn, 'o', color='blue')"
      ]
    },
    {
      "cell_type": "markdown",
      "metadata": {
        "id": "IsD_FwfJ6052"
      },
      "source": [
        "<a name='3'></a>\n",
        "## 3 - Linear Regression using Gradient Descent"
      ]
    },
    {
      "cell_type": "markdown",
      "metadata": {
        "id": "XBWxMEY26053"
      },
      "source": [
        "Functions to fit the models automatically are convenient to use, but for an in-depth understanding of the model and the maths behind it is good to implement an algorithm by yourself. Let's try to find linear regression coefficients $m$ and $b$, by minimising the difference between original values $y^{(i)}$ and predicted values $\\hat{y}^{(i)}$ with the **loss function** $L\\left(w, b\\right)  = \\frac{1}{2}\\left(\\hat{y}^{(i)} - y^{(i)}\\right)^2$ for each of the training examples. Division by $2$ is taken just for scaling purposes, you will see the reason below, calculating partial derivatives.\n",
        "\n",
        "To compare the resulting vector of the predictions $\\hat{Y}$ with the vector $Y$ of original values $y^{(i)}$, you can take an average of the loss function values for each of the training examples:\n",
        "\n",
        "$$E\\left(m, b\\right) = \\frac{1}{2n}\\sum_{i=1}^{n} \\left(\\hat{y}^{(i)} - y^{(i)}\\right)^2 =\n",
        "\\frac{1}{2n}\\sum_{i=1}^{n} \\left(mx^{(i)}+b - y^{(i)}\\right)^2,\\tag{1}$$\n",
        "\n",
        "where $n$ is a number of data points. This function is called the sum of squares **cost function**. To use gradient descent algorithm, calculate partial derivatives as:\n",
        "\n",
        "\\begin{align}\n",
        "\\frac{\\partial E }{ \\partial m } &=\n",
        "\\frac{1}{n}\\sum_{i=1}^{n} \\left(mx^{(i)}+b - y^{(i)}\\right)x^{(i)},\\\\\n",
        "\\frac{\\partial E }{ \\partial b } &=\n",
        "\\frac{1}{n}\\sum_{i=1}^{n} \\left(mx^{(i)}+b - y^{(i)}\\right),\n",
        "\\tag{2}\\end{align}\n",
        "\n",
        "and update the parameters iteratively using the expressions\n",
        "\n",
        "\\begin{align}\n",
        "m &= m - \\alpha \\frac{\\partial E }{ \\partial m },\\\\\n",
        "b &= b - \\alpha \\frac{\\partial E }{ \\partial b },\n",
        "\\tag{3}\\end{align}\n",
        "\n",
        "where $\\alpha$ is the learning rate."
      ]
    },
    {
      "cell_type": "markdown",
      "metadata": {
        "id": "gVSKqPQy6053"
      },
      "source": [
        "Original arrays `X` and `Y` have different units. To make gradient descent algorithm efficient, you need to bring them to the same units. A common approach to it is called **normalization**: substract the mean value of the array from each of the elements in the array and divide them by standard deviation (a statistical measure of the amount of dispersion of a set of values). If you are not familiar with mean and standard deviation, do not worry about this for now - this is covered in the next Course of Specialization.\n",
        "\n",
        "Normalization is not compulsory - gradient descent would work without it. But due to different units of `X` and `Y`, the cost function will be much steeper. Then you would need to take a significantly smaller learning rate $\\alpha$, and the algorithm will require thousands of iterations to converge instead of a few dozens. Normalization helps to increase the efficiency of the gradient descent algorithm.\n",
        "\n",
        "Normalization is implemented in the following code:"
      ]
    },
    {
      "cell_type": "code",
      "execution_count": 72,
      "metadata": {
        "tags": [
          "graded"
        ],
        "id": "1yt-D4O06053"
      },
      "outputs": [],
      "source": [
        "X_norm = (X - np.mean(X))/np.std(X)\n",
        "Y_norm = (Y - np.mean(Y))/np.std(Y)"
      ]
    },
    {
      "cell_type": "markdown",
      "metadata": {
        "id": "FUoZxUtA6053"
      },
      "source": [
        "Define cost function according to the equation $(1)$:"
      ]
    },
    {
      "cell_type": "code",
      "execution_count": 74,
      "metadata": {
        "tags": [
          "graded"
        ],
        "id": "e1emIWy16053"
      },
      "outputs": [],
      "source": [
        "def E(m, b, X, Y):\n",
        "    return 1/(2*len(Y))*np.sum((m*X + b - Y)**2)"
      ]
    },
    {
      "cell_type": "markdown",
      "metadata": {
        "id": "XWaf7CA06054"
      },
      "source": [
        "<a name='ex05'></a>\n",
        "### Exercise 5\n",
        "\n",
        "\n",
        "Define functions `dEdm` and `dEdb` to calculate partial derivatives according to the equations $(2)$. This can be done using vector form of the input data `X` and `Y`."
      ]
    },
    {
      "cell_type": "code",
      "execution_count": 101,
      "metadata": {
        "tags": [
          "graded"
        ],
        "id": "i8QioysF6054"
      },
      "outputs": [],
      "source": [
        "def dEdm(m, b, X, Y):\n",
        "    ### START CODE HERE ### (~ 1 line of code)\n",
        "    # Use the following line as a hint, replacing all None.\n",
        "    res = np.sum(np.dot(m*X + b - Y , X ))/ len(X)\n",
        "    ### END CODE HERE ###\n",
        "\n",
        "    return res\n",
        "\n",
        "\n",
        "def dEdb(m, b, X, Y):\n",
        "    ### START CODE HERE ### (~ 1 line of code)\n",
        "    # Replace None writing the required expression fully.\n",
        "    res = np.sum(m*X + b - Y )/ len(X)\n",
        "    ### END CODE HERE ###\n",
        "\n",
        "    return res\n"
      ]
    },
    {
      "cell_type": "code",
      "execution_count": 103,
      "metadata": {
        "tags": [
          "graded"
        ],
        "id": "4k4MPV5_6054",
        "outputId": "457978fa-7856-4c58-c9cf-5bbeac5df64a",
        "colab": {
          "base_uri": "https://localhost:8080/"
        }
      },
      "outputs": [
        {
          "output_type": "stream",
          "name": "stdout",
          "text": [
            "-0.7822244248616065\n",
            "1.687538997430238e-16\n",
            "0.21777557513839418\n",
            "5.000000000000001\n"
          ]
        }
      ],
      "source": [
        "print(dEdm(0, 0, X_norm, Y_norm))\n",
        "print(dEdb(0, 0, X_norm, Y_norm))\n",
        "print(dEdm(1, 5, X_norm, Y_norm))\n",
        "print(dEdb(1, 5, X_norm, Y_norm))"
      ]
    },
    {
      "cell_type": "markdown",
      "metadata": {
        "id": "HqRXf0X36054"
      },
      "source": [
        "##### __Expected Output__\n",
        "\n",
        "```Python\n",
        "-0.7822244248616067\n",
        "5.098005351200641e-16\n",
        "0.21777557513839355\n",
        "5.000000000000002\n",
        "```"
      ]
    },
    {
      "cell_type": "code",
      "execution_count": 104,
      "metadata": {
        "id": "MPilvcun6055",
        "outputId": "df3edb74-6cef-4746-9171-34a9f2b0f631",
        "colab": {
          "base_uri": "https://localhost:8080/"
        }
      },
      "outputs": [
        {
          "output_type": "stream",
          "name": "stdout",
          "text": [
            "\u001b[92m All tests passed\n"
          ]
        }
      ],
      "source": [
        "w2_unittest.test_partial_derivatives(dEdm, dEdb, X_norm, Y_norm)"
      ]
    },
    {
      "cell_type": "markdown",
      "metadata": {
        "id": "05I2E0J-6055"
      },
      "source": [
        "<a name='ex06'></a>\n",
        "### Exercise 6\n",
        "\n",
        "\n",
        "Implement gradient descent using expressions $(3)$:\n",
        "\\begin{align}\n",
        "m &= m - \\alpha \\frac{\\partial E }{ \\partial m },\\\\\n",
        "b &= b - \\alpha \\frac{\\partial E }{ \\partial b },\n",
        "\\end{align}\n",
        "\n",
        "where $\\alpha$ is the `learning_rate`."
      ]
    },
    {
      "cell_type": "code",
      "execution_count": 108,
      "metadata": {
        "tags": [
          "graded"
        ],
        "id": "7IbOiJpE6055"
      },
      "outputs": [],
      "source": [
        "def gradient_descent(dEdm, dEdb, m, b, X, Y, learning_rate = 0.001, num_iterations = 1000, print_cost=False):\n",
        "    for iteration in range(num_iterations):\n",
        "        ### START CODE HERE ### (~ 2 lines of code)\n",
        "        m_new = m - learning_rate *  dEdm(m, b, X, Y)\n",
        "        b_new = b - learning_rate *  dEdb(m, b, X, Y)\n",
        "        ### END CODE HERE ###\n",
        "        m = m_new\n",
        "        b = b_new\n",
        "        if print_cost:\n",
        "            print (f\"Cost after iteration {iteration}: {E(m, b, X, Y)}\")\n",
        "\n",
        "    return m, b"
      ]
    },
    {
      "cell_type": "code",
      "execution_count": 109,
      "metadata": {
        "tags": [
          "graded"
        ],
        "id": "_xv_UvUw6055",
        "outputId": "8f62af71-05c3-4ada-b2d0-a1012d72d662",
        "colab": {
          "base_uri": "https://localhost:8080/"
        }
      },
      "outputs": [
        {
          "output_type": "stream",
          "name": "stdout",
          "text": [
            "(0.49460408269589484, -1.3667289522345477e-16)\n",
            "(0.9791767513915026, 4.521910375044022)\n"
          ]
        }
      ],
      "source": [
        "print(gradient_descent(dEdm, dEdb, 0, 0, X_norm, Y_norm))\n",
        "print(gradient_descent(dEdm, dEdb, 1, 5, X_norm, Y_norm, learning_rate = 0.01, num_iterations = 10))"
      ]
    },
    {
      "cell_type": "markdown",
      "metadata": {
        "id": "XVrW2S9s6055"
      },
      "source": [
        "##### __Expected Output__\n",
        "\n",
        "```Python\n",
        "(0.49460408269589495, -3.489285249624889e-16)\n",
        "(0.9791767513915026, 4.521910375044022)\n",
        "```"
      ]
    },
    {
      "cell_type": "code",
      "execution_count": 110,
      "metadata": {
        "id": "heqsNG5H6056",
        "outputId": "d2e7d550-50bd-471a-88f9-ea4dda1554e6",
        "colab": {
          "base_uri": "https://localhost:8080/"
        }
      },
      "outputs": [
        {
          "output_type": "stream",
          "name": "stdout",
          "text": [
            "\u001b[92m All tests passed\n"
          ]
        }
      ],
      "source": [
        "w2_unittest.test_gradient_descent(gradient_descent, dEdm, dEdb, X_norm, Y_norm)"
      ]
    },
    {
      "cell_type": "markdown",
      "metadata": {
        "id": "tZ9ikuyY6056"
      },
      "source": [
        "Now run the gradient descent method starting from the initial point $\\left(m_0, b_0\\right)=\\left(0, 0\\right)$."
      ]
    },
    {
      "cell_type": "code",
      "execution_count": 111,
      "metadata": {
        "tags": [
          "graded"
        ],
        "id": "bkWuNitC6056",
        "outputId": "6493fd02-54a7-46c7-f67f-9eb0e0ce37d6",
        "colab": {
          "base_uri": "https://localhost:8080/"
        }
      },
      "outputs": [
        {
          "output_type": "stream",
          "name": "stdout",
          "text": [
            "Cost after iteration 0: 0.2062999755919659\n",
            "Cost after iteration 1: 0.19455197461564455\n",
            "Cost after iteration 2: 0.19408205457659172\n",
            "Cost after iteration 3: 0.19406325777502959\n",
            "Cost after iteration 4: 0.1940625059029671\n",
            "Cost after iteration 5: 0.1940624758280846\n",
            "Cost after iteration 6: 0.1940624746250893\n",
            "Cost after iteration 7: 0.19406247457696948\n",
            "Cost after iteration 8: 0.19406247457504472\n",
            "Cost after iteration 9: 0.19406247457496772\n",
            "Cost after iteration 10: 0.19406247457496462\n",
            "Cost after iteration 11: 0.19406247457496453\n",
            "Cost after iteration 12: 0.19406247457496453\n",
            "Cost after iteration 13: 0.19406247457496448\n",
            "Cost after iteration 14: 0.19406247457496448\n",
            "Cost after iteration 15: 0.19406247457496448\n",
            "Cost after iteration 16: 0.19406247457496448\n",
            "Cost after iteration 17: 0.19406247457496448\n",
            "Cost after iteration 18: 0.19406247457496448\n",
            "Cost after iteration 19: 0.19406247457496448\n",
            "Cost after iteration 20: 0.19406247457496448\n",
            "Cost after iteration 21: 0.19406247457496448\n",
            "Cost after iteration 22: 0.19406247457496448\n",
            "Cost after iteration 23: 0.19406247457496448\n",
            "Cost after iteration 24: 0.19406247457496448\n",
            "Cost after iteration 25: 0.19406247457496448\n",
            "Cost after iteration 26: 0.19406247457496448\n",
            "Cost after iteration 27: 0.19406247457496448\n",
            "Cost after iteration 28: 0.19406247457496448\n",
            "Cost after iteration 29: 0.19406247457496448\n",
            "Gradient descent result: m_min, b_min = 0.7822244248616065, -3.19744231092045e-16\n"
          ]
        }
      ],
      "source": [
        "m_initial = 0; b_initial = 0; num_iterations = 30; learning_rate = 1.2\n",
        "m_gd, b_gd = gradient_descent(dEdm, dEdb, m_initial, b_initial,\n",
        "                              X_norm, Y_norm, learning_rate, num_iterations, print_cost=True)\n",
        "\n",
        "print(f\"Gradient descent result: m_min, b_min = {m_gd}, {b_gd}\")"
      ]
    },
    {
      "cell_type": "markdown",
      "metadata": {
        "id": "kX_KLSVZ6056"
      },
      "source": [
        "Remember, that the initial datasets were normalized. To make the predictions, you need to normalize `X_pred` array, calculate `Y_pred` with the linear regression coefficients `m_gd`, `b_gd` and then **denormalize** the result (perform the reverse process of normalization):"
      ]
    },
    {
      "cell_type": "code",
      "execution_count": 112,
      "metadata": {
        "tags": [
          "graded"
        ],
        "id": "HNnbdQYx6056",
        "outputId": "f0311892-4295-400b-dc6d-b6a54d089ccd",
        "colab": {
          "base_uri": "https://localhost:8080/"
        }
      },
      "outputs": [
        {
          "output_type": "stream",
          "name": "stdout",
          "text": [
            "TV marketing expenses:\n",
            "[ 50 120 280]\n",
            "Predictions of sales using Scikit_Learn linear regression:\n",
            "[[ 9.40942557 12.7369904  20.34285287]]\n",
            "Predictions of sales using Gradient Descent:\n",
            "[ 9.40942557 12.7369904  20.34285287]\n"
          ]
        }
      ],
      "source": [
        "X_pred = np.array([50, 120, 280])\n",
        "# Use the same mean and standard deviation of the original training array X\n",
        "X_pred_norm = (X_pred - np.mean(X))/np.std(X)\n",
        "Y_pred_gd_norm = m_gd * X_pred_norm + b_gd\n",
        "# Use the same mean and standard deviation of the original training array Y\n",
        "Y_pred_gd = Y_pred_gd_norm * np.std(Y) + np.mean(Y)\n",
        "\n",
        "print(f\"TV marketing expenses:\\n{X_pred}\")\n",
        "print(f\"Predictions of sales using Scikit_Learn linear regression:\\n{Y_pred_sklearn.T}\")\n",
        "print(f\"Predictions of sales using Gradient Descent:\\n{Y_pred_gd}\")"
      ]
    },
    {
      "cell_type": "markdown",
      "metadata": {
        "id": "023Eu67p6056"
      },
      "source": [
        "You should have gotten similar results as in the previous sections.\n",
        "\n",
        "Well done! Now you know how gradient descent algorithm can be applied to train a real model. Re-producing results manually for a simple case should give you extra confidence that you understand what happends under the hood of commonly used functions."
      ]
    },
    {
      "cell_type": "code",
      "execution_count": null,
      "metadata": {
        "tags": [
          "graded"
        ],
        "id": "Zi1eBbhZ6056"
      },
      "outputs": [],
      "source": []
    }
  ],
  "metadata": {
    "accelerator": "GPU",
    "colab": {
      "name": "C1_W1_Assignment_Solution.ipynb",
      "provenance": []
    },
    "coursera": {
      "schema_names": [
        "AI4MC1-1"
      ]
    },
    "grader_version": "1",
    "kernelspec": {
      "display_name": "Python 3",
      "language": "python",
      "name": "python3"
    },
    "language_info": {
      "codemirror_mode": {
        "name": "ipython",
        "version": 3
      },
      "file_extension": ".py",
      "mimetype": "text/x-python",
      "name": "python",
      "nbconvert_exporter": "python",
      "pygments_lexer": "ipython3",
      "version": "3.8.8"
    },
    "toc": {
      "base_numbering": 1,
      "nav_menu": {},
      "number_sections": true,
      "sideBar": true,
      "skip_h1_title": false,
      "title_cell": "Table of Contents",
      "title_sidebar": "Contents",
      "toc_cell": false,
      "toc_position": {},
      "toc_section_display": true,
      "toc_window_display": false
    },
    "vscode": {
      "interpreter": {
        "hash": "478841ab876a4250505273c8a697bbc1b6b194054b009c227dc606f17fb56272"
      }
    }
  },
  "nbformat": 4,
  "nbformat_minor": 0
}